{
  "nbformat": 4,
  "nbformat_minor": 0,
  "metadata": {
    "colab": {
      "provenance": [],
      "authorship_tag": "ABX9TyPnu+VuqSP4ag8hLsQkn1U3",
      "include_colab_link": true
    },
    "kernelspec": {
      "name": "python3",
      "display_name": "Python 3"
    },
    "language_info": {
      "name": "python"
    }
  },
  "cells": [
    {
      "cell_type": "markdown",
      "metadata": {
        "id": "view-in-github",
        "colab_type": "text"
      },
      "source": [
        "<a href=\"https://colab.research.google.com/github/WelfLowe/ML4developers/blob/main/0%E2%80%93Sklearn-Tensorflow-PyTorch.ipynb\" target=\"_parent\"><img src=\"https://colab.research.google.com/assets/colab-badge.svg\" alt=\"Open In Colab\"/></a>"
      ]
    },
    {
      "cell_type": "markdown",
      "source": [
        "# Classification on the Iris datasets using Sklearn"
      ],
      "metadata": {
        "id": "fNPMxqmZgetE"
      }
    },
    {
      "cell_type": "markdown",
      "source": [
        "Import necessary libraries."
      ],
      "metadata": {
        "id": "gRVIlLETgyjq"
      }
    },
    {
      "cell_type": "code",
      "execution_count": 219,
      "metadata": {
        "id": "1GtCQGL0gUAc"
      },
      "outputs": [],
      "source": [
        "from sklearn.datasets import load_iris\n",
        "from sklearn.model_selection import train_test_split\n",
        "from sklearn.preprocessing import StandardScaler\n",
        "from sklearn.svm import SVC\n",
        "from sklearn.metrics import accuracy_score\n",
        "from sklearn.metrics import confusion_matrix\n",
        "\n",
        "import matplotlib.pyplot as plt\n",
        "import numpy as np\n",
        "import tqdm"
      ]
    },
    {
      "cell_type": "markdown",
      "source": [
        "## 1. Collect the data"
      ],
      "metadata": {
        "id": "LE2zEQyimLZQ"
      }
    },
    {
      "cell_type": "markdown",
      "source": [
        "Someone has collected the Iris data for us, so we just need to load this dataset and convert it into a $\\verb|numpy|$ array."
      ],
      "metadata": {
        "id": "AeS68bNcg6wb"
      }
    },
    {
      "cell_type": "code",
      "source": [
        "iris = load_iris()\n",
        "print(iris.data.shape)\n",
        "print(iris.target.shape)\n",
        "print(iris.feature_names)\n",
        "print(iris.target_names)\n",
        "X, y = iris.data, iris.target"
      ],
      "metadata": {
        "colab": {
          "base_uri": "https://localhost:8080/"
        },
        "id": "PLHMS56XhAI9",
        "outputId": "600c657c-d8c0-410e-ed6d-0fc985d03226"
      },
      "execution_count": 220,
      "outputs": [
        {
          "output_type": "stream",
          "name": "stdout",
          "text": [
            "(150, 4)\n",
            "(150,)\n",
            "['sepal length (cm)', 'sepal width (cm)', 'petal length (cm)', 'petal width (cm)']\n",
            "['setosa' 'versicolor' 'virginica']\n"
          ]
        }
      ]
    },
    {
      "cell_type": "markdown",
      "source": [
        "## 2. Prepare the data"
      ],
      "metadata": {
        "id": "PonQ7DSdugHf"
      }
    },
    {
      "cell_type": "markdown",
      "source": [
        "Split the data in training and test set"
      ],
      "metadata": {
        "id": "RdHH3WC_aiOE"
      }
    },
    {
      "cell_type": "code",
      "source": [
        "X_train, X_test, y_train, y_test = train_test_split(X, y, test_size=0.3, random_state=42)"
      ],
      "metadata": {
        "id": "0Z-ygEq3muXW"
      },
      "execution_count": 221,
      "outputs": []
    },
    {
      "cell_type": "markdown",
      "source": [
        "Standardize the features"
      ],
      "metadata": {
        "id": "pJPZyD2qo9Bu"
      }
    },
    {
      "cell_type": "code",
      "source": [
        "scaler = StandardScaler()\n",
        "X_train = scaler.fit_transform(X_train)\n",
        "X_test = scaler.transform(X_test)"
      ],
      "metadata": {
        "id": "qRjKYgcppBRo"
      },
      "execution_count": 222,
      "outputs": []
    },
    {
      "cell_type": "markdown",
      "source": [
        "## 3. Set/tune the model"
      ],
      "metadata": {
        "id": "6VkJr_UUp1Xg"
      }
    },
    {
      "cell_type": "markdown",
      "source": [
        "We just select a Support Vector Classifier from the library.\n"
      ],
      "metadata": {
        "id": "HuFZ4zZoqFmm"
      }
    },
    {
      "cell_type": "code",
      "source": [
        "clf = SVC()"
      ],
      "metadata": {
        "id": "jMr09hw2p5IZ"
      },
      "execution_count": 223,
      "outputs": []
    },
    {
      "cell_type": "markdown",
      "source": [
        "## 4. Train the model"
      ],
      "metadata": {
        "id": "6P2b9vHmvMtJ"
      }
    },
    {
      "cell_type": "markdown",
      "source": [
        "We just call one function"
      ],
      "metadata": {
        "id": "iCWZ3IQDvW2I"
      }
    },
    {
      "cell_type": "code",
      "source": [
        "clf.fit(X_train, y_train)"
      ],
      "metadata": {
        "colab": {
          "base_uri": "https://localhost:8080/",
          "height": 74
        },
        "id": "6sbz6JPvvKnC",
        "outputId": "96678548-9973-4524-ef2f-5f1e1fd53345"
      },
      "execution_count": 224,
      "outputs": [
        {
          "output_type": "execute_result",
          "data": {
            "text/plain": [
              "SVC()"
            ],
            "text/html": [
              "<style>#sk-container-id-10 {color: black;background-color: white;}#sk-container-id-10 pre{padding: 0;}#sk-container-id-10 div.sk-toggleable {background-color: white;}#sk-container-id-10 label.sk-toggleable__label {cursor: pointer;display: block;width: 100%;margin-bottom: 0;padding: 0.3em;box-sizing: border-box;text-align: center;}#sk-container-id-10 label.sk-toggleable__label-arrow:before {content: \"▸\";float: left;margin-right: 0.25em;color: #696969;}#sk-container-id-10 label.sk-toggleable__label-arrow:hover:before {color: black;}#sk-container-id-10 div.sk-estimator:hover label.sk-toggleable__label-arrow:before {color: black;}#sk-container-id-10 div.sk-toggleable__content {max-height: 0;max-width: 0;overflow: hidden;text-align: left;background-color: #f0f8ff;}#sk-container-id-10 div.sk-toggleable__content pre {margin: 0.2em;color: black;border-radius: 0.25em;background-color: #f0f8ff;}#sk-container-id-10 input.sk-toggleable__control:checked~div.sk-toggleable__content {max-height: 200px;max-width: 100%;overflow: auto;}#sk-container-id-10 input.sk-toggleable__control:checked~label.sk-toggleable__label-arrow:before {content: \"▾\";}#sk-container-id-10 div.sk-estimator input.sk-toggleable__control:checked~label.sk-toggleable__label {background-color: #d4ebff;}#sk-container-id-10 div.sk-label input.sk-toggleable__control:checked~label.sk-toggleable__label {background-color: #d4ebff;}#sk-container-id-10 input.sk-hidden--visually {border: 0;clip: rect(1px 1px 1px 1px);clip: rect(1px, 1px, 1px, 1px);height: 1px;margin: -1px;overflow: hidden;padding: 0;position: absolute;width: 1px;}#sk-container-id-10 div.sk-estimator {font-family: monospace;background-color: #f0f8ff;border: 1px dotted black;border-radius: 0.25em;box-sizing: border-box;margin-bottom: 0.5em;}#sk-container-id-10 div.sk-estimator:hover {background-color: #d4ebff;}#sk-container-id-10 div.sk-parallel-item::after {content: \"\";width: 100%;border-bottom: 1px solid gray;flex-grow: 1;}#sk-container-id-10 div.sk-label:hover label.sk-toggleable__label {background-color: #d4ebff;}#sk-container-id-10 div.sk-serial::before {content: \"\";position: absolute;border-left: 1px solid gray;box-sizing: border-box;top: 0;bottom: 0;left: 50%;z-index: 0;}#sk-container-id-10 div.sk-serial {display: flex;flex-direction: column;align-items: center;background-color: white;padding-right: 0.2em;padding-left: 0.2em;position: relative;}#sk-container-id-10 div.sk-item {position: relative;z-index: 1;}#sk-container-id-10 div.sk-parallel {display: flex;align-items: stretch;justify-content: center;background-color: white;position: relative;}#sk-container-id-10 div.sk-item::before, #sk-container-id-10 div.sk-parallel-item::before {content: \"\";position: absolute;border-left: 1px solid gray;box-sizing: border-box;top: 0;bottom: 0;left: 50%;z-index: -1;}#sk-container-id-10 div.sk-parallel-item {display: flex;flex-direction: column;z-index: 1;position: relative;background-color: white;}#sk-container-id-10 div.sk-parallel-item:first-child::after {align-self: flex-end;width: 50%;}#sk-container-id-10 div.sk-parallel-item:last-child::after {align-self: flex-start;width: 50%;}#sk-container-id-10 div.sk-parallel-item:only-child::after {width: 0;}#sk-container-id-10 div.sk-dashed-wrapped {border: 1px dashed gray;margin: 0 0.4em 0.5em 0.4em;box-sizing: border-box;padding-bottom: 0.4em;background-color: white;}#sk-container-id-10 div.sk-label label {font-family: monospace;font-weight: bold;display: inline-block;line-height: 1.2em;}#sk-container-id-10 div.sk-label-container {text-align: center;}#sk-container-id-10 div.sk-container {/* jupyter's `normalize.less` sets `[hidden] { display: none; }` but bootstrap.min.css set `[hidden] { display: none !important; }` so we also need the `!important` here to be able to override the default hidden behavior on the sphinx rendered scikit-learn.org. See: https://github.com/scikit-learn/scikit-learn/issues/21755 */display: inline-block !important;position: relative;}#sk-container-id-10 div.sk-text-repr-fallback {display: none;}</style><div id=\"sk-container-id-10\" class=\"sk-top-container\"><div class=\"sk-text-repr-fallback\"><pre>SVC()</pre><b>In a Jupyter environment, please rerun this cell to show the HTML representation or trust the notebook. <br />On GitHub, the HTML representation is unable to render, please try loading this page with nbviewer.org.</b></div><div class=\"sk-container\" hidden><div class=\"sk-item\"><div class=\"sk-estimator sk-toggleable\"><input class=\"sk-toggleable__control sk-hidden--visually\" id=\"sk-estimator-id-10\" type=\"checkbox\" checked><label for=\"sk-estimator-id-10\" class=\"sk-toggleable__label sk-toggleable__label-arrow\">SVC</label><div class=\"sk-toggleable__content\"><pre>SVC()</pre></div></div></div></div></div>"
            ]
          },
          "metadata": {},
          "execution_count": 224
        }
      ]
    },
    {
      "cell_type": "markdown",
      "source": [
        "## 5. Evaluate the model"
      ],
      "metadata": {
        "id": "zwu449YOqawe"
      }
    },
    {
      "cell_type": "markdown",
      "source": [
        "Predict on the test set\n"
      ],
      "metadata": {
        "id": "fe2q4g6ZqQyx"
      }
    },
    {
      "cell_type": "code",
      "source": [
        "y_pred = clf.predict(X_test)"
      ],
      "metadata": {
        "id": "XEriiCRwqisV"
      },
      "execution_count": 225,
      "outputs": []
    },
    {
      "cell_type": "markdown",
      "source": [
        "Evaluate the model's accuracy"
      ],
      "metadata": {
        "id": "y3PlvryAqmqh"
      }
    },
    {
      "cell_type": "code",
      "source": [
        "accuracy = accuracy_score(y_test, y_pred)\n",
        "print(f\"Accuracy: {accuracy:.2f}\")"
      ],
      "metadata": {
        "colab": {
          "base_uri": "https://localhost:8080/"
        },
        "id": "O397AdTCqrlo",
        "outputId": "26e9fbd2-5f1d-49bf-9287-fea6e4fa122e"
      },
      "execution_count": 226,
      "outputs": [
        {
          "output_type": "stream",
          "name": "stdout",
          "text": [
            "Accuracy: 1.00\n"
          ]
        }
      ]
    },
    {
      "cell_type": "markdown",
      "source": [
        "Compute and show the confusion matrix"
      ],
      "metadata": {
        "id": "FRlGP4qhrHIe"
      }
    },
    {
      "cell_type": "code",
      "source": [
        "def ComputeConfusionMatrix(y_test, y_pred):\n",
        "  cm = confusion_matrix(y_test, y_pred)\n",
        "  print(cm)\n",
        "\n",
        "  # Show confusion matrix in a separate window\n",
        "  plt.matshow(cm)\n",
        "  plt.title('Confusion matrix')\n",
        "  plt.colorbar()\n",
        "  plt.ylabel('True label')\n",
        "  plt.xlabel('Predicted label')\n",
        "  plt.show()\n",
        "\n",
        "ComputeConfusionMatrix(y_test, y_pred)\n"
      ],
      "metadata": {
        "colab": {
          "base_uri": "https://localhost:8080/",
          "height": 478
        },
        "id": "YZF19S47rK_6",
        "outputId": "5a81104e-2246-444a-e0e7-0379a0752ac2"
      },
      "execution_count": 227,
      "outputs": [
        {
          "output_type": "stream",
          "name": "stdout",
          "text": [
            "[[19  0  0]\n",
            " [ 0 13  0]\n",
            " [ 0  0 13]]\n"
          ]
        },
        {
          "output_type": "display_data",
          "data": {
            "text/plain": [
              "<Figure size 480x480 with 2 Axes>"
            ],
            "image/png": "[encoded data removed]"
          },
          "metadata": {}
        }
      ]
    },
    {
      "cell_type": "markdown",
      "source": [
        "# Same using Tensorflow\n",
        "\n",
        "Import the libraries. Then continue with step 2."
      ],
      "metadata": {
        "id": "hF1bpzFSmdgo"
      }
    },
    {
      "cell_type": "code",
      "source": [
        "import tensorflow as tf\n",
        "from tensorflow.keras import datasets, layers, models"
      ],
      "metadata": {
        "id": "mUhTfv62mgdZ"
      },
      "execution_count": 228,
      "outputs": []
    },
    {
      "cell_type": "markdown",
      "source": [
        "## 2. Prepare the data\n",
        "\n",
        "\"One-hot\" encoding."
      ],
      "metadata": {
        "id": "TlVU7sje3ZCw"
      }
    },
    {
      "cell_type": "code",
      "source": [
        "y_train_tf = tf.one_hot(y_train, 3)\n",
        "y_test_tf = tf.one_hot(y_test, 3)"
      ],
      "metadata": {
        "id": "7R0xdaWPpTUG"
      },
      "execution_count": 229,
      "outputs": []
    },
    {
      "cell_type": "markdown",
      "source": [
        "## 3. Set/tune the model"
      ],
      "metadata": {
        "id": "aFJMd6Bw3gce"
      }
    },
    {
      "cell_type": "code",
      "source": [
        "model = tf.keras.Sequential([\n",
        "    tf.keras.layers.Dense(50, activation='relu'),\n",
        "    tf.keras.layers.Dense(50, activation='relu'),\n",
        "    tf.keras.layers.Dense(3, activation='softmax')\n",
        "  ])"
      ],
      "metadata": {
        "id": "i74tDW24nSg7"
      },
      "execution_count": 230,
      "outputs": []
    },
    {
      "cell_type": "markdown",
      "source": [
        "Compile the model and define the optimization algorithm."
      ],
      "metadata": {
        "id": "ooO6q9Ui3k8O"
      }
    },
    {
      "cell_type": "code",
      "source": [
        "model.compile(optimizer='adam',\n",
        "              loss='categorical_crossentropy',\n",
        "              metrics=['accuracy'])"
      ],
      "metadata": {
        "id": "PCZcK9fboZni"
      },
      "execution_count": 231,
      "outputs": []
    },
    {
      "cell_type": "markdown",
      "source": [
        "## 4. Train the model"
      ],
      "metadata": {
        "id": "ijw_FTS35Hyw"
      }
    },
    {
      "cell_type": "code",
      "source": [
        "EPOCHS=100\n",
        "history = model.fit(X_train, y_train_tf, batch_size=50, epochs=EPOCHS, validation_data=(X_test, y_test_tf))"
      ],
      "metadata": {
        "id": "D6Gm2jXlo9PT",
        "outputId": "05dcadf8-8494-4779-9174-d58b0c1eb1c2",
        "colab": {
          "base_uri": "https://localhost:8080/"
        }
      },
      "execution_count": 232,
      "outputs": [
        {
          "output_type": "stream",
          "name": "stdout",
          "text": [
            "Epoch 1/100\n",
            "3/3 [==============================] - 1s 152ms/step - loss: 1.0468 - accuracy: 0.5238 - val_loss: 1.0259 - val_accuracy: 0.4444\n",
            "Epoch 2/100\n",
            "3/3 [==============================] - 0s 34ms/step - loss: 0.9640 - accuracy: 0.5333 - val_loss: 0.9393 - val_accuracy: 0.6000\n",
            "Epoch 3/100\n",
            "3/3 [==============================] - 0s 26ms/step - loss: 0.8934 - accuracy: 0.6571 - val_loss: 0.8593 - val_accuracy: 0.8222\n",
            "Epoch 4/100\n",
            "3/3 [==============================] - 0s 36ms/step - loss: 0.8277 - accuracy: 0.8000 - val_loss: 0.7888 - val_accuracy: 0.8444\n",
            "Epoch 5/100\n",
            "3/3 [==============================] - 0s 35ms/step - loss: 0.7700 - accuracy: 0.8381 - val_loss: 0.7279 - val_accuracy: 0.8444\n",
            "Epoch 6/100\n",
            "3/3 [==============================] - 0s 25ms/step - loss: 0.7167 - accuracy: 0.8381 - val_loss: 0.6752 - val_accuracy: 0.8444\n",
            "Epoch 7/100\n",
            "3/3 [==============================] - 0s 17ms/step - loss: 0.6694 - accuracy: 0.8286 - val_loss: 0.6294 - val_accuracy: 0.8444\n",
            "Epoch 8/100\n",
            "3/3 [==============================] - 0s 18ms/step - loss: 0.6293 - accuracy: 0.8190 - val_loss: 0.5882 - val_accuracy: 0.8444\n",
            "Epoch 9/100\n",
            "3/3 [==============================] - 0s 16ms/step - loss: 0.5936 - accuracy: 0.8190 - val_loss: 0.5531 - val_accuracy: 0.8444\n",
            "Epoch 10/100\n",
            "3/3 [==============================] - 0s 19ms/step - loss: 0.5614 - accuracy: 0.8190 - val_loss: 0.5215 - val_accuracy: 0.8444\n",
            "Epoch 11/100\n",
            "3/3 [==============================] - 0s 27ms/step - loss: 0.5324 - accuracy: 0.8190 - val_loss: 0.4927 - val_accuracy: 0.8444\n",
            "Epoch 12/100\n",
            "3/3 [==============================] - 0s 16ms/step - loss: 0.5058 - accuracy: 0.8190 - val_loss: 0.4674 - val_accuracy: 0.8444\n",
            "Epoch 13/100\n",
            "3/3 [==============================] - 0s 25ms/step - loss: 0.4827 - accuracy: 0.8190 - val_loss: 0.4454 - val_accuracy: 0.8444\n",
            "Epoch 14/100\n",
            "3/3 [==============================] - 0s 17ms/step - loss: 0.4624 - accuracy: 0.8190 - val_loss: 0.4258 - val_accuracy: 0.8444\n",
            "Epoch 15/100\n",
            "3/3 [==============================] - 0s 17ms/step - loss: 0.4439 - accuracy: 0.8286 - val_loss: 0.4089 - val_accuracy: 0.8444\n",
            "Epoch 16/100\n",
            "3/3 [==============================] - 0s 17ms/step - loss: 0.4279 - accuracy: 0.8381 - val_loss: 0.3942 - val_accuracy: 0.8444\n",
            "Epoch 17/100\n",
            "3/3 [==============================] - 0s 16ms/step - loss: 0.4145 - accuracy: 0.8476 - val_loss: 0.3818 - val_accuracy: 0.8444\n",
            "Epoch 18/100\n",
            "3/3 [==============================] - 0s 19ms/step - loss: 0.4020 - accuracy: 0.8476 - val_loss: 0.3705 - val_accuracy: 0.8444\n",
            "Epoch 19/100\n",
            "3/3 [==============================] - 0s 17ms/step - loss: 0.3901 - accuracy: 0.8476 - val_loss: 0.3604 - val_accuracy: 0.8444\n",
            "Epoch 20/100\n",
            "3/3 [==============================] - 0s 16ms/step - loss: 0.3795 - accuracy: 0.8571 - val_loss: 0.3507 - val_accuracy: 0.8444\n",
            "Epoch 21/100\n",
            "3/3 [==============================] - 0s 18ms/step - loss: 0.3694 - accuracy: 0.8571 - val_loss: 0.3416 - val_accuracy: 0.8444\n",
            "Epoch 22/100\n",
            "3/3 [==============================] - 0s 17ms/step - loss: 0.3601 - accuracy: 0.8667 - val_loss: 0.3326 - val_accuracy: 0.8444\n",
            "Epoch 23/100\n",
            "3/3 [==============================] - 0s 17ms/step - loss: 0.3509 - accuracy: 0.8571 - val_loss: 0.3240 - val_accuracy: 0.8667\n",
            "Epoch 24/100\n",
            "3/3 [==============================] - 0s 30ms/step - loss: 0.3420 - accuracy: 0.8571 - val_loss: 0.3149 - val_accuracy: 0.8667\n",
            "Epoch 25/100\n",
            "3/3 [==============================] - 0s 18ms/step - loss: 0.3344 - accuracy: 0.8571 - val_loss: 0.3071 - val_accuracy: 0.8667\n",
            "Epoch 26/100\n",
            "3/3 [==============================] - 0s 25ms/step - loss: 0.3272 - accuracy: 0.8571 - val_loss: 0.2998 - val_accuracy: 0.8667\n",
            "Epoch 27/100\n",
            "3/3 [==============================] - 0s 17ms/step - loss: 0.3204 - accuracy: 0.8571 - val_loss: 0.2926 - val_accuracy: 0.8667\n",
            "Epoch 28/100\n",
            "3/3 [==============================] - 0s 17ms/step - loss: 0.3138 - accuracy: 0.8667 - val_loss: 0.2855 - val_accuracy: 0.8667\n",
            "Epoch 29/100\n",
            "3/3 [==============================] - 0s 17ms/step - loss: 0.3081 - accuracy: 0.8667 - val_loss: 0.2784 - val_accuracy: 0.8667\n",
            "Epoch 30/100\n",
            "3/3 [==============================] - 0s 16ms/step - loss: 0.3026 - accuracy: 0.8857 - val_loss: 0.2721 - val_accuracy: 0.8667\n",
            "Epoch 31/100\n",
            "3/3 [==============================] - 0s 17ms/step - loss: 0.2967 - accuracy: 0.8857 - val_loss: 0.2662 - val_accuracy: 0.8667\n",
            "Epoch 32/100\n",
            "3/3 [==============================] - 0s 17ms/step - loss: 0.2906 - accuracy: 0.8857 - val_loss: 0.2599 - val_accuracy: 0.8667\n",
            "Epoch 33/100\n",
            "3/3 [==============================] - 0s 26ms/step - loss: 0.2873 - accuracy: 0.8952 - val_loss: 0.2539 - val_accuracy: 0.8889\n",
            "Epoch 34/100\n",
            "3/3 [==============================] - 0s 17ms/step - loss: 0.2838 - accuracy: 0.8952 - val_loss: 0.2483 - val_accuracy: 0.8889\n",
            "Epoch 35/100\n",
            "3/3 [==============================] - 0s 17ms/step - loss: 0.2789 - accuracy: 0.8952 - val_loss: 0.2427 - val_accuracy: 0.8889\n",
            "Epoch 36/100\n",
            "3/3 [==============================] - 0s 17ms/step - loss: 0.2730 - accuracy: 0.8952 - val_loss: 0.2372 - val_accuracy: 0.8889\n",
            "Epoch 37/100\n",
            "3/3 [==============================] - 0s 26ms/step - loss: 0.2676 - accuracy: 0.8952 - val_loss: 0.2323 - val_accuracy: 0.8889\n",
            "Epoch 38/100\n",
            "3/3 [==============================] - 0s 17ms/step - loss: 0.2624 - accuracy: 0.8952 - val_loss: 0.2273 - val_accuracy: 0.8889\n",
            "Epoch 39/100\n",
            "3/3 [==============================] - 0s 18ms/step - loss: 0.2579 - accuracy: 0.9048 - val_loss: 0.2225 - val_accuracy: 0.8889\n",
            "Epoch 40/100\n",
            "3/3 [==============================] - 0s 17ms/step - loss: 0.2535 - accuracy: 0.9048 - val_loss: 0.2183 - val_accuracy: 0.8889\n",
            "Epoch 41/100\n",
            "3/3 [==============================] - 0s 16ms/step - loss: 0.2487 - accuracy: 0.9048 - val_loss: 0.2148 - val_accuracy: 0.8889\n",
            "Epoch 42/100\n",
            "3/3 [==============================] - 0s 17ms/step - loss: 0.2440 - accuracy: 0.9048 - val_loss: 0.2121 - val_accuracy: 0.8889\n",
            "Epoch 43/100\n",
            "3/3 [==============================] - 0s 16ms/step - loss: 0.2397 - accuracy: 0.8952 - val_loss: 0.2110 - val_accuracy: 0.8889\n",
            "Epoch 44/100\n",
            "3/3 [==============================] - 0s 18ms/step - loss: 0.2370 - accuracy: 0.8952 - val_loss: 0.2101 - val_accuracy: 0.8889\n",
            "Epoch 45/100\n",
            "3/3 [==============================] - 0s 16ms/step - loss: 0.2333 - accuracy: 0.8857 - val_loss: 0.2065 - val_accuracy: 0.8889\n",
            "Epoch 46/100\n",
            "3/3 [==============================] - 0s 25ms/step - loss: 0.2306 - accuracy: 0.8857 - val_loss: 0.2030 - val_accuracy: 0.8889\n",
            "Epoch 47/100\n",
            "3/3 [==============================] - 0s 17ms/step - loss: 0.2266 - accuracy: 0.8952 - val_loss: 0.1984 - val_accuracy: 0.8889\n",
            "Epoch 48/100\n",
            "3/3 [==============================] - 0s 18ms/step - loss: 0.2230 - accuracy: 0.8952 - val_loss: 0.1937 - val_accuracy: 0.8889\n",
            "Epoch 49/100\n",
            "3/3 [==============================] - 0s 16ms/step - loss: 0.2184 - accuracy: 0.9143 - val_loss: 0.1867 - val_accuracy: 0.8889\n",
            "Epoch 50/100\n",
            "3/3 [==============================] - 0s 17ms/step - loss: 0.2141 - accuracy: 0.9143 - val_loss: 0.1808 - val_accuracy: 0.8889\n",
            "Epoch 51/100\n",
            "3/3 [==============================] - 0s 17ms/step - loss: 0.2106 - accuracy: 0.9238 - val_loss: 0.1743 - val_accuracy: 0.9333\n",
            "Epoch 52/100\n",
            "3/3 [==============================] - 0s 20ms/step - loss: 0.2076 - accuracy: 0.9333 - val_loss: 0.1685 - val_accuracy: 0.9556\n",
            "Epoch 53/100\n",
            "3/3 [==============================] - 0s 18ms/step - loss: 0.2042 - accuracy: 0.9333 - val_loss: 0.1641 - val_accuracy: 0.9556\n",
            "Epoch 54/100\n",
            "3/3 [==============================] - 0s 17ms/step - loss: 0.2017 - accuracy: 0.9333 - val_loss: 0.1594 - val_accuracy: 0.9556\n",
            "Epoch 55/100\n",
            "3/3 [==============================] - 0s 17ms/step - loss: 0.1981 - accuracy: 0.9238 - val_loss: 0.1556 - val_accuracy: 0.9556\n",
            "Epoch 56/100\n",
            "3/3 [==============================] - 0s 17ms/step - loss: 0.1945 - accuracy: 0.9238 - val_loss: 0.1518 - val_accuracy: 0.9556\n",
            "Epoch 57/100\n",
            "3/3 [==============================] - 0s 16ms/step - loss: 0.1912 - accuracy: 0.9238 - val_loss: 0.1473 - val_accuracy: 0.9556\n",
            "Epoch 58/100\n",
            "3/3 [==============================] - 0s 18ms/step - loss: 0.1899 - accuracy: 0.9333 - val_loss: 0.1429 - val_accuracy: 0.9556\n",
            "Epoch 59/100\n",
            "3/3 [==============================] - 0s 17ms/step - loss: 0.1878 - accuracy: 0.9333 - val_loss: 0.1390 - val_accuracy: 0.9778\n",
            "Epoch 60/100\n",
            "3/3 [==============================] - 0s 18ms/step - loss: 0.1850 - accuracy: 0.9333 - val_loss: 0.1350 - val_accuracy: 0.9778\n",
            "Epoch 61/100\n",
            "3/3 [==============================] - 0s 17ms/step - loss: 0.1836 - accuracy: 0.9333 - val_loss: 0.1311 - val_accuracy: 0.9778\n",
            "Epoch 62/100\n",
            "3/3 [==============================] - 0s 17ms/step - loss: 0.1807 - accuracy: 0.9333 - val_loss: 0.1275 - val_accuracy: 0.9778\n",
            "Epoch 63/100\n",
            "3/3 [==============================] - 0s 20ms/step - loss: 0.1764 - accuracy: 0.9333 - val_loss: 0.1241 - val_accuracy: 0.9778\n",
            "Epoch 64/100\n",
            "3/3 [==============================] - 0s 27ms/step - loss: 0.1706 - accuracy: 0.9429 - val_loss: 0.1216 - val_accuracy: 0.9778\n",
            "Epoch 65/100\n",
            "3/3 [==============================] - 0s 19ms/step - loss: 0.1661 - accuracy: 0.9429 - val_loss: 0.1205 - val_accuracy: 0.9778\n",
            "Epoch 66/100\n",
            "3/3 [==============================] - 0s 18ms/step - loss: 0.1623 - accuracy: 0.9524 - val_loss: 0.1202 - val_accuracy: 0.9778\n",
            "Epoch 67/100\n",
            "3/3 [==============================] - 0s 17ms/step - loss: 0.1601 - accuracy: 0.9619 - val_loss: 0.1201 - val_accuracy: 0.9778\n",
            "Epoch 68/100\n",
            "3/3 [==============================] - 0s 22ms/step - loss: 0.1586 - accuracy: 0.9619 - val_loss: 0.1191 - val_accuracy: 0.9778\n",
            "Epoch 69/100\n",
            "3/3 [==============================] - 0s 17ms/step - loss: 0.1565 - accuracy: 0.9619 - val_loss: 0.1183 - val_accuracy: 1.0000\n",
            "Epoch 70/100\n",
            "3/3 [==============================] - 0s 17ms/step - loss: 0.1552 - accuracy: 0.9619 - val_loss: 0.1180 - val_accuracy: 1.0000\n",
            "Epoch 71/100\n",
            "3/3 [==============================] - 0s 17ms/step - loss: 0.1542 - accuracy: 0.9714 - val_loss: 0.1162 - val_accuracy: 1.0000\n",
            "Epoch 72/100\n",
            "3/3 [==============================] - 0s 18ms/step - loss: 0.1522 - accuracy: 0.9714 - val_loss: 0.1150 - val_accuracy: 1.0000\n",
            "Epoch 73/100\n",
            "3/3 [==============================] - 0s 26ms/step - loss: 0.1506 - accuracy: 0.9714 - val_loss: 0.1121 - val_accuracy: 1.0000\n",
            "Epoch 74/100\n",
            "3/3 [==============================] - 0s 19ms/step - loss: 0.1476 - accuracy: 0.9714 - val_loss: 0.1075 - val_accuracy: 1.0000\n",
            "Epoch 75/100\n",
            "3/3 [==============================] - 0s 17ms/step - loss: 0.1432 - accuracy: 0.9714 - val_loss: 0.1011 - val_accuracy: 1.0000\n",
            "Epoch 76/100\n",
            "3/3 [==============================] - 0s 17ms/step - loss: 0.1393 - accuracy: 0.9619 - val_loss: 0.0957 - val_accuracy: 1.0000\n",
            "Epoch 77/100\n",
            "3/3 [==============================] - 0s 17ms/step - loss: 0.1363 - accuracy: 0.9619 - val_loss: 0.0916 - val_accuracy: 1.0000\n",
            "Epoch 78/100\n",
            "3/3 [==============================] - 0s 18ms/step - loss: 0.1332 - accuracy: 0.9619 - val_loss: 0.0878 - val_accuracy: 1.0000\n",
            "Epoch 79/100\n",
            "3/3 [==============================] - 0s 17ms/step - loss: 0.1319 - accuracy: 0.9619 - val_loss: 0.0839 - val_accuracy: 1.0000\n",
            "Epoch 80/100\n",
            "3/3 [==============================] - 0s 17ms/step - loss: 0.1322 - accuracy: 0.9429 - val_loss: 0.0814 - val_accuracy: 1.0000\n",
            "Epoch 81/100\n",
            "3/3 [==============================] - 0s 17ms/step - loss: 0.1298 - accuracy: 0.9429 - val_loss: 0.0805 - val_accuracy: 1.0000\n",
            "Epoch 82/100\n",
            "3/3 [==============================] - 0s 17ms/step - loss: 0.1254 - accuracy: 0.9524 - val_loss: 0.0805 - val_accuracy: 1.0000\n",
            "Epoch 83/100\n",
            "3/3 [==============================] - 0s 17ms/step - loss: 0.1242 - accuracy: 0.9619 - val_loss: 0.0822 - val_accuracy: 1.0000\n",
            "Epoch 84/100\n",
            "3/3 [==============================] - 0s 17ms/step - loss: 0.1226 - accuracy: 0.9619 - val_loss: 0.0824 - val_accuracy: 1.0000\n",
            "Epoch 85/100\n",
            "3/3 [==============================] - 0s 18ms/step - loss: 0.1219 - accuracy: 0.9714 - val_loss: 0.0811 - val_accuracy: 1.0000\n",
            "Epoch 86/100\n",
            "3/3 [==============================] - 0s 17ms/step - loss: 0.1201 - accuracy: 0.9714 - val_loss: 0.0783 - val_accuracy: 1.0000\n",
            "Epoch 87/100\n",
            "3/3 [==============================] - 0s 18ms/step - loss: 0.1175 - accuracy: 0.9714 - val_loss: 0.0743 - val_accuracy: 1.0000\n",
            "Epoch 88/100\n",
            "3/3 [==============================] - 0s 28ms/step - loss: 0.1147 - accuracy: 0.9714 - val_loss: 0.0714 - val_accuracy: 1.0000\n",
            "Epoch 89/100\n",
            "3/3 [==============================] - 0s 29ms/step - loss: 0.1127 - accuracy: 0.9714 - val_loss: 0.0695 - val_accuracy: 1.0000\n",
            "Epoch 90/100\n",
            "3/3 [==============================] - 0s 20ms/step - loss: 0.1111 - accuracy: 0.9714 - val_loss: 0.0677 - val_accuracy: 1.0000\n",
            "Epoch 91/100\n",
            "3/3 [==============================] - 0s 28ms/step - loss: 0.1097 - accuracy: 0.9714 - val_loss: 0.0660 - val_accuracy: 1.0000\n",
            "Epoch 92/100\n",
            "3/3 [==============================] - 0s 17ms/step - loss: 0.1083 - accuracy: 0.9714 - val_loss: 0.0648 - val_accuracy: 1.0000\n",
            "Epoch 93/100\n",
            "3/3 [==============================] - 0s 17ms/step - loss: 0.1068 - accuracy: 0.9714 - val_loss: 0.0646 - val_accuracy: 1.0000\n",
            "Epoch 94/100\n",
            "3/3 [==============================] - 0s 17ms/step - loss: 0.1059 - accuracy: 0.9714 - val_loss: 0.0635 - val_accuracy: 1.0000\n",
            "Epoch 95/100\n",
            "3/3 [==============================] - 0s 20ms/step - loss: 0.1048 - accuracy: 0.9714 - val_loss: 0.0620 - val_accuracy: 1.0000\n",
            "Epoch 96/100\n",
            "3/3 [==============================] - 0s 17ms/step - loss: 0.1038 - accuracy: 0.9714 - val_loss: 0.0607 - val_accuracy: 1.0000\n",
            "Epoch 97/100\n",
            "3/3 [==============================] - 0s 26ms/step - loss: 0.1006 - accuracy: 0.9714 - val_loss: 0.0576 - val_accuracy: 1.0000\n",
            "Epoch 98/100\n",
            "3/3 [==============================] - 0s 26ms/step - loss: 0.1006 - accuracy: 0.9619 - val_loss: 0.0564 - val_accuracy: 1.0000\n",
            "Epoch 99/100\n",
            "3/3 [==============================] - 0s 17ms/step - loss: 0.1006 - accuracy: 0.9524 - val_loss: 0.0557 - val_accuracy: 1.0000\n",
            "Epoch 100/100\n",
            "3/3 [==============================] - 0s 17ms/step - loss: 0.1012 - accuracy: 0.9524 - val_loss: 0.0548 - val_accuracy: 1.0000\n"
          ]
        }
      ]
    },
    {
      "cell_type": "markdown",
      "source": [
        "## 5. Evaluate the model"
      ],
      "metadata": {
        "id": "ZeHJ3hm35OHc"
      }
    },
    {
      "cell_type": "code",
      "source": [
        "colors = plt.rcParams['axes.prop_cycle'].by_key()['color']\n",
        "def plot_metrics(history):\n",
        "    metrics =  ['accuracy','loss',]\n",
        "    for n, metric in enumerate(metrics):\n",
        "        name = metric.replace(\"_\",\" \").capitalize()\n",
        "        plt.subplot(2,1,n+1)\n",
        "        plt.plot(history.epoch, history.history[metric], color=colors[0], label='Train')\n",
        "        plt.plot(history.epoch, history.history['val_'+ metric], color=colors[1], linestyle=\"--\", label='Val')\n",
        "        plt.xlabel('Epoch')\n",
        "        plt.ylabel(name)\n",
        "        plt.ylim([-0.1,1.1])\n",
        "        plt.legend()\n",
        "\n",
        "plot_metrics(history)"
      ],
      "metadata": {
        "id": "s9C500gcrOcC",
        "outputId": "0b2e9705-b358-43e0-9675-fac6722a87e3",
        "colab": {
          "base_uri": "https://localhost:8080/",
          "height": 449
        }
      },
      "execution_count": 233,
      "outputs": [
        {
          "output_type": "display_data",
          "data": {
            "text/plain": [
              "<Figure size 640x480 with 2 Axes>"
            ],
            "image/png": "[encoded data removed]"
          },
          "metadata": {}
        }
      ]
    },
    {
      "cell_type": "code",
      "source": [
        "loss, accuracy = model.evaluate(X_test, y_test_tf, verbose=0)\n",
        "print('Test loss:', loss)\n",
        "print('Test accuracy:', accuracy)\n"
      ],
      "metadata": {
        "id": "0WOqoQuUpspf",
        "outputId": "7fde4c55-683f-4bd9-8e25-6fabc762d273",
        "colab": {
          "base_uri": "https://localhost:8080/"
        }
      },
      "execution_count": 234,
      "outputs": [
        {
          "output_type": "stream",
          "name": "stdout",
          "text": [
            "Test loss: 0.05483091250061989\n",
            "Test accuracy: 1.0\n"
          ]
        }
      ]
    },
    {
      "cell_type": "code",
      "source": [
        "y_pred_tf = model.predict(X_test)"
      ],
      "metadata": {
        "id": "oBnAgX1Pp3WZ",
        "outputId": "30d4c32b-0bfe-4d4d-97c4-ade89d29dd76",
        "colab": {
          "base_uri": "https://localhost:8080/"
        }
      },
      "execution_count": 235,
      "outputs": [
        {
          "output_type": "stream",
          "name": "stdout",
          "text": [
            "2/2 [==============================] - 0s 5ms/step\n"
          ]
        }
      ]
    },
    {
      "cell_type": "code",
      "source": [
        "y_pred = np.argmax(y_pred_tf,axis=1)"
      ],
      "metadata": {
        "id": "iBwD2fWiqBMX"
      },
      "execution_count": 236,
      "outputs": []
    },
    {
      "cell_type": "code",
      "source": [
        "ComputeConfusionMatrix(y_test, y_pred)"
      ],
      "metadata": {
        "id": "DfNQ6P5DqRXT",
        "outputId": "47a87258-b44f-495f-89ce-e86a1cb995f1",
        "colab": {
          "base_uri": "https://localhost:8080/",
          "height": 478
        }
      },
      "execution_count": 237,
      "outputs": [
        {
          "output_type": "stream",
          "name": "stdout",
          "text": [
            "[[19  0  0]\n",
            " [ 0 13  0]\n",
            " [ 0  0 13]]\n"
          ]
        },
        {
          "output_type": "display_data",
          "data": {
            "text/plain": [
              "<Figure size 480x480 with 2 Axes>"
            ],
            "image/png": "[encoded data removed]"
          },
          "metadata": {}
        }
      ]
    },
    {
      "cell_type": "markdown",
      "source": [
        "# Same using PyTorch\n",
        "\n",
        "Import the libraries. Then continue with step 3.\n"
      ],
      "metadata": {
        "id": "w9sfJZzUVATp"
      }
    },
    {
      "cell_type": "code",
      "source": [
        "import torch\n",
        "import torch.nn.functional as F\n",
        "import torch.nn as nn\n",
        "from torch.autograd import Variable"
      ],
      "metadata": {
        "id": "Vk0K7JAHVHK9"
      },
      "execution_count": 238,
      "outputs": []
    },
    {
      "cell_type": "markdown",
      "source": [
        "## 3. Set/tune the model"
      ],
      "metadata": {
        "id": "t7W4dj3sbTce"
      }
    },
    {
      "cell_type": "code",
      "source": [
        "class Model(nn.Module):\n",
        "    def __init__(self, input_dim):\n",
        "        super(Model, self).__init__()\n",
        "        self.layer1 = nn.Linear(input_dim, 50)\n",
        "        self.layer2 = nn.Linear(50, 50)\n",
        "        self.layer3 = nn.Linear(50, 3)\n",
        "\n",
        "    def forward(self, x):\n",
        "        x = F.relu(self.layer1(x))\n",
        "        x = F.relu(self.layer2(x))\n",
        "        x = F.softmax(self.layer3(x), dim=1)\n",
        "        return x"
      ],
      "metadata": {
        "id": "thYU75q6VTKO"
      },
      "execution_count": 239,
      "outputs": []
    },
    {
      "cell_type": "code",
      "source": [
        "model     = Model(X_train.shape[1])\n",
        "optimizer = torch.optim.Adam(model.parameters(), lr=0.001)\n",
        "loss_fn   = nn.CrossEntropyLoss()\n",
        "model\n"
      ],
      "metadata": {
        "id": "OWq2enoDVzK9",
        "outputId": "d8d0c4f1-6319-42fb-ffc7-8325cd350eb1",
        "colab": {
          "base_uri": "https://localhost:8080/"
        }
      },
      "execution_count": 240,
      "outputs": [
        {
          "output_type": "execute_result",
          "data": {
            "text/plain": [
              "Model(\n",
              "  (layer1): Linear(in_features=4, out_features=50, bias=True)\n",
              "  (layer2): Linear(in_features=50, out_features=50, bias=True)\n",
              "  (layer3): Linear(in_features=50, out_features=3, bias=True)\n",
              ")"
            ]
          },
          "metadata": {},
          "execution_count": 240
        }
      ]
    },
    {
      "cell_type": "markdown",
      "source": [
        "## 4. Train the model"
      ],
      "metadata": {
        "id": "NQBg-JwbbiPE"
      }
    },
    {
      "cell_type": "code",
      "source": [
        "EPOCHS  = 150\n",
        "X_train_py = Variable(torch.from_numpy(X_train)).float()\n",
        "y_train_py = Variable(torch.from_numpy(y_train)).long()\n",
        "X_test_py  = Variable(torch.from_numpy(X_test)).float()\n",
        "y_test_py  = Variable(torch.from_numpy(y_test)).long()\n",
        "\n",
        "loss_list     = np.zeros((EPOCHS,))\n",
        "accuracy_list = np.zeros((EPOCHS,))\n",
        "\n",
        "for epoch in tqdm.trange(EPOCHS):\n",
        "    y_pred_py = model(X_train_py)\n",
        "    loss = loss_fn(y_pred_py, y_train_py)\n",
        "    loss_list[epoch] = loss.item()\n",
        "\n",
        "    # Zero gradients\n",
        "    optimizer.zero_grad()\n",
        "    loss.backward()\n",
        "    optimizer.step()\n",
        "\n",
        "    with torch.no_grad():\n",
        "        y_pred_py = model(X_test_py)\n",
        "        correct = (torch.argmax(y_pred_py, dim=1) == y_test_py).type(torch.FloatTensor)\n",
        "        accuracy_list[epoch] = correct.mean()"
      ],
      "metadata": {
        "id": "4g8zidcxWB7y",
        "outputId": "8cd75854-c94e-4fd3-c87f-64d286dc01d2",
        "colab": {
          "base_uri": "https://localhost:8080/"
        }
      },
      "execution_count": 241,
      "outputs": [
        {
          "output_type": "stream",
          "name": "stderr",
          "text": [
            "100%|██████████| 150/150 [00:00<00:00, 422.05it/s]\n"
          ]
        }
      ]
    },
    {
      "cell_type": "markdown",
      "source": [
        "## 5. Evaluate the model"
      ],
      "metadata": {
        "id": "HUa712YSbdjF"
      }
    },
    {
      "cell_type": "code",
      "source": [
        "fig, (ax1, ax2) = plt.subplots(2, 1)\n",
        "\n",
        "ax1.plot(accuracy_list)\n",
        "ax1.set_ylabel(\"validation accuracy\")\n",
        "ax2.plot(loss_list)\n",
        "ax2.set_ylabel(\"validation loss\")\n",
        "ax2.set_xlabel(\"epochs\");"
      ],
      "metadata": {
        "id": "zq2Is9HaXMDB",
        "outputId": "db3dbb2e-92b6-4fb0-84e2-6bc0c8efd775",
        "colab": {
          "base_uri": "https://localhost:8080/",
          "height": 449
        }
      },
      "execution_count": 242,
      "outputs": [
        {
          "output_type": "display_data",
          "data": {
            "text/plain": [
              "<Figure size 640x480 with 2 Axes>"
            ],
            "image/png": "[encoded data removed]"
          },
          "metadata": {}
        }
      ]
    },
    {
      "cell_type": "code",
      "source": [
        "y_pred_py = model(X_test_py)\n",
        "y_test_np = y_test_py.detach().numpy()\n",
        "y_pred_np = (torch.argmax(y_pred_py, dim=1)).detach().numpy()\n",
        "\n",
        "accuracy = accuracy_score(y_test_np, y_pred_np)\n",
        "print(f\"Accuracy: {accuracy:.2f}\")\n",
        "\n",
        "ComputeConfusionMatrix(y_test_np, y_pred_np)\n"
      ],
      "metadata": {
        "id": "abgedRTqXgsJ",
        "outputId": "d1fbca9d-5933-483c-d54f-0baca74e85b7",
        "colab": {
          "base_uri": "https://localhost:8080/",
          "height": 495
        }
      },
      "execution_count": 243,
      "outputs": [
        {
          "output_type": "stream",
          "name": "stdout",
          "text": [
            "Accuracy: 1.00\n",
            "[[19  0  0]\n",
            " [ 0 13  0]\n",
            " [ 0  0 13]]\n"
          ]
        },
        {
          "output_type": "display_data",
          "data": {
            "text/plain": [
              "<Figure size 480x480 with 2 Axes>"
            ],
            "image/png": "[encoded data removed]"
          },
          "metadata": {}
        }
      ]
    }
  ]
}