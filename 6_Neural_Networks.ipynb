{
  "nbformat": 4,
  "nbformat_minor": 0,
  "metadata": {
    "colab": {
      "provenance": [],
      "authorship_tag": "ABX9TyN62rzhKJHXx8yfAmEqB90b",
      "include_colab_link": true
    },
    "kernelspec": {
      "name": "python3",
      "display_name": "Python 3"
    },
    "language_info": {
      "name": "python"
    }
  },
  "cells": [
    {
      "cell_type": "markdown",
      "metadata": {
        "id": "view-in-github",
        "colab_type": "text"
      },
      "source": [
        "<a href=\"https://colab.research.google.com/github/WelfLowe/ML4developers/blob/main/6_Neural_Networks.ipynb\" target=\"_parent\"><img src=\"https://colab.research.google.com/assets/colab-badge.svg\" alt=\"Open In Colab\"/></a>"
      ]
    },
    {
      "cell_type": "markdown",
      "source": [
        "# Artificial Neural Networks (ANN)"
      ],
      "metadata": {
        "id": "umm2PC8ADd1U"
      }
    },
    {
      "cell_type": "markdown",
      "source": [
        "ANN can be used for classification and for regression tasks. Below we demonstrate both."
      ],
      "metadata": {
        "id": "a9_5bfqJY5H3"
      }
    },
    {
      "cell_type": "markdown",
      "source": [
        "## ANN for classification"
      ],
      "metadata": {
        "id": "ygkKiJHXbOGa"
      }
    },
    {
      "cell_type": "markdown",
      "source": [
        "We classify data from the IRIS data set with an ANN. It has the following architecture: \n",
        "\n",
        "<img src=\"https://github.com/WelfLowe/ML4developers/blob/main/images/ANN_classification.png?raw=true\" width=400>."
      ],
      "metadata": {
        "id": "qW7VkUeIY2Ap"
      }
    },
    {
      "cell_type": "markdown",
      "source": [
        "This is first part merely a copy of the tutorial on \"Gradient descent on a Softmax cross-entropy cost function\" found [here](https://madalinabuzau.github.io/2016/11/29/gradient-descent-on-a-softmax-cross-entropy-cost-function.html).\n",
        "\n",
        "I adapted it to our running example of Iris classification and added history plots and some documentation."
      ],
      "metadata": {
        "id": "Pw33ENgJEE25"
      }
    },
    {
      "cell_type": "markdown",
      "source": [
        "Import useful libraries."
      ],
      "metadata": {
        "id": "kip2JHJxD4UB"
      }
    },
    {
      "cell_type": "code",
      "source": [
        "from sklearn.datasets import make_classification \n",
        "import matplotlib.pyplot as plt\n",
        "import numpy as np\n",
        "from sklearn import datasets\n",
        "from sklearn.model_selection import train_test_split\n",
        "\n",
        "import pandas as pd\n",
        "import sys\n",
        "\n",
        "import tensorflow as tf\n",
        "from tensorflow import keras\n",
        "from keras.layers import Input, Dense\n",
        "from keras.models import Sequential\n",
        "from keras.utils import to_categorical \n",
        "from keras.callbacks import EarlyStopping"
      ],
      "metadata": {
        "id": "J7E24BdxDiKh"
      },
      "execution_count": 75,
      "outputs": []
    },
    {
      "cell_type": "markdown",
      "source": [
        "Import Iris data."
      ],
      "metadata": {
        "id": "_21Sug-BDnlq"
      }
    },
    {
      "cell_type": "code",
      "source": [
        "iris = datasets.load_iris()\n",
        "X = iris.data\n",
        "y = iris.target"
      ],
      "metadata": {
        "id": "ux7MktMUDrgM"
      },
      "execution_count": 76,
      "outputs": []
    },
    {
      "cell_type": "markdown",
      "source": [
        "Create a class for a Softmax linear classifier. Methods:\n",
        "* $\\verb|get_loss_grads|$ returns the gradients of the loss wrt. the weights and biases. It is used internally in the gradient descent methods.\n",
        "* $\\verb|train|$ optimizes the loss using gradient descent for a fixed number of iterations, i.e., it trains the model by iteratively adjusting the initial weights and biases in the direction of the negative gradient vector with smaller and smaller steps as the gradient vector approaches zero.  \n",
        "* $\\verb|train_early_stopping|$ same as $\\verb|train|$, but it only stops if the accuracy on the validation set doesn't improve for a number of iterations.\n",
        "* $\\verb|predict|$ uses the model, i.e., the current weights and biases, for predicting classes.\n",
        "* $\\verb|eval|$ uses the model, i.e., the current weights and biases, for evaluating the accuraxy of the prdiction."
      ],
      "metadata": {
        "id": "9uQrsyTUEuey"
      }
    },
    {
      "cell_type": "code",
      "source": [
        "class Softmax(object):    \n",
        "\n",
        "  def __init__(self):\n",
        "    self.W = None\n",
        "    self.b = None\n",
        "    self.history = []\n",
        "    \n",
        "  def get_loss_grads(self, X, y, reg, n_samples):  \n",
        "    # Linear mapping scores\n",
        "    scores = np.dot(X, self.W)+self.b\n",
        "\n",
        "    # Normalize the scores beforehand with max as zero to avoid \n",
        "    # computational problems with the exponential\n",
        "    exp_scores = np.exp(scores - np.max(scores, axis=1, keepdims=True))\n",
        "\n",
        "    # Softmax activation\n",
        "    probs = exp_scores/np.sum(exp_scores, axis=1, keepdims=True)\n",
        "    # Logloss of the correct class for each of our samples\n",
        "    correct_logprobs = -np.log(probs[np.arange(n_samples), y])\n",
        "\n",
        "    # Compute the average loss\n",
        "    loss = np.sum(correct_logprobs)/n_samples\n",
        "\n",
        "    # Add regularization using the L2 norm\n",
        "    reg_loss = 0.5*reg*np.sum(self.W*self.W)\n",
        "    loss += reg_loss\n",
        "    \n",
        "    # Gradient of the loss with respect to scores\n",
        "    dscores = probs.copy()\n",
        "\n",
        "    # Substract 1 from the scores of the correct class\n",
        "    dscores[np.arange(n_samples),y] -= 1\n",
        "    dscores /= n_samples\n",
        "\n",
        "    # Gradient of the loss with respect to weights\n",
        "    dW = X.T.dot(dscores) \n",
        "\n",
        "    # Add gradient regularization \n",
        "    dW += reg*self.W\n",
        "\n",
        "    # Gradient of the loss with respect to biases\n",
        "    db = np.sum(dscores, axis=0, keepdims=True)\n",
        "\n",
        "    return loss, dW, db\n",
        "\n",
        "\n",
        "  def train(self, X, y, learning_rate=1e-4, reg=0.5, num_iters=500):\n",
        "    # Get useful parameters\n",
        "    n_features = X.shape[1]   \n",
        "    n_samples = X.shape[0] \n",
        "    n_classes = len(np.unique(y))\n",
        "    \n",
        "    # Initialize weights from a normal distribution and the biases with zeros\n",
        "    if (self.W is None) & (self.b is None):\n",
        "      np.random.seed(2016) # for reproducible results\n",
        "      self.W = np.random.normal(loc=0.0, scale=1e-4, size=(n_features, n_classes))\n",
        "      self.b = np.zeros((1, n_classes))\n",
        "        \n",
        "    for iter in range(num_iters):\n",
        "      # Get loss and gradients\n",
        "      loss, dW, db = self.get_loss_grads(X, y, reg, n_samples)\n",
        "      \n",
        "      # update weights and biases\n",
        "      self.W -= learning_rate*dW\n",
        "      self.b -= learning_rate*db\n",
        "\n",
        "      # Compute validation accuracy\n",
        "      accuracy = self.eval(X,y)\n",
        "      self.history.append(accuracy)\n",
        "        \n",
        "        \n",
        "  def train_early_stopping(self, X_train, y_train, X_val, y_val, learning_rate=1e-4, reg=0.5, early_stopping_rounds=200):\n",
        "    # Get useful parameters_train\n",
        "    n_features = X_train.shape[1]   \n",
        "    n_samples = X_train.shape[0] \n",
        "    n_classes = len(np.unique(y))\n",
        "    \n",
        "    # Initialize weights from a normal distribution and the biases with zeros\n",
        "    if (self.W is None) & (self.b is None):\n",
        "      np.random.seed(2016) # for reproducible results\n",
        "      self.W = np.random.normal(loc=0.0, scale=1e-4, size=(n_features, n_classes))\n",
        "      self.b = np.zeros((1, n_classes))\n",
        "\n",
        "    # Stores best accuracy found \n",
        "    best_val_accuracy = -1\n",
        "    \n",
        "    # Stores the weights and biases of the best iteration\n",
        "    best_weights, best_bias = None, None\n",
        "    \n",
        "    # Counts the number of no improvements in the accuracy\n",
        "    no_improvement = 0\n",
        "    \n",
        "    # Boolean variable which helps us get out of the while loop\n",
        "    keep_training = True\n",
        "        \n",
        "    while keep_training:\n",
        "        \n",
        "      # Get loss and gradients\n",
        "      loss, dW, db = self.get_loss_grads(X_train, y_train, reg, n_samples)\n",
        "    \n",
        "      # update weights and biases\n",
        "      self.W -= learning_rate*dW\n",
        "      self.b -= learning_rate*db\n",
        "              \n",
        "      # Compute validation accuracy\n",
        "      val_accuracy = self.eval(X_val,y_val)\n",
        "      train_accuracy = self.eval(X_train,y_train)\n",
        "\n",
        "      self.history.append([val_accuracy,train_accuracy])\n",
        "\n",
        "      if val_accuracy>best_val_accuracy:\n",
        "        best_val_accuracy = val_accuracy\n",
        "        best_weights, best_bias = self.W, self.b\n",
        "        # reset count\n",
        "        no_improvement = 0\n",
        "      else:\n",
        "        no_improvement += 1\n",
        "        \n",
        "      if no_improvement == early_stopping_rounds:\n",
        "        self.W, self.b = best_weights, best_bias\n",
        "        keep_training = False\n",
        "      \n",
        "      \n",
        "  def predict(self, X):\n",
        "    y_pred = np.dot(X, self.W)+self.b\n",
        "    y_pred=np.argmax(y_pred, axis=1)\n",
        "\n",
        "    return y_pred\n",
        "\n",
        "  def eval(self, X, y):\n",
        "    return np.mean(self.predict(X)==y)"
      ],
      "metadata": {
        "id": "Nlt5DPSNFZJ3"
      },
      "execution_count": 77,
      "outputs": []
    },
    {
      "cell_type": "markdown",
      "source": [
        "Function for plotting the training history."
      ],
      "metadata": {
        "id": "DyLRZ7wrHf2M"
      }
    },
    {
      "cell_type": "code",
      "source": [
        "def plot_history(history, labels):\n",
        "  x = range(len(history))\n",
        "  hist_arr = np.asarray(history)\n",
        "  if hist_arr.ndim==1:\n",
        "    plt.plot(x, hist_arr, label=labels );\n",
        "  else:\n",
        "    i = 0\n",
        "    for hist_row in hist_arr.transpose():\n",
        "      plt.plot(x, hist_row, label = labels[i]);\n",
        "      i += 1 \n",
        "    \n",
        "  plt.title(\"Improvement of model performance over epochs\")\n",
        "  plt.xlabel(\"epochs\")\n",
        "  plt.ylabel(\"performance\");\n",
        "  plt.legend();"
      ],
      "metadata": {
        "id": "Pf4n0TNR3eBH"
      },
      "execution_count": 78,
      "outputs": []
    },
    {
      "cell_type": "markdown",
      "source": [
        "Train and assess the model on the whole dataset using a fixed number of training iterations."
      ],
      "metadata": {
        "id": "cgY2SFXrHnU7"
      }
    },
    {
      "cell_type": "code",
      "source": [
        "softmax = Softmax()\n",
        "softmax.train( X, y, learning_rate=1e-2, reg=0.1, num_iters=500)\n",
        "print('Accuracy', softmax.eval(X, y))\n",
        "plot_history(softmax.history, 'acc')"
      ],
      "metadata": {
        "colab": {
          "base_uri": "https://localhost:8080/",
          "height": 313
        },
        "id": "oGhcMzNU650c",
        "outputId": "ede1502c-5dcc-40cd-895e-7104fa186bc6"
      },
      "execution_count": 79,
      "outputs": [
        {
          "output_type": "stream",
          "name": "stdout",
          "text": [
            "Accuracy 0.8866666666666667\n"
          ]
        },
        {
          "output_type": "display_data",
          "data": {
            "text/plain": [
              "<Figure size 432x288 with 1 Axes>"
            ],
            "image/png": "[encoded data removed]"
          },
          "metadata": {
            "needs_background": "light"
          }
        }
      ]
    },
    {
      "cell_type": "markdown",
      "source": [
        "Train and assess the model on the dataset split into training and validation subsets using early stopping."
      ],
      "metadata": {
        "id": "rKAgcM2IHsRy"
      }
    },
    {
      "cell_type": "code",
      "source": [
        "# Split dataset into training and validation\n",
        "X_train, X_val, y_train, y_val = train_test_split(X, y, test_size=0.2, random_state=42) #random_state=2\n",
        "\n",
        "# Train with early stopping\n",
        "softmax = Softmax()\n",
        "softmax.train_early_stopping( X_train, y_train, X_val, y_val, learning_rate=1e-2, reg=0.1, early_stopping_rounds=300)\n",
        "print('Training accuracy', softmax.eval(X_train, y_train))\n",
        "print('Validation accuracy', softmax.eval(X_val, y_val))\n",
        "plot_history(softmax.history, ['val acc', 'train acc'])"
      ],
      "metadata": {
        "colab": {
          "base_uri": "https://localhost:8080/",
          "height": 331
        },
        "id": "7wxFHZC41X1J",
        "outputId": "d0df7771-e172-4765-b97b-114411fa3bf1"
      },
      "execution_count": 80,
      "outputs": [
        {
          "output_type": "stream",
          "name": "stdout",
          "text": [
            "Training accuracy 0.95\n",
            "Validation accuracy 1.0\n"
          ]
        },
        {
          "output_type": "display_data",
          "data": {
            "text/plain": [
              "<Figure size 432x288 with 1 Axes>"
            ],
            "image/png": "[encoded data removed]"
          },
          "metadata": {
            "needs_background": "light"
          }
        }
      ]
    },
    {
      "cell_type": "markdown",
      "source": [
        "Build the same model using Tensorflow/Keras. Not that the result needs to be one-hot encoded (a vector or result classes with the ground truth class encoded as 1 and the others as 0."
      ],
      "metadata": {
        "id": "Vv-TmQa96Fvw"
      }
    },
    {
      "cell_type": "code",
      "source": [
        "n_classes = len(np.unique(y))\n",
        "n_features = X.shape[1]\n",
        "y_hot = to_categorical(y, n_classes)"
      ],
      "metadata": {
        "id": "5UbZO2KjImsY"
      },
      "execution_count": 81,
      "outputs": []
    },
    {
      "cell_type": "code",
      "source": [
        "def get_Softmax2_model():\n",
        "  model = Sequential()\n",
        "  model.add(Dense(n_classes, input_dim=n_features, activation='softmax'))\n",
        "  model.compile(optimizer='adam',\n",
        "\t\t\tloss='categorical_crossentropy',\n",
        "\t\t\tmetrics=['accuracy'])\n",
        "  model.summary()\n",
        "  return model"
      ],
      "metadata": {
        "id": "bxjz9uW76jYw"
      },
      "execution_count": 82,
      "outputs": []
    },
    {
      "cell_type": "code",
      "source": [
        "softmax = get_Softmax2_model()\n",
        "r = softmax.fit(X, y_hot, epochs=500, verbose=0)"
      ],
      "metadata": {
        "colab": {
          "base_uri": "https://localhost:8080/"
        },
        "id": "ighYjztr7aEu",
        "outputId": "dfb207eb-e8ce-4d15-a995-df14e57960e4"
      },
      "execution_count": 83,
      "outputs": [
        {
          "output_type": "stream",
          "name": "stdout",
          "text": [
            "Model: \"sequential_14\"\n",
            "_________________________________________________________________\n",
            " Layer (type)                Output Shape              Param #   \n",
            "=================================================================\n",
            " dense_17 (Dense)            (None, 3)                 15        \n",
            "                                                                 \n",
            "=================================================================\n",
            "Total params: 15\n",
            "Trainable params: 15\n",
            "Non-trainable params: 0\n",
            "_________________________________________________________________\n"
          ]
        }
      ]
    },
    {
      "cell_type": "code",
      "source": [
        "plt.plot(r.history['accuracy'], label='acc')\n",
        "plt.legend()\n",
        "result = softmax.evaluate(X, y_hot)\n",
        "print('Loss, Acc', result)"
      ],
      "metadata": {
        "colab": {
          "base_uri": "https://localhost:8080/",
          "height": 301
        },
        "id": "GgFAcD7bDQzL",
        "outputId": "256b8dd9-8cd5-47b7-c98c-3410d743766d"
      },
      "execution_count": 84,
      "outputs": [
        {
          "output_type": "stream",
          "name": "stdout",
          "text": [
            "5/5 [==============================] - 0s 2ms/step - loss: 0.3273 - accuracy: 0.9733\n",
            "Loss, Acc [0.32734930515289307, 0.9733333587646484]\n"
          ]
        },
        {
          "output_type": "display_data",
          "data": {
            "text/plain": [
              "<Figure size 432x288 with 1 Axes>"
            ],
            "image/png": "[encoded data removed]"
          },
          "metadata": {
            "needs_background": "light"
          }
        }
      ]
    },
    {
      "cell_type": "markdown",
      "source": [
        "We create another instance, otherwise we would just continue training the model."
      ],
      "metadata": {
        "id": "UJG5zqtOIx5w"
      }
    },
    {
      "cell_type": "code",
      "source": [
        "y_train_hot = to_categorical(y_train, n_classes)\n",
        "y_val_hot = to_categorical(y_val, n_classes)\n",
        "cb = EarlyStopping(monitor='val_accuracy', mode='max', patience=300)\n",
        "softmax = get_Softmax2_model()\n",
        "r = softmax.fit(X_train, y_train_hot, validation_data=(X_val, y_val_hot), epochs=500, verbose=0, callbacks=[cb])"
      ],
      "metadata": {
        "colab": {
          "base_uri": "https://localhost:8080/"
        },
        "id": "dOynpStMFWjk",
        "outputId": "de971efb-7a88-4663-83d3-93667845bf48"
      },
      "execution_count": 85,
      "outputs": [
        {
          "output_type": "stream",
          "name": "stdout",
          "text": [
            "Model: \"sequential_15\"\n",
            "_________________________________________________________________\n",
            " Layer (type)                Output Shape              Param #   \n",
            "=================================================================\n",
            " dense_18 (Dense)            (None, 3)                 15        \n",
            "                                                                 \n",
            "=================================================================\n",
            "Total params: 15\n",
            "Trainable params: 15\n",
            "Non-trainable params: 0\n",
            "_________________________________________________________________\n"
          ]
        }
      ]
    },
    {
      "cell_type": "code",
      "source": [
        "plt.plot(r.history['accuracy'], label='acc')\n",
        "plt.plot(r.history['val_accuracy'], label='val acc')\n",
        "plt.legend()\n",
        "result_train = softmax.evaluate(X_train, y_train_hot)\n",
        "result_val = softmax.evaluate(X_val, y_val_hot)\n",
        "print('Train Loss, Acc', result_train)\n",
        "print('Val Loss, Acc', result_val)"
      ],
      "metadata": {
        "colab": {
          "base_uri": "https://localhost:8080/",
          "height": 336
        },
        "id": "x4MCegsOHVE2",
        "outputId": "20b768f6-e5e9-4615-d701-e6a587421da6"
      },
      "execution_count": 86,
      "outputs": [
        {
          "output_type": "stream",
          "name": "stdout",
          "text": [
            "4/4 [==============================] - 0s 3ms/step - loss: 0.4773 - accuracy: 0.9167\n",
            "1/1 [==============================] - 0s 18ms/step - loss: 0.4744 - accuracy: 0.9000\n",
            "Train Loss, Acc [0.47732964158058167, 0.9166666865348816]\n",
            "Val Loss, Acc [0.47435295581817627, 0.8999999761581421]\n"
          ]
        },
        {
          "output_type": "display_data",
          "data": {
            "text/plain": [
              "<Figure size 432x288 with 1 Axes>"
            ],
            "image/png": "[encoded data removed]"
          },
          "metadata": {
            "needs_background": "light"
          }
        }
      ]
    },
    {
      "cell_type": "markdown",
      "source": [
        "## ANN for regression"
      ],
      "metadata": {
        "id": "RsaXZuAJbcba"
      }
    },
    {
      "cell_type": "markdown",
      "source": [
        "This second part uses a similar ANN approach for regression. Softmax is not applicable here as we don't want to restrict the output to values between 0 and 1. Also, we use the mean squared error (MSE) as the loss function instead of cross-entropy. This makes it essentially equivalent to linear regression. In is only interesting as the first step towards deep learning where we use several ANN layers and non-linear activation function to regress general functions."
      ],
      "metadata": {
        "id": "skALrewGbfZg"
      }
    },
    {
      "cell_type": "markdown",
      "source": [
        "We predict data from the Boston data set with an ANN. It has the following simple architecture: \n",
        "\n",
        "<img src=\"https://github.com/WelfLowe/ML4developers/blob/main/images/ANN_regression.png?raw=true\" width=400>."
      ],
      "metadata": {
        "id": "lFZ0yzjCbmoS"
      }
    },
    {
      "cell_type": "markdown",
      "source": [
        "We import the Boston dataset."
      ],
      "metadata": {
        "id": "dT3BVmwadcln"
      }
    },
    {
      "cell_type": "code",
      "source": [
        "data_url = \"https://archive.ics.uci.edu/ml/machine-learning-databases/housing/housing.data\"\n",
        "df = pd.read_csv(data_url, sep=\"\\s+\", skiprows=22, header=None)\n",
        "df.columns = ['CRIM','ZN', 'INDUS', 'CHAS', 'NOX', 'RM', 'AGE', 'DIS', 'RAD', 'TAX', 'PTRATIO', 'B', 'LSTAT', 'MEDV']\n",
        "df_X = df.drop('MEDV',axis=1)\n",
        "df_y =df['MEDV']\n",
        "X = df_X.to_numpy()\n",
        "y = df_y.to_numpy()\n",
        "print(X.shape,y.shape)"
      ],
      "metadata": {
        "colab": {
          "base_uri": "https://localhost:8080/"
        },
        "id": "v3gsZbiGniBB",
        "outputId": "28bbbd09-7e5e-4407-c03e-cdee17fc03bf"
      },
      "execution_count": 87,
      "outputs": [
        {
          "output_type": "stream",
          "name": "stdout",
          "text": [
            "(484, 13) (484,)\n"
          ]
        }
      ]
    },
    {
      "cell_type": "markdown",
      "source": [
        "Here the essential changes.\n",
        "\n",
        "We implement the Glorot uniform initializer for setting the initial weights. It draws samples from a uniform random distribution in $-\\textit{limit},\\textit{limit}$  where $\\textit{limit} = \\sqrt{6/(\\textit{idg}+\\textit{odg})}$, and where $\\textit{idg}$ and $\\textit{odg}$ are the number of input (equals the number of features) and output nodes (equals 1), resp. The initial bias $b$ is initiall set to $0$.\n",
        "\n",
        "Prediction works as before whereas evaluation uses MSE.\n",
        "\n",
        "The gradients of the weights and the bias, resp., can be derived using the chain rule of the definitions of MSE and the linear prediction functions. They are calculated as below. "
      ],
      "metadata": {
        "id": "FMX8UPFgdh0Q"
      }
    },
    {
      "cell_type": "code",
      "source": [
        "n_features, n_samples = X.shape[1], X.shape[0]\n",
        "limit = np.sqrt(6/(n_features+1))\n",
        "np.random.seed(42) # for reproducible results\n",
        "W = np.random.uniform(low=-1*limit, high=limit, size=n_features)\n",
        "b = 0\n",
        "y_hat = np.dot(X, W)+b #predict\n",
        "mse = ((y - y_hat)**2).mean() #eval = mse\n",
        "\n",
        "dW = -2*X.T.dot(y - y_hat) /n_samples\n",
        "db = -2*np.sum(y - y_hat) /n_samples\n",
        "\n",
        "mse"
      ],
      "metadata": {
        "id": "qla3SXCKqbN3",
        "colab": {
          "base_uri": "https://localhost:8080/"
        },
        "outputId": "b27e14aa-d373-45af-ca69-b6ff3db2d4e2"
      },
      "execution_count": 88,
      "outputs": [
        {
          "output_type": "execute_result",
          "data": {
            "text/plain": [
              "77753.44563246238"
            ]
          },
          "metadata": {},
          "execution_count": 88
        }
      ]
    },
    {
      "cell_type": "markdown",
      "source": [
        "Given these changes, the regressor class is very similar to the softmax class. Note that in early stopping, MSE is expected to decrease for regression while accuracy is expected to increas. For deciding the stop criterion, we also add an epsilon of 0.1 to consider only significant improvements."
      ],
      "metadata": {
        "id": "C3ZvDTc-g2iL"
      }
    },
    {
      "cell_type": "code",
      "source": [
        "class Regressor(object):    \n",
        "\n",
        "  def __init__(self):\n",
        "    self.W = None\n",
        "    self.b = 0\n",
        "    self.history = []\n",
        "    \n",
        "  def get_loss_grads(self, X, y, reg, n_samples):  \n",
        "    # Linear mapping scores\n",
        "    y_hat = np.dot(X, self.W)+self.b\n",
        "\n",
        "    # Compute the average loss\n",
        "    mse = ((y - y_hat)**2).mean()\n",
        "\n",
        "    # Add regularization using the L2 norm\n",
        "    reg_loss = 0.5*reg*np.sum(self.W*self.W)\n",
        "    mse += reg_loss\n",
        "    \n",
        "    # Gradient of the loss with respect to weights\n",
        "    dW = -2 * X.T.dot(y - y_hat) /n_samples\n",
        "\n",
        "    # Add gradient regularization \n",
        "    dW += reg*self.W\n",
        "\n",
        "    # Gradient of the loss with respect to biases\n",
        "    db = -2 * np.sum(y - y_hat) /n_samples\n",
        "\n",
        "    return mse, dW, db\n",
        "\n",
        "  def init_weights(self, n_features): \n",
        "    # Initialize weights from a normal distribution and the biases with zeros\n",
        "    if (self.W is None):\n",
        "      np.random.seed(42) # for reproducible results\n",
        "      limit = np.sqrt(6/(n_features+1))\n",
        "      self.W = np.random.uniform(low=-1*limit, high=limit, size=n_features)\n",
        "\n",
        "  def train(self, X, y, learning_rate=1e-4, reg=0, num_iters=50):\n",
        "    # Get useful parameters\n",
        "    n_features = X.shape[1]   \n",
        "    n_samples = X.shape[0] \n",
        "    self.init_weights(n_features)\n",
        "    \n",
        "    for iter in range(num_iters):\n",
        "      # Get loss and gradients\n",
        "      mse, dW, db = self.get_loss_grads(X, y, reg, n_samples)\n",
        "      \n",
        "      # update weights and biases\n",
        "      self.W -= learning_rate*dW\n",
        "      self.b -= learning_rate*db\n",
        "\n",
        "      # Compute validation accuracy\n",
        "      mse = self.eval(X, y)\n",
        "      self.history.append(mse)\n",
        "        \n",
        "        \n",
        "  def train_early_stopping(self, X_train, y_train, X_val, y_val, learning_rate=1e-4, reg=0.5, early_stopping_rounds=200):\n",
        "    # Get useful parameters_train\n",
        "    n_features = X_train.shape[1]   \n",
        "    n_samples = X_train.shape[0] \n",
        "    self.init_weights(n_features)\n",
        "\n",
        "    # Stores best accuracy found \n",
        "    best_val_mse = sys.float_info.max\n",
        "    \n",
        "    # Stores the weights and biases of the best iteration\n",
        "    best_weights, best_bias = None, None\n",
        "    \n",
        "    # Counts the number of no improvements in the accuracy\n",
        "    no_improvement = 0\n",
        "    \n",
        "    # Boolean variable which helps us get out of the while loop\n",
        "    keep_training = True\n",
        "        \n",
        "    while keep_training:\n",
        "        \n",
        "      # Get loss and gradients\n",
        "      mse, dW, db = self.get_loss_grads(X_train, y_train, reg, n_samples)\n",
        "    \n",
        "      # update weights and biases\n",
        "      self.W -= learning_rate*dW\n",
        "      self.b -= learning_rate*db\n",
        "              \n",
        "      # Compute validation accuracy\n",
        "      val_mse = self.eval(X_val,y_val)\n",
        "      train_mse = self.eval(X_train,y_train)\n",
        "\n",
        "      self.history.append([val_mse,train_mse])\n",
        "\n",
        "      if val_mse + 0.1 < best_val_mse: #delta > 0.1\n",
        "        best_val_mse = val_mse\n",
        "        best_weights, best_bias = self.W, self.b\n",
        "        # reset count\n",
        "        no_improvement = 0\n",
        "      else:\n",
        "        no_improvement += 1\n",
        "        \n",
        "      if no_improvement == early_stopping_rounds:\n",
        "        self.W, self.b = best_weights, best_bias\n",
        "        keep_training = False\n",
        "      \n",
        "      \n",
        "  def predict(self, X):\n",
        "    y_hat = np.dot(X, self.W)+self.b\n",
        "    return y_hat\n",
        "\n",
        "  def eval(self, X, y):\n",
        "    y_hat = self.predict(X)\n",
        "    return ((y - y_hat)**2).mean()"
      ],
      "metadata": {
        "id": "UiaVi3Uzt3Rv"
      },
      "execution_count": 89,
      "outputs": []
    },
    {
      "cell_type": "markdown",
      "source": [
        "Training with a fixed number of 1000 iterations. Mind the changed learning rate."
      ],
      "metadata": {
        "id": "U6dYBlethvAH"
      }
    },
    {
      "cell_type": "code",
      "source": [
        "np.random.seed(42) # for reproducible results\n",
        "\n",
        "regressor = Regressor()\n",
        "regressor.train( X, y, learning_rate=1e-6, reg=0.1, num_iters=1000)\n",
        "print('MSE', regressor.eval(X, y))\n",
        "plot_history(regressor.history, 'mse')"
      ],
      "metadata": {
        "colab": {
          "base_uri": "https://localhost:8080/",
          "height": 313
        },
        "id": "1qFhNwf_z8py",
        "outputId": "2c7891d1-7482-42d7-a10d-ca7e591986e1"
      },
      "execution_count": 90,
      "outputs": [
        {
          "output_type": "stream",
          "name": "stdout",
          "text": [
            "MSE 133.44673063538275\n"
          ]
        },
        {
          "output_type": "display_data",
          "data": {
            "text/plain": [
              "<Figure size 432x288 with 1 Axes>"
            ],
            "image/png": "[encoded data removed]"
          },
          "metadata": {
            "needs_background": "light"
          }
        }
      ]
    },
    {
      "cell_type": "markdown",
      "source": [
        "Training and evaluating with early stopping."
      ],
      "metadata": {
        "id": "jMrYu-EFh6Yp"
      }
    },
    {
      "cell_type": "code",
      "source": [
        "np.random.seed(42) # for reproducible results\n",
        "\n",
        "# Split dataset into training and validation\n",
        "X_train, X_val, y_train, y_val = train_test_split(X, y, test_size=0.2, random_state=42) \n",
        "\n",
        "# Train with early stopping\n",
        "regressor = Regressor()\n",
        "regressor.train_early_stopping( X_train, y_train, X_val, y_val, learning_rate=1e-6, reg=0.1, early_stopping_rounds=10)\n",
        "print('Training MSE', regressor.eval(X_train, y_train))\n",
        "print('Validation MSE', regressor.eval(X_val, y_val))\n",
        "plot_history(regressor.history, ['val mse', 'train mse'])"
      ],
      "metadata": {
        "colab": {
          "base_uri": "https://localhost:8080/",
          "height": 331
        },
        "id": "lCO1jbZo8fAZ",
        "outputId": "cf09f154-3a3c-48ad-d882-a483bd053bd4"
      },
      "execution_count": 91,
      "outputs": [
        {
          "output_type": "stream",
          "name": "stdout",
          "text": [
            "Training MSE 121.54840464468273\n",
            "Validation MSE 103.81981067162394\n"
          ]
        },
        {
          "output_type": "display_data",
          "data": {
            "text/plain": [
              "<Figure size 432x288 with 1 Axes>"
            ],
            "image/png": "[encoded data removed]"
          },
          "metadata": {
            "needs_background": "light"
          }
        }
      ]
    },
    {
      "cell_type": "markdown",
      "source": [
        "Building the same ANN with Tensorflow/Keras."
      ],
      "metadata": {
        "id": "9kjdeGVDYcuV"
      }
    },
    {
      "cell_type": "code",
      "source": [
        "def get_Regression_model():\n",
        "  model = Sequential()\n",
        "  model.add(Dense(1, input_dim=n_features, activation='linear'))\n",
        "  model.compile(optimizer='adam',\n",
        "\t\t\tloss='mse',\n",
        "\t\t\tmetrics=['mse'])\n",
        "  model.summary()\n",
        "  return model"
      ],
      "metadata": {
        "id": "rK9cDlnqWcK3"
      },
      "execution_count": 92,
      "outputs": []
    },
    {
      "cell_type": "code",
      "source": [
        "regressor = get_Regression_model()\n",
        "r = regressor.fit(X, y, epochs=500, verbose=0)"
      ],
      "metadata": {
        "id": "csJGkSqRXaLj",
        "outputId": "f2f675c8-c554-45c9-f1a4-86d23021647a",
        "colab": {
          "base_uri": "https://localhost:8080/"
        }
      },
      "execution_count": 93,
      "outputs": [
        {
          "output_type": "stream",
          "name": "stdout",
          "text": [
            "Model: \"sequential_16\"\n",
            "_________________________________________________________________\n",
            " Layer (type)                Output Shape              Param #   \n",
            "=================================================================\n",
            " dense_19 (Dense)            (None, 1)                 14        \n",
            "                                                                 \n",
            "=================================================================\n",
            "Total params: 14\n",
            "Trainable params: 14\n",
            "Non-trainable params: 0\n",
            "_________________________________________________________________\n"
          ]
        }
      ]
    },
    {
      "cell_type": "code",
      "source": [
        "plt.plot(r.history['mse'], label='mse')\n",
        "plt.legend()\n",
        "result = regressor.evaluate(X, y)\n",
        "print('MSE', result[0])"
      ],
      "metadata": {
        "id": "KM77TrVoYIW_",
        "outputId": "e017d6b7-3356-4cae-dc31-1702a195a4bf",
        "colab": {
          "base_uri": "https://localhost:8080/",
          "height": 304
        }
      },
      "execution_count": 94,
      "outputs": [
        {
          "output_type": "stream",
          "name": "stdout",
          "text": [
            "16/16 [==============================] - 0s 2ms/step - loss: 38.5642 - mse: 38.5642\n",
            "MSE 38.56416702270508\n"
          ]
        },
        {
          "output_type": "display_data",
          "data": {
            "text/plain": [
              "<Figure size 432x288 with 1 Axes>"
            ],
            "image/png": "[encoded data removed]"
          },
          "metadata": {
            "needs_background": "light"
          }
        }
      ]
    },
    {
      "cell_type": "code",
      "source": [
        "cb = EarlyStopping(monitor='val_mse', mode='min', min_delta=0.1, patience=10)\n",
        "regressor = get_Regression_model()\n",
        "r = regressor.fit(X_train, y_train, validation_data=(X_val, y_val), epochs=1000, verbose=0, callbacks=[cb])"
      ],
      "metadata": {
        "id": "q1a1cq8OYrDn",
        "outputId": "4a1410d0-e715-4bf2-ec07-f115228064d1",
        "colab": {
          "base_uri": "https://localhost:8080/"
        }
      },
      "execution_count": 95,
      "outputs": [
        {
          "output_type": "stream",
          "name": "stdout",
          "text": [
            "Model: \"sequential_17\"\n",
            "_________________________________________________________________\n",
            " Layer (type)                Output Shape              Param #   \n",
            "=================================================================\n",
            " dense_20 (Dense)            (None, 1)                 14        \n",
            "                                                                 \n",
            "=================================================================\n",
            "Total params: 14\n",
            "Trainable params: 14\n",
            "Non-trainable params: 0\n",
            "_________________________________________________________________\n"
          ]
        }
      ]
    },
    {
      "cell_type": "code",
      "source": [
        "plt.plot(r.history['mse'], label='mse')\n",
        "plt.plot(r.history['val_mse'], label='val mse')\n",
        "plt.legend()\n",
        "\n",
        "result_train = regressor.evaluate(X_train, y_train)\n",
        "result_val = regressor.evaluate(X_val, y_val)\n",
        "print('Training MSE', result_train[0])\n",
        "print('Validation MSE', result_val[0])"
      ],
      "metadata": {
        "id": "CYtFf1QWZUms",
        "outputId": "c5d6fc2a-08af-48a4-985b-5d146f55201f",
        "colab": {
          "base_uri": "https://localhost:8080/",
          "height": 336
        }
      },
      "execution_count": 96,
      "outputs": [
        {
          "output_type": "stream",
          "name": "stdout",
          "text": [
            "13/13 [==============================] - 0s 2ms/step - loss: 54.9720 - mse: 54.9720\n",
            "4/4 [==============================] - 0s 3ms/step - loss: 65.3027 - mse: 65.3027\n",
            "Training MSE 54.97203063964844\n",
            "Validation MSE 65.3027114868164\n"
          ]
        },
        {
          "output_type": "display_data",
          "data": {
            "text/plain": [
              "<Figure size 432x288 with 1 Axes>"
            ],
            "image/png": "[encoded data removed]"
          },
          "metadata": {
            "needs_background": "light"
          }
        }
      ]
    },
    {
      "cell_type": "markdown",
      "source": [
        "## Advanced: Two Layer ANN and Back-Propagation "
      ],
      "metadata": {
        "id": "gz_YM5uaoxPa"
      }
    },
    {
      "cell_type": "markdown",
      "source": [
        "Now, we a another layer of \"neurons\" and a non-linear \"activation\" function for each neuron in the first layer. This allows the optimization to train a non-linear model. Details about the example are explained [here](https://www.youtube.com/watch?v=dxZ8a-oIu7U)."
      ],
      "metadata": {
        "id": "2C2y285rqbyp"
      }
    },
    {
      "cell_type": "markdown",
      "source": [
        "Again we predict data from the Boston data set with an ANN. It has the following two-layered architecture: \n",
        "\n",
        "<img src=\"https://github.com/WelfLowe/ML4developers/blob/main/images/ANN_regression2.png?raw=true\" width=400>."
      ],
      "metadata": {
        "id": "_61i8Zkub7hd"
      }
    },
    {
      "cell_type": "markdown",
      "source": [
        "We transpose both the predictors and the responses, i.e., data points are encoded in columns instead of row."
      ],
      "metadata": {
        "id": "Uu094RscNAZ1"
      }
    },
    {
      "cell_type": "code",
      "source": [
        "XT = X.T\n",
        "yT = y.reshape(1, -1)\n",
        "print(XT.shape, yT.shape)"
      ],
      "metadata": {
        "colab": {
          "base_uri": "https://localhost:8080/"
        },
        "id": "jSZvDw6ROSKj",
        "outputId": "5ca12848-60e1-4236-9b6b-e722f92a63a7"
      },
      "execution_count": 97,
      "outputs": [
        {
          "output_type": "stream",
          "name": "stdout",
          "text": [
            "(13, 484) (1, 484)\n"
          ]
        }
      ]
    },
    {
      "cell_type": "markdown",
      "source": [
        "Next we define a non-linear activation function. We use the [sigmoid](https://en.wikipedia.org/wiki/Sigmoid_function) instead of the softmax activation function as in the classification example above. Both map input values to $[0,1]$; please find a cpmarison [here](https://medium.com/arteos-ai/the-differences-between-sigmoid-and-softmax-activation-function-12adee8cf322)."
      ],
      "metadata": {
        "id": "zszcGc-mNagF"
      }
    },
    {
      "cell_type": "code",
      "source": [
        "sigmoid = lambda x: 1 / (1 + np.exp(-x))"
      ],
      "metadata": {
        "id": "nUU8t095T-Bc"
      },
      "execution_count": 98,
      "outputs": []
    },
    {
      "cell_type": "markdown",
      "source": [
        "For demonstration, we\n",
        "- initialize the weight matrices and bias vectors of the two layers ($\\verb|W1,b1,W2,b2|$), \n",
        "- compute a prediction (vector) of *all* datapoints ($\\verb|y2|$), \n",
        "- compute the loss of the prediction ($\\verb|mse|$) by two simple matrix mutiplications with the application of the sigmoid activation in between,\n",
        "- compute the gradients of ($\\verb|W1,b1,W2,b2|$), and\n",
        "- check if the gradients of weights and biases have the same shape as the respective weight matrix and bias vector."
      ],
      "metadata": {
        "id": "on7_7L8KPg76"
      }
    },
    {
      "cell_type": "code",
      "source": [
        "np.random.seed(42) # for reproducible results\n",
        "\n",
        "n_features, n_samples = XT.shape[0], XT.shape[1]\n",
        "print(\"features, samples\",n_features, n_samples)\n",
        "limit1 = np.sqrt(6/(n_features+3))\n",
        "W1 = np.random.uniform(low=-limit1, high=limit1, size=(3, n_features))\n",
        "b1 = np.zeros((3,1))\n",
        "limit2 = np.sqrt(6/(3+1))\n",
        "W2 = np.random.uniform(low=-limit2, high=limit2, size=(1, 3))\n",
        "b2 = np.zeros((1,1))\n",
        "\n",
        "#predict\n",
        "y1 = np.matmul(W1, XT)+b1 # level 1 neurons\n",
        "s=sigmoid(y1)\n",
        "y2 = np.matmul(W2, s)+b2 # level 2 neurons\n",
        "\n",
        "#eval \n",
        "mse = ((yT - y2)**2).mean() #eval = mse\n",
        "\n",
        "#gradients\n",
        "dy2 = 2 *(y2-yT)\n",
        "dW2 = np.matmul(dy2, s.T) \n",
        "db2 = np.matmul(dy2, np.ones((n_samples,1)))\n",
        "ds = np.matmul(W2.T, dy2) \n",
        "dy1 = ds * s * sigmoid(1-s)\n",
        "dW1 = np.matmul(dy1, X) #XT transposed back \n",
        "db1 = np.matmul(dy1, np.ones((n_samples,1))) \n",
        "\n",
        "#check shapes\n",
        "print(W1.shape,dW1.shape)\n",
        "print(b1.shape,db1.shape)\n",
        "print(W2.shape,dW2.shape)\n",
        "print(b2.shape,db2.shape)"
      ],
      "metadata": {
        "colab": {
          "base_uri": "https://localhost:8080/"
        },
        "id": "rnxysbnnaLEB",
        "outputId": "b017ae76-bca1-4228-841e-0f3bfee60e1c"
      },
      "execution_count": 99,
      "outputs": [
        {
          "output_type": "stream",
          "name": "stdout",
          "text": [
            "features, samples 13 484\n",
            "(3, 13) (3, 13)\n",
            "(3, 1) (3, 1)\n",
            "(1, 3) (1, 3)\n",
            "(1, 1) (1, 1)\n"
          ]
        }
      ]
    },
    {
      "cell_type": "markdown",
      "source": [
        "Since everythings seems to be sound, we update the regressor class with new new computations."
      ],
      "metadata": {
        "id": "20Q2MD2mRb5W"
      }
    },
    {
      "cell_type": "code",
      "source": [
        "class Regressor2(object):    \n",
        "\n",
        "  def __init__(self):\n",
        "    self.W1 = None\n",
        "    self.b1 = None\n",
        "    self.W2 = None\n",
        "    self.b2 = None\n",
        "    self.n_features = 0\n",
        "    self.n_samples = 0\n",
        "    self.history = []\n",
        "    \n",
        "  def get_loss_grads(self, X, y, reg):  \n",
        "    #predict\n",
        "    y1 = np.matmul(self.W1, X)+self.b1 # level 1 neurons\n",
        "    s=sigmoid(y1)\n",
        "    y2 = np.matmul(self.W2, s)+self.b2 # level 2 neurons\n",
        "\n",
        "    #gradients\n",
        "    dy2 = 2 *(y2-y)\n",
        "    dW2 = np.matmul(dy2, s.T) \n",
        "    dW2 += reg*self.W2\n",
        "    db2 = np.matmul(dy2, np.ones((self.n_samples,1)))    \n",
        "    ds = np.matmul(self.W2.T, dy2) \n",
        "    dy1 = ds * s * sigmoid(1-s)\n",
        "    dW1 = np.matmul(dy1, X.T) \n",
        "    dW1 += reg*self.W1\n",
        "    db1 = np.matmul(dy1, np.ones((self.n_samples,1))) \n",
        "\n",
        "    return dW2, db2, dW1, db1\n",
        "\n",
        "  def init_weights(self,X): \n",
        "    # Initialize weights from a normal distribution and the biases with zeros\n",
        "    if (self.W2 is None):\n",
        "      self.n_features, self.n_samples = X.shape[0], X.shape[1]\n",
        "      limit1 = np.sqrt(6/(self.n_features+3))\n",
        "      self.W1 = np.random.uniform(low=-limit1, high=limit1, size=(3, self.n_features))\n",
        "      self.b1 = np.zeros((3,1))\n",
        "      limit2 = np.sqrt(6/(3+1))\n",
        "      self.W2 = np.random.uniform(low=-limit2, high=limit2, size=(1, 3))\n",
        "      self.b2 = np.zeros((1,1))\n",
        "\n",
        "  def train(self, X, y, learning_rate=1e-4, reg=0, num_iters=50):\n",
        "    # Get useful parameters\n",
        "    self.init_weights(X)\n",
        "    \n",
        "    for iter in range(num_iters):\n",
        "      # Get loss and gradients\n",
        "      dW2, db2, dW1, db1 = self.get_loss_grads(X, y, reg)\n",
        "\n",
        "      # update weights and biases\n",
        "      self.W2 -= learning_rate*dW2\n",
        "      self.b2 -= learning_rate*db2\n",
        "      self.W1 -= learning_rate*dW1\n",
        "      self.b1 -= learning_rate*db1\n",
        "\n",
        "      # Compute validation accuracy\n",
        "      mse = self.eval(X, y)\n",
        "      self.history.append(mse)\n",
        "        \n",
        "        \n",
        "  def train_early_stopping(self, X_train, y_train, X_val, y_val, learning_rate=1e-4, reg=0.5, early_stopping_rounds=200):\n",
        "    # Get useful parameters_train\n",
        "    self.init_weights(X_train)\n",
        "\n",
        "    # Stores best accuracy found \n",
        "    best_val_mse = sys.float_info.max\n",
        "    \n",
        "    # Stores the weights and biases of the best iteration\n",
        "    best_W2, best_b2, best_W1, best_b1 = None, None, None, None\n",
        "    \n",
        "    # Counts the number of no improvements in the accuracy\n",
        "    no_improvement = 0\n",
        "    \n",
        "    # Boolean variable which helps us get out of the while loop\n",
        "    keep_training = True\n",
        "        \n",
        "    while keep_training:\n",
        "        \n",
        "      # Get loss and gradients\n",
        "      dW2, db2, dW1, db1 = self.get_loss_grads(X_train, y_train, reg)\n",
        "\n",
        "      # update weights and biases\n",
        "      self.W2 -= learning_rate*dW2\n",
        "      self.b2 -= learning_rate*db2\n",
        "      self.W1 -= learning_rate*dW1\n",
        "      self.b1 -= learning_rate*db1\n",
        "             \n",
        "      # Compute validation accuracy\n",
        "      val_mse = self.eval(X_val,y_val)\n",
        "      train_mse = self.eval(X_train,y_train)\n",
        "\n",
        "      self.history.append([val_mse, train_mse])\n",
        "\n",
        "      if val_mse + 0.1 < best_val_mse: #epsilon = 0.1\n",
        "        best_val_mse = val_mse\n",
        "        best_W2 = self.W2 \n",
        "        best_b2 = self.b2 \n",
        "        best_W1 = self.W1 \n",
        "        best_b1 = self.b1 \n",
        "        # reset count\n",
        "        no_improvement = 0\n",
        "      else:\n",
        "        no_improvement += 1\n",
        "        \n",
        "      if no_improvement == early_stopping_rounds:\n",
        "        self.W2 = best_W2\n",
        "        self.b2 = best_b2 \n",
        "        self.W1 = best_W1\n",
        "        self.b1 = best_b1\n",
        "        keep_training = False\n",
        "      \n",
        "      \n",
        "  def predict(self, X):\n",
        "    y1 = np.matmul(self.W1, X)+self.b1 # level 1 neurons\n",
        "    s=sigmoid(y1)\n",
        "    y2 = np.matmul(self.W2, s)+self.b2 # level 2 neurons\n",
        "    return y2\n",
        "\n",
        "  def eval(self, X, y):\n",
        "    y2 = self.predict(X)\n",
        "    mse = ((y - y2)**2).mean() #eval = mse\n",
        "    return mse"
      ],
      "metadata": {
        "id": "Tttfw76tSmCC"
      },
      "execution_count": 100,
      "outputs": []
    },
    {
      "cell_type": "markdown",
      "source": [
        "We train again with a fixed number of 1000 iterations on the whole dataset."
      ],
      "metadata": {
        "id": "ZRX0rViKR9kx"
      }
    },
    {
      "cell_type": "code",
      "source": [
        "np.random.seed(42) # for reproducible results\n",
        "\n",
        "regressor = Regressor2()\n",
        "regressor.train(XT, yT, learning_rate=1e-6, reg=0.1, num_iters=1000)\n",
        "print('MSE', regressor.eval(XT, yT))\n",
        "plot_history(regressor.history, 'mse')"
      ],
      "metadata": {
        "colab": {
          "base_uri": "https://localhost:8080/",
          "height": 313
        },
        "id": "Bdv0A070XxnG",
        "outputId": "c04e39f5-b122-46a6-8692-83ab39c5bac6"
      },
      "execution_count": 101,
      "outputs": [
        {
          "output_type": "stream",
          "name": "stdout",
          "text": [
            "MSE 97.36746491273553\n"
          ]
        },
        {
          "output_type": "display_data",
          "data": {
            "text/plain": [
              "<Figure size 432x288 with 1 Axes>"
            ],
            "image/png": "[encoded data removed]"
          },
          "metadata": {
            "needs_background": "light"
          }
        }
      ]
    },
    {
      "cell_type": "markdown",
      "source": [
        "Training converges slower now, but arrive eventually at a lower error than the simple model we created before."
      ],
      "metadata": {
        "id": "4KkZD-1hSFWu"
      }
    },
    {
      "cell_type": "markdown",
      "source": [
        "Now we train with early stopping on a validation set. Mind that we need to transpose the dataset befor splitting and the result back again before regression."
      ],
      "metadata": {
        "id": "exOcd6gKSZPE"
      }
    },
    {
      "cell_type": "code",
      "source": [
        "np.random.seed(42) # for reproducible results\n",
        "\n",
        "# Split dataset into training and validation\n",
        "X_train, X_val, y_train, y_val = train_test_split(X, y, test_size=0.2, random_state=42) \n",
        "X_train_T = X_train.T \n",
        "X_val_T = X_val.T\n",
        "y_train_T = y_train.T\n",
        "y_val_T = y_val.T\n",
        "\n",
        "# Train with early stopping\n",
        "regressor2 = Regressor2()\n",
        "regressor2.train_early_stopping(X_train_T, y_train_T, X_val_T, y_val_T, learning_rate=1e-6, reg=0.1, early_stopping_rounds=10)\n",
        "print('Training MSE', regressor2.eval(X_train_T, y_train_T))\n",
        "print('Validation MSE', regressor2.eval(X_val_T, y_val_T))\n",
        "plot_history(regressor2.history, ['val mse', 'train mse'])"
      ],
      "metadata": {
        "colab": {
          "base_uri": "https://localhost:8080/",
          "height": 331
        },
        "id": "pexWRmMRak4K",
        "outputId": "561a20f0-b437-4a02-c714-9467fb19a649"
      },
      "execution_count": 102,
      "outputs": [
        {
          "output_type": "stream",
          "name": "stdout",
          "text": [
            "Training MSE 90.69306593710112\n",
            "Validation MSE 90.24294015126242\n"
          ]
        },
        {
          "output_type": "display_data",
          "data": {
            "text/plain": [
              "<Figure size 432x288 with 1 Axes>"
            ],
            "image/png": "[encoded data removed]"
          },
          "metadata": {
            "needs_background": "light"
          }
        }
      ]
    },
    {
      "cell_type": "markdown",
      "source": [
        "This gives a more accurate prediction model than our overtrained model."
      ],
      "metadata": {
        "id": "c0y73LORS9ZW"
      }
    },
    {
      "cell_type": "markdown",
      "source": [
        "Building the same model with Tensorflow/Keras."
      ],
      "metadata": {
        "id": "ZlPcupQMf7CX"
      }
    },
    {
      "cell_type": "code",
      "source": [
        "def get_Regression2_model():\n",
        "  model = Sequential()\n",
        "  model.add(Dense(3, input_dim=n_features, activation='sigmoid'))\n",
        "  model.add(Dense(1, input_dim=3, activation='linear'))\n",
        "  model.compile(optimizer='adam',\n",
        "\t\t\tloss='mse',\n",
        "\t\t\tmetrics=['mse'])\n",
        "  model.summary()\n",
        "  return model"
      ],
      "metadata": {
        "id": "K0EYZgrDf__a"
      },
      "execution_count": 103,
      "outputs": []
    },
    {
      "cell_type": "code",
      "source": [
        "regressor = get_Regression2_model()\n",
        "r = regressor.fit(X, y, epochs=1000, verbose=0)"
      ],
      "metadata": {
        "id": "Avy6Dn3YjxiH",
        "outputId": "a7ecf1b3-17a2-4fe9-fdbb-41398b9b87ab",
        "colab": {
          "base_uri": "https://localhost:8080/"
        }
      },
      "execution_count": 104,
      "outputs": [
        {
          "output_type": "stream",
          "name": "stdout",
          "text": [
            "Model: \"sequential_18\"\n",
            "_________________________________________________________________\n",
            " Layer (type)                Output Shape              Param #   \n",
            "=================================================================\n",
            " dense_21 (Dense)            (None, 3)                 42        \n",
            "                                                                 \n",
            " dense_22 (Dense)            (None, 1)                 4         \n",
            "                                                                 \n",
            "=================================================================\n",
            "Total params: 46\n",
            "Trainable params: 46\n",
            "Non-trainable params: 0\n",
            "_________________________________________________________________\n"
          ]
        }
      ]
    },
    {
      "cell_type": "code",
      "source": [
        "plt.plot(r.history['mse'], label='mse')\n",
        "plt.legend()\n",
        "result = regressor.evaluate(X, y)\n",
        "print('MSE', result[0])"
      ],
      "metadata": {
        "id": "kOWserBtj6Ap",
        "outputId": "755c0797-7c30-43de-dd5d-ef2d748302ba",
        "colab": {
          "base_uri": "https://localhost:8080/",
          "height": 301
        }
      },
      "execution_count": 105,
      "outputs": [
        {
          "output_type": "stream",
          "name": "stdout",
          "text": [
            "16/16 [==============================] - 0s 2ms/step - loss: 86.5962 - mse: 86.5962\n",
            "MSE 86.59618377685547\n"
          ]
        },
        {
          "output_type": "display_data",
          "data": {
            "text/plain": [
              "<Figure size 432x288 with 1 Axes>"
            ],
            "image/png": "[encoded data removed]"
          },
          "metadata": {
            "needs_background": "light"
          }
        }
      ]
    },
    {
      "cell_type": "markdown",
      "source": [
        "We again observe a slower convergence, but arrive at a lower MSE than our handmade regressor models."
      ],
      "metadata": {
        "id": "IsvnRqbZkq_I"
      }
    },
    {
      "cell_type": "markdown",
      "source": [
        "Now with early stopping. Mind the higher patience to achieve plateauing."
      ],
      "metadata": {
        "id": "x1d9uPwnk7GZ"
      }
    },
    {
      "cell_type": "code",
      "source": [
        "cb = EarlyStopping(monitor='val_mse', mode='min', min_delta=0.1, patience=100)\n",
        "regressor = get_Regression2_model()\n",
        "r = regressor.fit(X_train, y_train, validation_data=(X_val, y_val), epochs=1000, verbose=0, callbacks=[cb])"
      ],
      "metadata": {
        "id": "kQWaRh8ckgEg",
        "outputId": "bda06a92-e761-4c44-e4a5-253bdb391a98",
        "colab": {
          "base_uri": "https://localhost:8080/"
        }
      },
      "execution_count": 110,
      "outputs": [
        {
          "output_type": "stream",
          "name": "stdout",
          "text": [
            "Model: \"sequential_21\"\n",
            "_________________________________________________________________\n",
            " Layer (type)                Output Shape              Param #   \n",
            "=================================================================\n",
            " dense_27 (Dense)            (None, 3)                 42        \n",
            "                                                                 \n",
            " dense_28 (Dense)            (None, 1)                 4         \n",
            "                                                                 \n",
            "=================================================================\n",
            "Total params: 46\n",
            "Trainable params: 46\n",
            "Non-trainable params: 0\n",
            "_________________________________________________________________\n"
          ]
        }
      ]
    },
    {
      "cell_type": "code",
      "source": [
        "plt.plot(r.history['mse'], label='mse')\n",
        "plt.plot(r.history['val_mse'], label='val mse')\n",
        "plt.legend()\n",
        "\n",
        "result_train = regressor.evaluate(X_train, y_train)\n",
        "result_val = regressor.evaluate(X_val, y_val)\n",
        "print('Training MSE', result_train[0])\n",
        "print('Validation MSE', result_val[0])"
      ],
      "metadata": {
        "id": "dUNtqUO9khKb",
        "outputId": "b103118e-75bd-4921-da56-379e05bea9a8",
        "colab": {
          "base_uri": "https://localhost:8080/",
          "height": 336
        }
      },
      "execution_count": 111,
      "outputs": [
        {
          "output_type": "stream",
          "name": "stdout",
          "text": [
            "13/13 [==============================] - 0s 2ms/step - loss: 77.5307 - mse: 77.5307\n",
            "4/4 [==============================] - 0s 3ms/step - loss: 86.9897 - mse: 86.9897\n",
            "Training MSE 77.53067779541016\n",
            "Validation MSE 86.98973846435547\n"
          ]
        },
        {
          "output_type": "display_data",
          "data": {
            "text/plain": [
              "<Figure size 432x288 with 1 Axes>"
            ],
            "image/png": "[encoded data removed]"
          },
          "metadata": {
            "needs_background": "light"
          }
        }
      ]
    },
    {
      "cell_type": "markdown",
      "source": [
        "Even better than our own model, but not as good as the simple one-layered model based on Tensorflow/Keras. However, before we generalize that a linear model is more appropriate here, we should check all models with cross-validation."
      ],
      "metadata": {
        "id": "-Pg7eEe6pI-W"
      }
    }
  ]
}