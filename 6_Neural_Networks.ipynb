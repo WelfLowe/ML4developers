{
  "nbformat": 4,
  "nbformat_minor": 0,
  "metadata": {
    "colab": {
      "provenance": [],
      "authorship_tag": "ABX9TyOvBz1SGYqka5fVuUhpjOVY",
      "include_colab_link": true
    },
    "kernelspec": {
      "name": "python3",
      "display_name": "Python 3"
    },
    "language_info": {
      "name": "python"
    }
  },
  "cells": [
    {
      "cell_type": "markdown",
      "metadata": {
        "id": "view-in-github",
        "colab_type": "text"
      },
      "source": [
        "<a href=\"https://colab.research.google.com/github/WelfLowe/ML4developers/blob/main/6_Neural_Networks.ipynb\" target=\"_parent\"><img src=\"https://colab.research.google.com/assets/colab-badge.svg\" alt=\"Open In Colab\"/></a>"
      ]
    },
    {
      "cell_type": "code",
      "execution_count": 63,
      "metadata": {
        "id": "lc7HsulsPGzE"
      },
      "outputs": [],
      "source": [
        "import numpy as np\n",
        "from sklearn import datasets\n",
        "from sklearn.metrics import confusion_matrix, plot_confusion_matrix\n",
        "from sklearn.model_selection import train_test_split"
      ]
    },
    {
      "cell_type": "code",
      "source": [
        "iris = datasets.load_iris()\n",
        "X = iris.data\n",
        "y = iris.target\n",
        "X.shape[0]"
      ],
      "metadata": {
        "colab": {
          "base_uri": "https://localhost:8080/"
        },
        "id": "TFs795uaPQBQ",
        "outputId": "1b3fea06-f0a2-4d61-c1b6-ed2f88cdc4fc"
      },
      "execution_count": 59,
      "outputs": [
        {
          "output_type": "execute_result",
          "data": {
            "text/plain": [
              "150"
            ]
          },
          "metadata": {},
          "execution_count": 59
        }
      ]
    },
    {
      "cell_type": "code",
      "source": [
        "X_ = np.matrix.transpose(np.c_[X, np.ones(X.shape[0])])\n",
        "X_.shape"
      ],
      "metadata": {
        "colab": {
          "base_uri": "https://localhost:8080/"
        },
        "id": "DCKZZonnQtAa",
        "outputId": "c93666fd-c188-4773-8ded-3773334981f6"
      },
      "execution_count": 60,
      "outputs": [
        {
          "output_type": "execute_result",
          "data": {
            "text/plain": [
              "(5, 150)"
            ]
          },
          "metadata": {},
          "execution_count": 60
        }
      ]
    },
    {
      "cell_type": "code",
      "source": [
        "Wb = np.random.rand(3,5)\n",
        "Wb"
      ],
      "metadata": {
        "colab": {
          "base_uri": "https://localhost:8080/"
        },
        "id": "ktmoG823P1lc",
        "outputId": "1659b378-9bbc-4c3b-dfea-be0cbacbc07d"
      },
      "execution_count": 34,
      "outputs": [
        {
          "output_type": "execute_result",
          "data": {
            "text/plain": [
              "array([[0.84234022, 0.9382266 , 0.0442454 , 0.35591702, 0.67603667],\n",
              "       [0.80615816, 0.00661135, 0.17240509, 0.45596478, 0.99787635],\n",
              "       [0.14911478, 0.27928023, 0.03706293, 0.91536605, 0.11813457]])"
            ]
          },
          "metadata": {},
          "execution_count": 34
        }
      ]
    },
    {
      "cell_type": "code",
      "source": [
        "y_ = np.matrix.transpose(np.matmul(Wb, X_)) # y = WX+b\n",
        "y_[0:5,:]"
      ],
      "metadata": {
        "colab": {
          "base_uri": "https://localhost:8080/"
        },
        "id": "rcqm_iD5Q-KG",
        "outputId": "d5a4057b-4b17-49f2-f0ca-723243f311fb"
      },
      "execution_count": 43,
      "outputs": [
        {
          "output_type": "execute_result",
          "data": {
            "text/plain": [
              "array([[8.38889183, 5.46498279, 2.09106207],\n",
              "       [7.75131049, 5.30044548, 1.921599  ],\n",
              "       [7.76606322, 5.12329561, 1.9439258 ],\n",
              "       [7.59685562, 5.07649968, 1.90849888],\n",
              "       [8.39848047, 5.38502811, 2.10407862]])"
            ]
          },
          "metadata": {},
          "execution_count": 43
        }
      ]
    },
    {
      "cell_type": "code",
      "source": [
        "y_hat = np.rint(np.amax(y_, axis = 1))\n",
        "max_class = lambda x: min(x,2) \n",
        "min_class = lambda x: max(x,0) \n",
        "y_hat = np.vectorize(max_class)(y_hat)\n",
        "y_hat = np.vectorize(min_class)(y_hat)\n",
        "y_hat"
      ],
      "metadata": {
        "colab": {
          "base_uri": "https://localhost:8080/"
        },
        "id": "sISFPRAZRpZ6",
        "outputId": "fc021dfe-1627-4b79-d69f-718186ff1841"
      },
      "execution_count": 53,
      "outputs": [
        {
          "output_type": "execute_result",
          "data": {
            "text/plain": [
              "array([2, 2, 2, 2, 2, 2, 2, 2, 2, 2, 2, 2, 2, 2, 2, 2, 2, 2, 2, 2, 2, 2,\n",
              "       2, 2, 2, 2, 2, 2, 2, 2, 2, 2, 2, 2, 2, 2, 2, 2, 2, 2, 2, 2, 2, 2,\n",
              "       2, 2, 2, 2, 2, 2, 2, 2, 2, 2, 2, 2, 2, 2, 2, 2, 2, 2, 2, 2, 2, 2,\n",
              "       2, 2, 2, 2, 2, 2, 2, 2, 2, 2, 2, 2, 2, 2, 2, 2, 2, 2, 2, 2, 2, 2,\n",
              "       2, 2, 2, 2, 2, 2, 2, 2, 2, 2, 2, 2, 2, 2, 2, 2, 2, 2, 2, 2, 2, 2,\n",
              "       2, 2, 2, 2, 2, 2, 2, 2, 2, 2, 2, 2, 2, 2, 2, 2, 2, 2, 2, 2, 2, 2,\n",
              "       2, 2, 2, 2, 2, 2, 2, 2, 2, 2, 2, 2, 2, 2, 2, 2, 2, 2])"
            ]
          },
          "metadata": {},
          "execution_count": 53
        }
      ]
    },
    {
      "cell_type": "code",
      "source": [
        "cm = confusion_matrix(y, y_hat)\n",
        "cm"
      ],
      "metadata": {
        "colab": {
          "base_uri": "https://localhost:8080/"
        },
        "id": "_MmJ_vZQVdbc",
        "outputId": "bd84a7df-a5e2-4c9c-cdb2-7a29cde9550a"
      },
      "execution_count": 54,
      "outputs": [
        {
          "output_type": "execute_result",
          "data": {
            "text/plain": [
              "array([[ 0,  0, 50],\n",
              "       [ 0,  0, 50],\n",
              "       [ 0,  0, 50]])"
            ]
          },
          "metadata": {},
          "execution_count": 54
        }
      ]
    },
    {
      "cell_type": "code",
      "source": [
        "def eval_model(X, y, Wb):\n",
        "  X_ = np.matrix.transpose(np.c_[X, np.ones(X.shape[0])])\n",
        "  y_ = np.matrix.transpose(np.matmul(Wb, X_)) # y = WX+b\n",
        "  y_hat = np.rint(np.amax(y_, axis = 1))\n",
        "  y_hat = np.vectorize(max_class)(y_hat)\n",
        "  y_hat = np.vectorize(min_class)(y_hat)\n",
        "  return confusion_matrix(y, y_hat)\n",
        "\n",
        "eval_model(X, y, Wb)"
      ],
      "metadata": {
        "colab": {
          "base_uri": "https://localhost:8080/"
        },
        "id": "5gAbQojYZS8n",
        "outputId": "408587c8-8c4d-459a-99c6-8d0b6f46edd8"
      },
      "execution_count": 61,
      "outputs": [
        {
          "output_type": "execute_result",
          "data": {
            "text/plain": [
              "array([[ 0,  0, 50],\n",
              "       [ 0,  0, 50],\n",
              "       [ 0,  0, 50]])"
            ]
          },
          "metadata": {},
          "execution_count": 61
        }
      ]
    },
    {
      "cell_type": "code",
      "source": [
        "X_train, X_test, y_train, y_test = train_test_split(X, y, test_size=0.2, random_state=42) #random_state=2"
      ],
      "metadata": {
        "id": "SbKMT0M9aux-"
      },
      "execution_count": 64,
      "outputs": []
    },
    {
      "cell_type": "code",
      "source": [
        "eval_model(X_test, y_test, Wb)"
      ],
      "metadata": {
        "colab": {
          "base_uri": "https://localhost:8080/"
        },
        "id": "C3eYs6B0bGmh",
        "outputId": "8e0fd20a-cf19-4c8f-fbac-f56168972035"
      },
      "execution_count": 65,
      "outputs": [
        {
          "output_type": "execute_result",
          "data": {
            "text/plain": [
              "array([[ 0,  0, 10],\n",
              "       [ 0,  0,  9],\n",
              "       [ 0,  0, 11]])"
            ]
          },
          "metadata": {},
          "execution_count": 65
        }
      ]
    }
  ]
}