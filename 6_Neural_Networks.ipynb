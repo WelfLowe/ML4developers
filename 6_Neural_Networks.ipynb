{
  "nbformat": 4,
  "nbformat_minor": 0,
  "metadata": {
    "colab": {
      "provenance": [],
      "collapsed_sections": [],
      "authorship_tag": "ABX9TyOP/xeIZoTaKUnwbEfQQ0jQ",
      "include_colab_link": true
    },
    "kernelspec": {
      "name": "python3",
      "display_name": "Python 3"
    },
    "language_info": {
      "name": "python"
    }
  },
  "cells": [
    {
      "cell_type": "markdown",
      "metadata": {
        "id": "view-in-github",
        "colab_type": "text"
      },
      "source": [
        "<a href=\"https://colab.research.google.com/github/WelfLowe/ML4developers/blob/main/6_Neural_Networks.ipynb\" target=\"_parent\"><img src=\"https://colab.research.google.com/assets/colab-badge.svg\" alt=\"Open In Colab\"/></a>"
      ]
    },
    {
      "cell_type": "code",
      "source": [
        "# Import useful libraries\n",
        "from sklearn.datasets import make_classification \n",
        "import matplotlib.pyplot as plt\n",
        "import numpy as np\n",
        "from sklearn import datasets\n",
        "from sklearn.model_selection import train_test_split\n",
        "\n",
        "iris = datasets.load_iris()\n",
        "X = iris.data\n",
        "y = iris.target\n",
        "X.shape"
      ],
      "metadata": {
        "colab": {
          "base_uri": "https://localhost:8080/"
        },
        "id": "9DeszXczFWy2",
        "outputId": "a3546e66-52bf-480a-8465-e20252e8805a"
      },
      "execution_count": 52,
      "outputs": [
        {
          "output_type": "execute_result",
          "data": {
            "text/plain": [
              "(150, 4)"
            ]
          },
          "metadata": {},
          "execution_count": 52
        }
      ]
    },
    {
      "cell_type": "code",
      "source": [
        "# Create a class for the Softmax linear classifier\n",
        "class Softmax(object):    \n",
        "\n",
        "  def __init__(self):\n",
        "    self.W = None\n",
        "    self.b = None\n",
        "    self.history = []\n",
        "    \n",
        "  def get_loss_grads(self, X, y, reg, n_samples):  \n",
        "    # Linear mapping scores\n",
        "    scores = np.dot(X, self.W)+self.b\n",
        "\n",
        "    # Normalize the scores beforehand with max as zero to avoid \n",
        "    # computational problems with the exponential\n",
        "    exp_scores = np.exp(scores - np.max(scores, axis=1, keepdims=True))\n",
        "\n",
        "    # Softmax activation\n",
        "    probs = exp_scores/np.sum(exp_scores, axis=1, keepdims=True)\n",
        "\n",
        "    # Logloss of the correct class for each of our samples\n",
        "    correct_logprobs = -np.log(probs[np.arange(n_samples), y])\n",
        "\n",
        "    # Compute the average loss\n",
        "    loss = np.sum(correct_logprobs)/n_samples\n",
        "\n",
        "    # Add regularization using the L2 norm\n",
        "    reg_loss = 0.5*reg*np.sum(self.W*self.W)\n",
        "    loss += reg_loss\n",
        "    \n",
        "    # Gradient of the loss with respect to scores\n",
        "    dscores = probs.copy()\n",
        "\n",
        "    # Substract 1 from the scores of the correct class\n",
        "    dscores[np.arange(n_samples),y] -= 1\n",
        "    dscores /= n_samples\n",
        "\n",
        "    # Gradient of the loss with respect to weights\n",
        "    dW = X.T.dot(dscores) \n",
        "\n",
        "    # Add gradient regularization \n",
        "    dW += reg*self.W\n",
        "\n",
        "    # Gradient of the loss with respect to biases\n",
        "    db = np.sum(dscores, axis=0, keepdims=True)\n",
        "\n",
        "    return loss, dW, db\n",
        "\n",
        "\n",
        "  def train(self, X, y, learning_rate=1e-4, reg=0.5, num_iters=500):\n",
        "    # Get useful parameters\n",
        "    n_features, n_samples = X.shape[1], X.shape[0]   \n",
        "    n_samples = X.shape[0] \n",
        "    n_classes = len(np.unique(y))\n",
        "    \n",
        "    # Initialize weights from a normal distribution and the biases with zeros\n",
        "    if (self.W is None) & (self.b is None):\n",
        "      np.random.seed(2016) # for reproducible results\n",
        "      self.W = np.random.normal(loc=0.0, scale=1e-4, size=(n_features, n_classes))\n",
        "      self.b = np.zeros((1, n_classes))\n",
        "        \n",
        "    for iter in range(num_iters):\n",
        "      # Get loss and gradients\n",
        "      loss, dW, db = self.get_loss_grads(X, y, reg, n_samples)\n",
        "      \n",
        "      # update weights and biases\n",
        "      self.W -= learning_rate*dW\n",
        "      self.b -= learning_rate*db\n",
        "\n",
        "      # Compute validation accuracy\n",
        "      accuracy = self.eval(X,y)\n",
        "      self.history.append(accuracy)\n",
        "        \n",
        "        \n",
        "  def train_early_stopping(self, X_train, y_train, X_val, y_val, learning_rate=1e-4, reg=0.5, early_stopping_rounds=200):\n",
        "    # Get useful parameters_train\n",
        "    n_features, n_samples = X_train.shape[1], X_train.shape[0]   \n",
        "    n_samples = X_train.shape[0] \n",
        "    n_classes = len(np.unique(y))\n",
        "    \n",
        "    # Initialize weights from a normal distribution and the biases with zeros\n",
        "    if (self.W is None) & (self.b is None):\n",
        "      np.random.seed(2016) # for reproducible results\n",
        "      self.W = np.random.normal(loc=0.0, scale=1e-4, size=(n_features, n_classes))\n",
        "      self.b = np.zeros((1, n_classes))\n",
        "\n",
        "    # Stores best accuracy found \n",
        "    best_val_accuracy = -1\n",
        "    \n",
        "    # Stores the weights and biases of the best iteration\n",
        "    best_weights, best_bias = None, None\n",
        "    \n",
        "    # Counts the number of no improvements in the accuracy\n",
        "    no_improvement = 0\n",
        "    \n",
        "    # Boolean variable which helps us get out of the while loop\n",
        "    keep_training = True\n",
        "        \n",
        "    while keep_training:\n",
        "        \n",
        "      # Get loss and gradients\n",
        "      loss, dW, db = self.get_loss_grads(X_train, y_train, reg, n_samples)\n",
        "    \n",
        "      # update weights and biases\n",
        "      self.W -= learning_rate*dW\n",
        "      self.b -= learning_rate*db\n",
        "              \n",
        "      # Compute validation accuracy\n",
        "      val_accuracy = self.eval(X_val,y_val)\n",
        "      train_accuracy = self.eval(X_train,y_train)\n",
        "\n",
        "      self.history.append([val_accuracy,train_accuracy])\n",
        "\n",
        "      if val_accuracy>best_val_accuracy:\n",
        "        best_val_accuracy = val_accuracy\n",
        "        best_weights, best_bias = self.W, self.b\n",
        "        # reset count\n",
        "        no_improvement = 0\n",
        "      else:\n",
        "        no_improvement += 1\n",
        "        \n",
        "      if no_improvement == early_stopping_rounds:\n",
        "        self.W, self.b = best_weights, best_bias\n",
        "        keep_training = False\n",
        "      \n",
        "      \n",
        "  def predict(self, X):\n",
        "    y_pred = np.dot(X, self.W)+self.b\n",
        "    y_pred=np.argmax(y_pred, axis=1)\n",
        "\n",
        "    return y_pred\n",
        "\n",
        "  def eval(self, X, y):\n",
        "    return np.mean(self.predict(X)==y)"
      ],
      "metadata": {
        "id": "Nlt5DPSNFZJ3"
      },
      "execution_count": 78,
      "outputs": []
    },
    {
      "cell_type": "code",
      "source": [
        "def plot_history(history, labels):\n",
        "  x = range(len(history))\n",
        "  hist_arr = np.asarray(softmax.history)\n",
        "  print(hist_arr.shape)\n",
        "  if hist_arr.ndim==1:\n",
        "    plt.plot(x, hist_arr, label=labels );\n",
        "  else:\n",
        "    i = 0\n",
        "    for hist_row in hist_arr.transpose():\n",
        "      plt.plot(x, hist_row, label = labels[i]);\n",
        "      i += 1 \n",
        "    \n",
        "  plt.title(\"Improvement of accuracy over epochs\")\n",
        "  plt.xlabel(\"epochs\")\n",
        "  plt.ylabel(\"accuracy\");\n",
        "  plt.legend();"
      ],
      "metadata": {
        "id": "Pf4n0TNR3eBH"
      },
      "execution_count": 115,
      "outputs": []
    },
    {
      "cell_type": "code",
      "source": [
        "softmax = Softmax()\n",
        "softmax.train( X, y, learning_rate=1e-2, reg=0.1, num_iters=500)\n",
        "print('Accuracy', softmax.eval(X, y))\n",
        "plot_history(softmax.history, 'acc')"
      ],
      "metadata": {
        "colab": {
          "base_uri": "https://localhost:8080/",
          "height": 380
        },
        "id": "oGhcMzNU650c",
        "outputId": "9c9366d1-41e8-44a5-b12e-6b191e6e4ab8"
      },
      "execution_count": 109,
      "outputs": [
        {
          "output_type": "stream",
          "name": "stdout",
          "text": [
            "Accuracy 0.8866666666666667\n",
            "(500,)\n"
          ]
        },
        {
          "output_type": "display_data",
          "data": {
            "text/plain": [
              "<Figure size 504x360 with 1 Axes>"
            ],
            "image/png": "[encoded data removed]"
          },
          "metadata": {}
        }
      ]
    },
    {
      "cell_type": "code",
      "source": [
        "# Split dataset into training and validation\n",
        "X_train, X_val, y_train, y_val = train_test_split(X, y, test_size=0.2, random_state=42) #random_state=2\n",
        "\n",
        "# Train with early stopping\n",
        "softmax = Softmax()\n",
        "softmax.train_early_stopping( X_train, y_train, X_val, y_val, learning_rate=1e-2, reg=0.1, early_stopping_rounds=300)\n",
        "print('Training accuracy', softmax.eval(X_train, y_train))\n",
        "print('Validation accuracy', softmax.eval(X_val, y_val))\n",
        "plot_history(softmax.history, ['val acc', 'train acc'])"
      ],
      "metadata": {
        "colab": {
          "base_uri": "https://localhost:8080/",
          "height": 397
        },
        "id": "7wxFHZC41X1J",
        "outputId": "c5a424ad-619d-4ae3-e4dd-f18066610b49"
      },
      "execution_count": 116,
      "outputs": [
        {
          "output_type": "stream",
          "name": "stdout",
          "text": [
            "Training accuracy 0.95\n",
            "Validation accuracy 1.0\n",
            "(1174, 2)\n"
          ]
        },
        {
          "output_type": "display_data",
          "data": {
            "text/plain": [
              "<Figure size 504x360 with 1 Axes>"
            ],
            "image/png": "[encoded data removed]"
          },
          "metadata": {}
        }
      ]
    }
  ]
}