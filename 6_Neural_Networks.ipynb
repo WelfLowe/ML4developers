{
  "nbformat": 4,
  "nbformat_minor": 0,
  "metadata": {
    "colab": {
      "provenance": [],
      "authorship_tag": "ABX9TyPIBgfJcduCE7sriNzU9rEv",
      "include_colab_link": true
    },
    "kernelspec": {
      "name": "python3",
      "display_name": "Python 3"
    },
    "language_info": {
      "name": "python"
    }
  },
  "cells": [
    {
      "cell_type": "markdown",
      "metadata": {
        "id": "view-in-github",
        "colab_type": "text"
      },
      "source": [
        "<a href=\"https://colab.research.google.com/github/WelfLowe/ML4developers/blob/main/6_Neural_Networks.ipynb\" target=\"_parent\"><img src=\"https://colab.research.google.com/assets/colab-badge.svg\" alt=\"Open In Colab\"/></a>"
      ]
    },
    {
      "cell_type": "markdown",
      "source": [
        "# Artificial Neural Networks (ANN)"
      ],
      "metadata": {
        "id": "umm2PC8ADd1U"
      }
    },
    {
      "cell_type": "markdown",
      "source": [
        "ANN can be used for classification and for regression tasks. Below we demonstrate both."
      ],
      "metadata": {
        "id": "a9_5bfqJY5H3"
      }
    },
    {
      "cell_type": "markdown",
      "source": [
        "## ANN for classification"
      ],
      "metadata": {
        "id": "ygkKiJHXbOGa"
      }
    },
    {
      "cell_type": "markdown",
      "source": [
        "We classify data from the IRIS data set with an ANN. It has the following architecture: \n",
        "\n",
        "<img src=\"https://github.com/WelfLowe/ML4developers/blob/main/images/ANN_classification.png?raw=true\" width=400>."
      ],
      "metadata": {
        "id": "qW7VkUeIY2Ap"
      }
    },
    {
      "cell_type": "markdown",
      "source": [
        "This is first part merely a copy of the tutorial on \"Gradient descent on a Softmax cross-entropy cost function\" found [here](https://madalinabuzau.github.io/2016/11/29/gradient-descent-on-a-softmax-cross-entropy-cost-function.html).\n",
        "\n",
        "I adapted it to our running example of Iris classification and added history plots and some documentation."
      ],
      "metadata": {
        "id": "Pw33ENgJEE25"
      }
    },
    {
      "cell_type": "markdown",
      "source": [
        "Import useful libraries."
      ],
      "metadata": {
        "id": "kip2JHJxD4UB"
      }
    },
    {
      "cell_type": "code",
      "source": [
        "from sklearn.datasets import make_classification \n",
        "import matplotlib.pyplot as plt\n",
        "import numpy as np\n",
        "from sklearn import datasets\n",
        "from sklearn.model_selection import train_test_split\n",
        "\n",
        "import pandas as pd\n",
        "import sys\n",
        "\n",
        "import tensorflow as tf\n",
        "from tensorflow import keras\n",
        "from keras.layers import Input, Dense\n",
        "from keras.models import Sequential\n",
        "from keras.utils import to_categorical \n",
        "from keras.callbacks import EarlyStopping"
      ],
      "metadata": {
        "id": "J7E24BdxDiKh"
      },
      "execution_count": null,
      "outputs": []
    },
    {
      "cell_type": "markdown",
      "source": [
        "Import Iris data."
      ],
      "metadata": {
        "id": "_21Sug-BDnlq"
      }
    },
    {
      "cell_type": "code",
      "source": [
        "iris = datasets.load_iris()\n",
        "X = iris.data\n",
        "y = iris.target"
      ],
      "metadata": {
        "id": "ux7MktMUDrgM"
      },
      "execution_count": null,
      "outputs": []
    },
    {
      "cell_type": "markdown",
      "source": [
        "Create a class for a Softmax linear classifier. Methods:\n",
        "* $\\verb|get_loss_grads|$ returns the gradients of the loss wrt. the weights and biases. It is used internally in the gradient descent methods.\n",
        "* $\\verb|train|$ optimizes the loss using gradient descent for a fixed number of iterations, i.e., it trains the model by iteratively adjusting the initial weights and biases in the direction of the negative gradient vector with smaller and smaller steps as the gradient vector approaches zero.  \n",
        "* $\\verb|train_early_stopping|$ same as $\\verb|train|$, but it only stops if the accuracy on the validation set doesn't improve for a number of iterations.\n",
        "* $\\verb|predict|$ uses the model, i.e., the current weights and biases, for predicting classes.\n",
        "* $\\verb|eval|$ uses the model, i.e., the current weights and biases, for evaluating the accuraxy of the prdiction."
      ],
      "metadata": {
        "id": "9uQrsyTUEuey"
      }
    },
    {
      "cell_type": "code",
      "source": [
        "class Softmax(object):    \n",
        "\n",
        "  def __init__(self):\n",
        "    self.W = None\n",
        "    self.b = None\n",
        "    self.history = []\n",
        "    \n",
        "  def get_loss_grads(self, X, y, reg, n_samples):  \n",
        "    # Linear mapping scores\n",
        "    scores = np.dot(X, self.W)+self.b\n",
        "\n",
        "    # Normalize the scores beforehand with max as zero to avoid \n",
        "    # computational problems with the exponential\n",
        "    exp_scores = np.exp(scores - np.max(scores, axis=1, keepdims=True))\n",
        "\n",
        "    # Softmax activation\n",
        "    probs = exp_scores/np.sum(exp_scores, axis=1, keepdims=True)\n",
        "    # Logloss of the correct class for each of our samples\n",
        "    correct_logprobs = -np.log(probs[np.arange(n_samples), y])\n",
        "\n",
        "    # Compute the average loss\n",
        "    loss = np.sum(correct_logprobs)/n_samples\n",
        "\n",
        "    # Add regularization using the L2 norm\n",
        "    reg_loss = 0.5*reg*np.sum(self.W*self.W)\n",
        "    loss += reg_loss\n",
        "    \n",
        "    # Gradient of the loss with respect to scores\n",
        "    dscores = probs.copy()\n",
        "\n",
        "    # Substract 1 from the scores of the correct class\n",
        "    dscores[np.arange(n_samples),y] -= 1\n",
        "    dscores /= n_samples\n",
        "\n",
        "    # Gradient of the loss with respect to weights\n",
        "    dW = X.T.dot(dscores) \n",
        "\n",
        "    # Add gradient regularization \n",
        "    dW += reg*self.W\n",
        "\n",
        "    # Gradient of the loss with respect to biases\n",
        "    db = np.sum(dscores, axis=0, keepdims=True)\n",
        "\n",
        "    return loss, dW, db\n",
        "\n",
        "\n",
        "  def train(self, X, y, learning_rate=1e-4, reg=0.5, num_iters=500):\n",
        "    # Get useful parameters\n",
        "    n_features = X.shape[1]   \n",
        "    n_samples = X.shape[0] \n",
        "    n_classes = len(np.unique(y))\n",
        "    \n",
        "    # Initialize weights from a normal distribution and the biases with zeros\n",
        "    if (self.W is None) & (self.b is None):\n",
        "      np.random.seed(2016) # for reproducible results\n",
        "      self.W = np.random.normal(loc=0.0, scale=1e-4, size=(n_features, n_classes))\n",
        "      self.b = np.zeros((1, n_classes))\n",
        "        \n",
        "    for iter in range(num_iters):\n",
        "      # Get loss and gradients\n",
        "      loss, dW, db = self.get_loss_grads(X, y, reg, n_samples)\n",
        "      \n",
        "      # update weights and biases\n",
        "      self.W -= learning_rate*dW\n",
        "      self.b -= learning_rate*db\n",
        "\n",
        "      # Compute validation accuracy\n",
        "      accuracy = self.eval(X,y)\n",
        "      self.history.append(accuracy)\n",
        "        \n",
        "        \n",
        "  def train_early_stopping(self, X_train, y_train, X_val, y_val, learning_rate=1e-4, reg=0.5, early_stopping_rounds=200):\n",
        "    # Get useful parameters_train\n",
        "    n_features = X_train.shape[1]   \n",
        "    n_samples = X_train.shape[0] \n",
        "    n_classes = len(np.unique(y))\n",
        "    \n",
        "    # Initialize weights from a normal distribution and the biases with zeros\n",
        "    if (self.W is None) & (self.b is None):\n",
        "      np.random.seed(2016) # for reproducible results\n",
        "      self.W = np.random.normal(loc=0.0, scale=1e-4, size=(n_features, n_classes))\n",
        "      self.b = np.zeros((1, n_classes))\n",
        "\n",
        "    # Stores best accuracy found \n",
        "    best_val_accuracy = -1\n",
        "    \n",
        "    # Stores the weights and biases of the best iteration\n",
        "    best_weights, best_bias = None, None\n",
        "    \n",
        "    # Counts the number of no improvements in the accuracy\n",
        "    no_improvement = 0\n",
        "    \n",
        "    # Boolean variable which helps us get out of the while loop\n",
        "    keep_training = True\n",
        "        \n",
        "    while keep_training:\n",
        "        \n",
        "      # Get loss and gradients\n",
        "      loss, dW, db = self.get_loss_grads(X_train, y_train, reg, n_samples)\n",
        "    \n",
        "      # update weights and biases\n",
        "      self.W -= learning_rate*dW\n",
        "      self.b -= learning_rate*db\n",
        "              \n",
        "      # Compute validation accuracy\n",
        "      val_accuracy = self.eval(X_val,y_val)\n",
        "      train_accuracy = self.eval(X_train,y_train)\n",
        "\n",
        "      self.history.append([val_accuracy,train_accuracy])\n",
        "\n",
        "      if val_accuracy>best_val_accuracy:\n",
        "        best_val_accuracy = val_accuracy\n",
        "        best_weights, best_bias = self.W, self.b\n",
        "        # reset count\n",
        "        no_improvement = 0\n",
        "      else:\n",
        "        no_improvement += 1\n",
        "        \n",
        "      if no_improvement == early_stopping_rounds:\n",
        "        self.W, self.b = best_weights, best_bias\n",
        "        keep_training = False\n",
        "      \n",
        "      \n",
        "  def predict(self, X):\n",
        "    y_pred = np.dot(X, self.W)+self.b\n",
        "    y_pred=np.argmax(y_pred, axis=1)\n",
        "\n",
        "    return y_pred\n",
        "\n",
        "  def eval(self, X, y):\n",
        "    return np.mean(self.predict(X)==y)"
      ],
      "metadata": {
        "id": "Nlt5DPSNFZJ3"
      },
      "execution_count": null,
      "outputs": []
    },
    {
      "cell_type": "markdown",
      "source": [
        "Function for plotting the training history."
      ],
      "metadata": {
        "id": "DyLRZ7wrHf2M"
      }
    },
    {
      "cell_type": "code",
      "source": [
        "def plot_history(history, labels):\n",
        "  x = range(len(history))\n",
        "  hist_arr = np.asarray(history)\n",
        "  if hist_arr.ndim==1:\n",
        "    plt.plot(x, hist_arr, label=labels );\n",
        "  else:\n",
        "    i = 0\n",
        "    for hist_row in hist_arr.transpose():\n",
        "      plt.plot(x, hist_row, label = labels[i]);\n",
        "      i += 1 \n",
        "    \n",
        "  plt.title(\"Improvement of model performance over epochs\")\n",
        "  plt.xlabel(\"epochs\")\n",
        "  plt.ylabel(\"performance\");\n",
        "  plt.legend();"
      ],
      "metadata": {
        "id": "Pf4n0TNR3eBH"
      },
      "execution_count": null,
      "outputs": []
    },
    {
      "cell_type": "markdown",
      "source": [
        "Train and assess the model on the whole dataset using a fixed number of training iterations."
      ],
      "metadata": {
        "id": "cgY2SFXrHnU7"
      }
    },
    {
      "cell_type": "code",
      "source": [
        "softmax = Softmax()\n",
        "softmax.train( X, y, learning_rate=1e-2, reg=0.1, num_iters=500)\n",
        "print('Accuracy', softmax.eval(X, y))\n",
        "plot_history(softmax.history, 'acc')"
      ],
      "metadata": {
        "colab": {
          "base_uri": "https://localhost:8080/",
          "height": 313
        },
        "id": "oGhcMzNU650c",
        "outputId": "327a186c-4398-4e40-8c5e-8349569c3688"
      },
      "execution_count": null,
      "outputs": [
        {
          "output_type": "stream",
          "name": "stdout",
          "text": [
            "Accuracy 0.8866666666666667\n"
          ]
        },
        {
          "output_type": "display_data",
          "data": {
            "text/plain": [
              "<Figure size 432x288 with 1 Axes>"
            ],
            "image/png": "[encoded data removed]"
          },
          "metadata": {
            "needs_background": "light"
          }
        }
      ]
    },
    {
      "cell_type": "markdown",
      "source": [
        "Train and assess the model on the dataset split into training and validation subsets using early stopping."
      ],
      "metadata": {
        "id": "rKAgcM2IHsRy"
      }
    },
    {
      "cell_type": "code",
      "source": [
        "# Split dataset into training and validation\n",
        "X_train, X_val, y_train, y_val = train_test_split(X, y, test_size=0.2, random_state=42) #random_state=2\n",
        "\n",
        "# Train with early stopping\n",
        "softmax = Softmax()\n",
        "softmax.train_early_stopping( X_train, y_train, X_val, y_val, learning_rate=1e-2, reg=0.1, early_stopping_rounds=300)\n",
        "print('Training accuracy', softmax.eval(X_train, y_train))\n",
        "print('Validation accuracy', softmax.eval(X_val, y_val))\n",
        "plot_history(softmax.history, ['val acc', 'train acc'])"
      ],
      "metadata": {
        "colab": {
          "base_uri": "https://localhost:8080/",
          "height": 331
        },
        "id": "7wxFHZC41X1J",
        "outputId": "37882c03-d8e3-48f9-e2a5-edf3199be39b"
      },
      "execution_count": null,
      "outputs": [
        {
          "output_type": "stream",
          "name": "stdout",
          "text": [
            "Training accuracy 0.95\n",
            "Validation accuracy 1.0\n"
          ]
        },
        {
          "output_type": "display_data",
          "data": {
            "text/plain": [
              "<Figure size 432x288 with 1 Axes>"
            ],
            "image/png": "[encoded data removed]"
          },
          "metadata": {
            "needs_background": "light"
          }
        }
      ]
    },
    {
      "cell_type": "markdown",
      "source": [
        "Build the same model using Tensorflow/Keras. Not that the result needs to be one-hot encoded (a vector or result classes with the ground truth class encoded as 1 and the others as 0."
      ],
      "metadata": {
        "id": "Vv-TmQa96Fvw"
      }
    },
    {
      "cell_type": "code",
      "source": [
        "n_classes = len(np.unique(y))\n",
        "n_features = X.shape[1]\n",
        "y_hot = to_categorical(y, n_classes)"
      ],
      "metadata": {
        "id": "5UbZO2KjImsY"
      },
      "execution_count": null,
      "outputs": []
    },
    {
      "cell_type": "code",
      "source": [
        "def get_classification_model():\n",
        "  model = Sequential()\n",
        "  model.add(Dense(n_classes, input_dim=n_features, activation='softmax'))\n",
        "  model.compile(optimizer='adam',\n",
        "\t\t\tloss='categorical_crossentropy',\n",
        "\t\t\tmetrics=['accuracy'])\n",
        "  model.summary()\n",
        "  return model"
      ],
      "metadata": {
        "id": "bxjz9uW76jYw"
      },
      "execution_count": null,
      "outputs": []
    },
    {
      "cell_type": "code",
      "source": [
        "Softmax2 = get_classification_model()\n",
        "r = Softmax2.fit(X, y_hot, epochs=500, verbose=0)"
      ],
      "metadata": {
        "colab": {
          "base_uri": "https://localhost:8080/"
        },
        "id": "ighYjztr7aEu",
        "outputId": "ea1d474e-da20-46ad-c9fa-64d3fda48ae2"
      },
      "execution_count": null,
      "outputs": [
        {
          "output_type": "stream",
          "name": "stdout",
          "text": [
            "Model: \"sequential_43\"\n",
            "_________________________________________________________________\n",
            " Layer (type)                Output Shape              Param #   \n",
            "=================================================================\n",
            " dense_51 (Dense)            (None, 3)                 15        \n",
            "                                                                 \n",
            "=================================================================\n",
            "Total params: 15\n",
            "Trainable params: 15\n",
            "Non-trainable params: 0\n",
            "_________________________________________________________________\n"
          ]
        }
      ]
    },
    {
      "cell_type": "code",
      "source": [
        "plt.plot(r.history['accuracy'], label='acc')\n",
        "plt.legend()\n",
        "result = Softmax2.evaluate(X, y_hot)\n",
        "print('Loss, Acc', result)"
      ],
      "metadata": {
        "colab": {
          "base_uri": "https://localhost:8080/",
          "height": 301
        },
        "id": "GgFAcD7bDQzL",
        "outputId": "f6454472-068d-4f90-babb-84887ff234a1"
      },
      "execution_count": null,
      "outputs": [
        {
          "output_type": "stream",
          "name": "stdout",
          "text": [
            "5/5 [==============================] - 0s 2ms/step - loss: 0.4242 - accuracy: 0.9067\n",
            "Loss, Acc [0.4241645932197571, 0.9066666960716248]\n"
          ]
        },
        {
          "output_type": "display_data",
          "data": {
            "text/plain": [
              "<Figure size 432x288 with 1 Axes>"
            ],
            "image/png": "[encoded data removed]"
          },
          "metadata": {
            "needs_background": "light"
          }
        }
      ]
    },
    {
      "cell_type": "markdown",
      "source": [
        "We create another instance, otherwise we would just continue training the model."
      ],
      "metadata": {
        "id": "UJG5zqtOIx5w"
      }
    },
    {
      "cell_type": "code",
      "source": [
        "y_train_hot = to_categorical(y_train, n_classes)\n",
        "y_val_hot = to_categorical(y_val, n_classes)\n",
        "cb = EarlyStopping(monitor='val_accuracy', mode='max', patience=300)\n",
        "Softmax2 = get_classification_model()\n",
        "r = Softmax2.fit(X_train, y_train_hot, validation_data=(X_val, y_val_hot), epochs=500, verbose=0, callbacks=[cb])"
      ],
      "metadata": {
        "colab": {
          "base_uri": "https://localhost:8080/"
        },
        "id": "dOynpStMFWjk",
        "outputId": "105fffe2-db3a-44e1-a7c4-efbd590e80fe"
      },
      "execution_count": null,
      "outputs": [
        {
          "output_type": "stream",
          "name": "stdout",
          "text": [
            "Model: \"sequential_44\"\n",
            "_________________________________________________________________\n",
            " Layer (type)                Output Shape              Param #   \n",
            "=================================================================\n",
            " dense_52 (Dense)            (None, 3)                 15        \n",
            "                                                                 \n",
            "=================================================================\n",
            "Total params: 15\n",
            "Trainable params: 15\n",
            "Non-trainable params: 0\n",
            "_________________________________________________________________\n"
          ]
        }
      ]
    },
    {
      "cell_type": "code",
      "source": [
        "plt.plot(r.history['accuracy'], label='acc')\n",
        "plt.plot(r.history['val_accuracy'], label='val acc')\n",
        "plt.legend()\n",
        "result_train = Softmax2.evaluate(X_train, y_train_hot)\n",
        "result_val = Softmax2.evaluate(X_val, y_val_hot)\n",
        "print('Train Loss, Acc', result_train)\n",
        "print('Val Loss, Acc', result_val)"
      ],
      "metadata": {
        "colab": {
          "base_uri": "https://localhost:8080/",
          "height": 338
        },
        "id": "x4MCegsOHVE2",
        "outputId": "e15705d4-3495-4920-b0fd-665dfc52ce03"
      },
      "execution_count": null,
      "outputs": [
        {
          "output_type": "stream",
          "name": "stdout",
          "text": [
            "4/4 [==============================] - 0s 3ms/step - loss: 0.4127 - accuracy: 0.9417\n",
            "1/1 [==============================] - 0s 20ms/step - loss: 0.3896 - accuracy: 0.9667\n",
            "Train Loss, Acc [0.41273364424705505, 0.9416666626930237]\n",
            "Val Loss, Acc [0.38962313532829285, 0.9666666388511658]\n"
          ]
        },
        {
          "output_type": "display_data",
          "data": {
            "text/plain": [
              "<Figure size 432x288 with 1 Axes>"
            ],
            "image/png": "[encoded data removed]"
          },
          "metadata": {
            "needs_background": "light"
          }
        }
      ]
    },
    {
      "cell_type": "markdown",
      "source": [
        "## ANN for regression"
      ],
      "metadata": {
        "id": "RsaXZuAJbcba"
      }
    },
    {
      "cell_type": "markdown",
      "source": [
        "This second part uses a similar ANN approach for regression. Softmax is not applicable here as we don't want to restrict the output to values between 0 and 1. Also, we use the mean squared error (MSE) as the loss function instead of cross-entropy. This makes it essentially equivalent to linear regression. In is only interesting as the first step towards deep learning where we use several ANN layers and non-linear activation function to regress general functions."
      ],
      "metadata": {
        "id": "skALrewGbfZg"
      }
    },
    {
      "cell_type": "markdown",
      "source": [
        "We predict data from the Boston data set with an ANN. It has the following simple architecture: \n",
        "\n",
        "<img src=\"https://github.com/WelfLowe/ML4developers/blob/main/images/ANN_regression.png?raw=true\" width=400>."
      ],
      "metadata": {
        "id": "lFZ0yzjCbmoS"
      }
    },
    {
      "cell_type": "markdown",
      "source": [
        "We import the Boston dataset."
      ],
      "metadata": {
        "id": "dT3BVmwadcln"
      }
    },
    {
      "cell_type": "code",
      "source": [
        "data_url = \"https://archive.ics.uci.edu/ml/machine-learning-databases/housing/housing.data\"\n",
        "df = pd.read_csv(data_url, sep=\"\\s+\", skiprows=22, header=None)\n",
        "df.columns = ['CRIM','ZN', 'INDUS', 'CHAS', 'NOX', 'RM', 'AGE', 'DIS', 'RAD', 'TAX', 'PTRATIO', 'B', 'LSTAT', 'MEDV']\n",
        "df_X = df.drop('MEDV',axis=1)\n",
        "df_y =df['MEDV']\n",
        "X = df_X.to_numpy()\n",
        "y = df_y.to_numpy()\n",
        "print(X.shape,y.shape)"
      ],
      "metadata": {
        "colab": {
          "base_uri": "https://localhost:8080/"
        },
        "id": "v3gsZbiGniBB",
        "outputId": "7ddc7bef-f605-4219-9ce8-0fcb196c3f9a"
      },
      "execution_count": null,
      "outputs": [
        {
          "output_type": "stream",
          "name": "stdout",
          "text": [
            "(484, 13) (484,)\n"
          ]
        }
      ]
    },
    {
      "cell_type": "markdown",
      "source": [
        "Here the essential changes.\n",
        "\n",
        "We implement the Glorot uniform initializer for setting the initial weights. It draws samples from a uniform random distribution in $-\\textit{limit},\\textit{limit}$  where $\\textit{limit} = \\sqrt{6/(\\textit{idg}+\\textit{odg})}$, and where $\\textit{idg}$ and $\\textit{odg}$ are the number of input (equals the number of features) and output nodes (equals 1), resp. The initial bias $b$ is initiall set to $0$.\n",
        "\n",
        "Prediction works as before whereas evaluation uses MSE.\n",
        "\n",
        "The gradients of the weights and the bias, resp., can be derived using the chain rule of the definitions of MSE and the linear prediction functions. They are calculated as below. "
      ],
      "metadata": {
        "id": "FMX8UPFgdh0Q"
      }
    },
    {
      "cell_type": "code",
      "source": [
        "n_features, n_samples = X.shape[1], X.shape[0]\n",
        "limit = np.sqrt(6/(n_features+1))\n",
        "np.random.seed(42) # for reproducible results\n",
        "W = np.random.uniform(low=-1*limit, high=limit, size=n_features)\n",
        "b = 0\n",
        "y_hat = np.dot(X, W)+b #predict\n",
        "mse = ((y - y_hat)**2).mean() #eval = mse\n",
        "\n",
        "dW = -2*X.T.dot(y - y_hat) /n_samples\n",
        "db = -2*np.sum(y - y_hat) /n_samples\n",
        "\n",
        "mse"
      ],
      "metadata": {
        "id": "qla3SXCKqbN3",
        "colab": {
          "base_uri": "https://localhost:8080/"
        },
        "outputId": "1ea02390-893a-479a-9221-2500c844b440"
      },
      "execution_count": null,
      "outputs": [
        {
          "output_type": "execute_result",
          "data": {
            "text/plain": [
              "77753.44563246238"
            ]
          },
          "metadata": {},
          "execution_count": 247
        }
      ]
    },
    {
      "cell_type": "markdown",
      "source": [
        "Given these changes, the regressor class is very similar to the softmax class. Note that in early stopping, MSE is expected to decrease for regression while accuracy is expected to increas. For deciding the stop criterion, we also add an epsilon of 0.1 to consider only significant improvements."
      ],
      "metadata": {
        "id": "C3ZvDTc-g2iL"
      }
    },
    {
      "cell_type": "code",
      "source": [
        "class Regressor(object):    \n",
        "\n",
        "  def __init__(self):\n",
        "    self.W = None\n",
        "    self.b = 0\n",
        "    self.history = []\n",
        "    \n",
        "  def get_loss_grads(self, X, y, reg, n_samples):  \n",
        "    # Linear mapping scores\n",
        "    y_hat = np.dot(X, self.W)+self.b\n",
        "\n",
        "    # Compute the average loss\n",
        "    mse = ((y - y_hat)**2).mean()\n",
        "\n",
        "    # Add regularization using the L2 norm\n",
        "    reg_loss = 0.5*reg*np.sum(self.W*self.W)\n",
        "    mse += reg_loss\n",
        "    \n",
        "    # Gradient of the loss with respect to weights\n",
        "    dW = -2 * X.T.dot(y - y_hat) /n_samples\n",
        "\n",
        "    # Add gradient regularization \n",
        "    dW += reg*self.W\n",
        "\n",
        "    # Gradient of the loss with respect to biases\n",
        "    db = -2 * np.sum(y - y_hat) /n_samples\n",
        "\n",
        "    return mse, dW, db\n",
        "\n",
        "  def init_weights(self, n_features): \n",
        "    # Initialize weights from a normal distribution and the biases with zeros\n",
        "    if (self.W is None):\n",
        "      np.random.seed(42) # for reproducible results\n",
        "      limit = np.sqrt(6/(n_features+1))\n",
        "      self.W = np.random.uniform(low=-1*limit, high=limit, size=n_features)\n",
        "\n",
        "  def train(self, X, y, learning_rate=1e-4, reg=0, num_iters=50):\n",
        "    # Get useful parameters\n",
        "    n_features = X.shape[1]   \n",
        "    n_samples = X.shape[0] \n",
        "    self.init_weights(n_features)\n",
        "    \n",
        "    for iter in range(num_iters):\n",
        "      # Get loss and gradients\n",
        "      mse, dW, db = self.get_loss_grads(X, y, reg, n_samples)\n",
        "      \n",
        "      # update weights and biases\n",
        "      self.W -= learning_rate*dW\n",
        "      self.b -= learning_rate*db\n",
        "\n",
        "      # Compute validation accuracy\n",
        "      mse = self.eval(X, y)\n",
        "      self.history.append(mse)\n",
        "        \n",
        "        \n",
        "  def train_early_stopping(self, X_train, y_train, X_val, y_val, learning_rate=1e-4, reg=0.5, early_stopping_rounds=200):\n",
        "    # Get useful parameters_train\n",
        "    n_features = X_train.shape[1]   \n",
        "    n_samples = X_train.shape[0] \n",
        "    self.init_weights(n_features)\n",
        "\n",
        "    # Stores best accuracy found \n",
        "    best_val_mse = sys.float_info.max\n",
        "    \n",
        "    # Stores the weights and biases of the best iteration\n",
        "    best_weights, best_bias = None, None\n",
        "    \n",
        "    # Counts the number of no improvements in the accuracy\n",
        "    no_improvement = 0\n",
        "    \n",
        "    # Boolean variable which helps us get out of the while loop\n",
        "    keep_training = True\n",
        "        \n",
        "    while keep_training:\n",
        "        \n",
        "      # Get loss and gradients\n",
        "      mse, dW, db = self.get_loss_grads(X_train, y_train, reg, n_samples)\n",
        "    \n",
        "      # update weights and biases\n",
        "      self.W -= learning_rate*dW\n",
        "      self.b -= learning_rate*db\n",
        "              \n",
        "      # Compute validation accuracy\n",
        "      val_mse = self.eval(X_val,y_val)\n",
        "      train_mse = self.eval(X_train,y_train)\n",
        "\n",
        "      self.history.append([val_mse,train_mse])\n",
        "\n",
        "      if val_mse + 0.1 < best_val_mse: #delta > 0.1\n",
        "        best_val_mse = val_mse\n",
        "        best_weights, best_bias = self.W, self.b\n",
        "        # reset count\n",
        "        no_improvement = 0\n",
        "      else:\n",
        "        no_improvement += 1\n",
        "        \n",
        "      if no_improvement == early_stopping_rounds:\n",
        "        self.W, self.b = best_weights, best_bias\n",
        "        keep_training = False\n",
        "      \n",
        "      \n",
        "  def predict(self, X):\n",
        "    y_hat = np.dot(X, self.W)+self.b\n",
        "    return y_hat\n",
        "\n",
        "  def eval(self, X, y):\n",
        "    y_hat = self.predict(X)\n",
        "    return ((y - y_hat)**2).mean()"
      ],
      "metadata": {
        "id": "UiaVi3Uzt3Rv"
      },
      "execution_count": null,
      "outputs": []
    },
    {
      "cell_type": "markdown",
      "source": [
        "Training with a fixed number of 1000 iterations. Mind the changed learning rate."
      ],
      "metadata": {
        "id": "U6dYBlethvAH"
      }
    },
    {
      "cell_type": "code",
      "source": [
        "np.random.seed(42) # for reproducible results\n",
        "\n",
        "regressor = Regressor()\n",
        "regressor.train( X, y, learning_rate=1e-6, reg=0.1, num_iters=1000)\n",
        "print('MSE', regressor.eval(X, y))\n",
        "plot_history(regressor.history, 'mse')"
      ],
      "metadata": {
        "colab": {
          "base_uri": "https://localhost:8080/",
          "height": 313
        },
        "id": "1qFhNwf_z8py",
        "outputId": "3e61eac4-f736-4480-e3c6-912e8b24c5bb"
      },
      "execution_count": null,
      "outputs": [
        {
          "output_type": "stream",
          "name": "stdout",
          "text": [
            "MSE 133.44673063538275\n"
          ]
        },
        {
          "output_type": "display_data",
          "data": {
            "text/plain": [
              "<Figure size 432x288 with 1 Axes>"
            ],
            "image/png": "[encoded data removed]"
          },
          "metadata": {
            "needs_background": "light"
          }
        }
      ]
    },
    {
      "cell_type": "markdown",
      "source": [
        "Training and evaluating with early stopping."
      ],
      "metadata": {
        "id": "jMrYu-EFh6Yp"
      }
    },
    {
      "cell_type": "code",
      "source": [
        "np.random.seed(42) # for reproducible results\n",
        "\n",
        "# Split dataset into training and validation\n",
        "X_train, X_val, y_train, y_val = train_test_split(X, y, test_size=0.2, random_state=42) \n",
        "\n",
        "# Train with early stopping\n",
        "regressor = Regressor()\n",
        "regressor.train_early_stopping( X_train, y_train, X_val, y_val, learning_rate=1e-6, reg=0.1, early_stopping_rounds=10)\n",
        "print('Training MSE', regressor.eval(X_train, y_train))\n",
        "print('Validation MSE', regressor.eval(X_val, y_val))\n",
        "plot_history(regressor.history, ['val mse', 'train mse'])"
      ],
      "metadata": {
        "colab": {
          "base_uri": "https://localhost:8080/",
          "height": 331
        },
        "id": "lCO1jbZo8fAZ",
        "outputId": "256040f3-6599-4a1d-f5cf-4d9730d88551"
      },
      "execution_count": null,
      "outputs": [
        {
          "output_type": "stream",
          "name": "stdout",
          "text": [
            "Training MSE 121.54840464468273\n",
            "Validation MSE 103.81981067162394\n"
          ]
        },
        {
          "output_type": "display_data",
          "data": {
            "text/plain": [
              "<Figure size 432x288 with 1 Axes>"
            ],
            "image/png": "[encoded data removed]"
          },
          "metadata": {
            "needs_background": "light"
          }
        }
      ]
    },
    {
      "cell_type": "markdown",
      "source": [
        "Building the same ANN with Tensorflow/Keras."
      ],
      "metadata": {
        "id": "9kjdeGVDYcuV"
      }
    },
    {
      "cell_type": "code",
      "source": [
        "def get_regression_model():\n",
        "  model = Sequential()\n",
        "  model.add(Dense(n_classes, input_dim=n_features, activation='linear'))\n",
        "  model.compile(optimizer='adam',\n",
        "\t\t\tloss='mse',\n",
        "\t\t\tmetrics=['mse'])\n",
        "  model.summary()\n",
        "  return model"
      ],
      "metadata": {
        "id": "rK9cDlnqWcK3"
      },
      "execution_count": null,
      "outputs": []
    },
    {
      "cell_type": "code",
      "source": [
        "Regressor2 = get_regression_model()\n",
        "r = Regressor2.fit(X, y, epochs=500, verbose=0)"
      ],
      "metadata": {
        "id": "csJGkSqRXaLj",
        "outputId": "4d252973-e3af-47b6-bf47-6ebbfed288f7",
        "colab": {
          "base_uri": "https://localhost:8080/"
        }
      },
      "execution_count": null,
      "outputs": [
        {
          "output_type": "stream",
          "name": "stdout",
          "text": [
            "Model: \"sequential_45\"\n",
            "_________________________________________________________________\n",
            " Layer (type)                Output Shape              Param #   \n",
            "=================================================================\n",
            " dense_53 (Dense)            (None, 3)                 42        \n",
            "                                                                 \n",
            "=================================================================\n",
            "Total params: 42\n",
            "Trainable params: 42\n",
            "Non-trainable params: 0\n",
            "_________________________________________________________________\n"
          ]
        }
      ]
    },
    {
      "cell_type": "code",
      "source": [
        "plt.plot(r.history['mse'], label='mse')\n",
        "plt.legend()\n",
        "result = Regressor2.evaluate(X, y)\n",
        "print('MSE', result[0])"
      ],
      "metadata": {
        "id": "KM77TrVoYIW_",
        "outputId": "cfa24047-2719-4e09-d9a8-3b9dceed4db3",
        "colab": {
          "base_uri": "https://localhost:8080/",
          "height": 301
        }
      },
      "execution_count": null,
      "outputs": [
        {
          "output_type": "stream",
          "name": "stdout",
          "text": [
            "16/16 [==============================] - 0s 2ms/step - loss: 45.2509 - mse: 45.2509\n",
            "MSE 45.250858306884766\n"
          ]
        },
        {
          "output_type": "display_data",
          "data": {
            "text/plain": [
              "<Figure size 432x288 with 1 Axes>"
            ],
            "image/png": "[encoded data removed]"
          },
          "metadata": {
            "needs_background": "light"
          }
        }
      ]
    },
    {
      "cell_type": "code",
      "source": [
        "cb = EarlyStopping(monitor='val_mse', mode='min', min_delta=0.1, patience=10)\n",
        "Regressor2 = get_regression_model()\n",
        "r = Regressor2.fit(X_train, y_train, validation_data=(X_val, y_val), epochs=1000, verbose=0, callbacks=[cb])"
      ],
      "metadata": {
        "id": "q1a1cq8OYrDn",
        "outputId": "7798c6ae-1764-4866-dc3b-32bffb79c159",
        "colab": {
          "base_uri": "https://localhost:8080/"
        }
      },
      "execution_count": null,
      "outputs": [
        {
          "output_type": "stream",
          "name": "stdout",
          "text": [
            "Model: \"sequential_46\"\n",
            "_________________________________________________________________\n",
            " Layer (type)                Output Shape              Param #   \n",
            "=================================================================\n",
            " dense_54 (Dense)            (None, 3)                 42        \n",
            "                                                                 \n",
            "=================================================================\n",
            "Total params: 42\n",
            "Trainable params: 42\n",
            "Non-trainable params: 0\n",
            "_________________________________________________________________\n"
          ]
        }
      ]
    },
    {
      "cell_type": "code",
      "source": [
        "plt.plot(r.history['mse'], label='mse')\n",
        "plt.plot(r.history['val_mse'], label='val mse')\n",
        "plt.legend()\n",
        "\n",
        "result_train = Regressor2.evaluate(X_train, y_train)\n",
        "result_val = Regressor2.evaluate(X_val, y_val)\n",
        "print('Training MSE', result_train[0])\n",
        "print('Validation MSE', result_val[0])"
      ],
      "metadata": {
        "id": "CYtFf1QWZUms",
        "outputId": "6c3d5b92-4557-47cf-b15d-27eef1df6eab",
        "colab": {
          "base_uri": "https://localhost:8080/",
          "height": 336
        }
      },
      "execution_count": null,
      "outputs": [
        {
          "output_type": "stream",
          "name": "stdout",
          "text": [
            "13/13 [==============================] - 0s 2ms/step - loss: 62.3800 - mse: 62.3800\n",
            "4/4 [==============================] - 0s 3ms/step - loss: 64.9601 - mse: 64.9601\n",
            "Training MSE 62.379974365234375\n",
            "Validation MSE 64.96011352539062\n"
          ]
        },
        {
          "output_type": "display_data",
          "data": {
            "text/plain": [
              "<Figure size 432x288 with 1 Axes>"
            ],
            "image/png": "[encoded data removed]"
          },
          "metadata": {
            "needs_background": "light"
          }
        }
      ]
    },
    {
      "cell_type": "markdown",
      "source": [
        "## Advanced: Two Layer ANN and Back-Propagation "
      ],
      "metadata": {
        "id": "gz_YM5uaoxPa"
      }
    },
    {
      "cell_type": "markdown",
      "source": [
        "Now, we a another layer of \"neurons\" and a non-linear \"activation\" function for each neuron in the first layer. This allows the optimization to train a non-linear model. Details about the example are explained [here](https://www.youtube.com/watch?v=dxZ8a-oIu7U)."
      ],
      "metadata": {
        "id": "2C2y285rqbyp"
      }
    },
    {
      "cell_type": "markdown",
      "source": [
        "Again we predict data from the Boston data set with an ANN. It has the following two-layered architecture: \n",
        "\n",
        "<img src=\"https://github.com/WelfLowe/ML4developers/blob/main/images/ANN_regression2.png?raw=true\" width=400>."
      ],
      "metadata": {
        "id": "_61i8Zkub7hd"
      }
    },
    {
      "cell_type": "markdown",
      "source": [
        "We transpose both the predictors and the responses, i.e., data points are encoded in columns instead of row."
      ],
      "metadata": {
        "id": "Uu094RscNAZ1"
      }
    },
    {
      "cell_type": "code",
      "source": [
        "X = X.T\n",
        "y = y.reshape(1, -1)\n",
        "print(X.shape, y.shape)"
      ],
      "metadata": {
        "colab": {
          "base_uri": "https://localhost:8080/"
        },
        "id": "jSZvDw6ROSKj",
        "outputId": "bcf379ec-acbd-4c18-f3a2-abdfed02fe4d"
      },
      "execution_count": null,
      "outputs": [
        {
          "output_type": "stream",
          "name": "stdout",
          "text": [
            "(13, 484) (1, 484)\n"
          ]
        }
      ]
    },
    {
      "cell_type": "markdown",
      "source": [
        "Next we define a non-linear activation function. We use the [sigmoid](https://en.wikipedia.org/wiki/Sigmoid_function) instead of the softmax activation function as in the classification example above. Both map input values to $[0,1]$; please find a cpmarison [here](https://medium.com/arteos-ai/the-differences-between-sigmoid-and-softmax-activation-function-12adee8cf322)."
      ],
      "metadata": {
        "id": "zszcGc-mNagF"
      }
    },
    {
      "cell_type": "code",
      "source": [
        "sigmoid = lambda x: 1 / (1 + np.exp(-x))"
      ],
      "metadata": {
        "id": "nUU8t095T-Bc"
      },
      "execution_count": null,
      "outputs": []
    },
    {
      "cell_type": "markdown",
      "source": [
        "For demonstration, we\n",
        "- initialize the weight matrices and bias vectors of the two layers ($\\verb|W1,b1,W2,b2|$), \n",
        "- compute a prediction (vector) of *all* datapoints ($\\verb|y2|$), \n",
        "- compute the loss of the prediction ($\\verb|mse|$) by two simple matrix mutiplications with the application of the sigmoid activation in between,\n",
        "- compute the gradients of ($\\verb|W1,b1,W2,b2|$), and\n",
        "- check if the gradients of weights and biases have the same shape as the respective weight matrix and bias vector."
      ],
      "metadata": {
        "id": "on7_7L8KPg76"
      }
    },
    {
      "cell_type": "code",
      "source": [
        "np.random.seed(42) # for reproducible results\n",
        "\n",
        "n_features, n_samples = X.shape[0], X.shape[1]\n",
        "limit1 = np.sqrt(6/(n_features+3))\n",
        "W1 = np.random.uniform(low=-limit1, high=limit1, size=(3, n_features))\n",
        "b1 = np.zeros((3,1))\n",
        "limit2 = np.sqrt(6/(3+1))\n",
        "W2 = np.random.uniform(low=-limit2, high=limit2, size=(1, 3))\n",
        "b2 = np.zeros((1,1))\n",
        "\n",
        "#predict\n",
        "y1 = np.matmul(W1, X)+b1 # level 1 neurons\n",
        "s=sigmoid(y1)\n",
        "y2 = np.matmul(W2, s)+b2 # level 2 neurons\n",
        "\n",
        "#eval \n",
        "mse = ((y - y2)**2).mean() #eval = mse\n",
        "\n",
        "#gradients\n",
        "dy2 = 2 *(y2-y)\n",
        "dW2 = np.matmul(dy2, s.T) \n",
        "db2 = np.matmul(dy2, np.ones((n_samples,1)))\n",
        "ds = np.matmul(W2.T, dy2) \n",
        "dy1 = ds * s * sigmoid(1-s)\n",
        "dW1 = np.matmul(dy1, X.T) \n",
        "db1 = np.matmul(dy1, np.ones((n_samples,1))) \n",
        "\n",
        "#check shapes\n",
        "print(W1.shape,dW1.shape)\n",
        "print(b1.shape,db1.shape)\n",
        "print(W2.shape,dW2.shape)\n",
        "print(b2.shape,db2.shape)"
      ],
      "metadata": {
        "colab": {
          "base_uri": "https://localhost:8080/"
        },
        "id": "rnxysbnnaLEB",
        "outputId": "76d96cab-a5f0-487a-f9e7-fc659aae7ed0"
      },
      "execution_count": null,
      "outputs": [
        {
          "output_type": "stream",
          "name": "stdout",
          "text": [
            "(3, 13) (3, 13)\n",
            "(3, 1) (3, 1)\n",
            "(1, 3) (1, 3)\n",
            "(1, 1) (1, 1)\n"
          ]
        }
      ]
    },
    {
      "cell_type": "markdown",
      "source": [
        "Since everythings seems to be sound, we update the regressor class with new new computations."
      ],
      "metadata": {
        "id": "20Q2MD2mRb5W"
      }
    },
    {
      "cell_type": "code",
      "source": [
        "class Regressor3(object):    \n",
        "\n",
        "  def __init__(self):\n",
        "    self.W1 = None\n",
        "    self.b1 = None\n",
        "    self.W2 = None\n",
        "    self.b2 = None\n",
        "    self.n_features = 0\n",
        "    self.n_samples = 0\n",
        "    self.history = []\n",
        "    \n",
        "  def get_loss_grads(self, X, y, reg):  \n",
        "    #predict\n",
        "    y1 = np.matmul(self.W1, X)+self.b1 # level 1 neurons\n",
        "    s=sigmoid(y1)\n",
        "    y2 = np.matmul(self.W2, s)+self.b2 # level 2 neurons\n",
        "\n",
        "    #gradients\n",
        "    dy2 = 2 *(y2-y)\n",
        "    dW2 = np.matmul(dy2, s.T) \n",
        "    dW2 += reg*self.W2\n",
        "    db2 = np.matmul(dy2, np.ones((self.n_samples,1)))    \n",
        "    ds = np.matmul(self.W2.T, dy2) \n",
        "    dy1 = ds * s * sigmoid(1-s)\n",
        "    dW1 = np.matmul(dy1, X.T) \n",
        "    dW1 += reg*self.W1\n",
        "    db1 = np.matmul(dy1, np.ones((self.n_samples,1))) \n",
        "\n",
        "    return dW2, db2, dW1, db1\n",
        "\n",
        "  def init_weights(self,X): \n",
        "    # Initialize weights from a normal distribution and the biases with zeros\n",
        "    if (self.W2 is None):\n",
        "      self.n_features, self.n_samples = X.shape[0], X.shape[1]\n",
        "      limit1 = np.sqrt(6/(self.n_features+3))\n",
        "      self.W1 = np.random.uniform(low=-limit1, high=limit1, size=(3, self.n_features))\n",
        "      self.b1 = np.zeros((3,1))\n",
        "      limit2 = np.sqrt(6/(3+1))\n",
        "      self.W2 = np.random.uniform(low=-limit2, high=limit2, size=(1, 3))\n",
        "      self.b2 = np.zeros((1,1))\n",
        "\n",
        "  def train(self, X, y, learning_rate=1e-4, reg=0, num_iters=50):\n",
        "    # Get useful parameters\n",
        "    self.init_weights(X)\n",
        "    \n",
        "    for iter in range(num_iters):\n",
        "      # Get loss and gradients\n",
        "      dW2, db2, dW1, db1 = self.get_loss_grads(X, y, reg)\n",
        "\n",
        "      # update weights and biases\n",
        "      self.W2 -= learning_rate*dW2\n",
        "      self.b2 -= learning_rate*db2\n",
        "      self.W1 -= learning_rate*dW1\n",
        "      self.b1 -= learning_rate*db1\n",
        "\n",
        "      # Compute validation accuracy\n",
        "      mse = self.eval(X, y)\n",
        "      self.history.append(mse)\n",
        "        \n",
        "        \n",
        "  def train_early_stopping(self, X_train, y_train, X_val, y_val, learning_rate=1e-4, reg=0.5, early_stopping_rounds=200):\n",
        "    # Get useful parameters_train\n",
        "    self.init_weights(X_train)\n",
        "\n",
        "    # Stores best accuracy found \n",
        "    best_val_mse = sys.float_info.max\n",
        "    \n",
        "    # Stores the weights and biases of the best iteration\n",
        "    best_W2, best_b2, best_W1, best_b1 = None, None, None, None\n",
        "    \n",
        "    # Counts the number of no improvements in the accuracy\n",
        "    no_improvement = 0\n",
        "    \n",
        "    # Boolean variable which helps us get out of the while loop\n",
        "    keep_training = True\n",
        "        \n",
        "    while keep_training:\n",
        "        \n",
        "      # Get loss and gradients\n",
        "      dW2, db2, dW1, db1 = self.get_loss_grads(X_train, y_train, reg)\n",
        "\n",
        "      # update weights and biases\n",
        "      self.W2 -= learning_rate*dW2\n",
        "      self.b2 -= learning_rate*db2\n",
        "      self.W1 -= learning_rate*dW1\n",
        "      self.b1 -= learning_rate*db1\n",
        "             \n",
        "      # Compute validation accuracy\n",
        "      val_mse = self.eval(X_val,y_val)\n",
        "      train_mse = self.eval(X_train,y_train)\n",
        "\n",
        "      self.history.append([val_mse, train_mse])\n",
        "\n",
        "      if val_mse + 0.1 < best_val_mse: #epsilon = 0.1\n",
        "        best_val_mse = val_mse\n",
        "        best_W2 = self.W2 \n",
        "        best_b2 = self.b2 \n",
        "        best_W1 = self.W1 \n",
        "        best_b1 = self.b1 \n",
        "        # reset count\n",
        "        no_improvement = 0\n",
        "      else:\n",
        "        no_improvement += 1\n",
        "        \n",
        "      if no_improvement == early_stopping_rounds:\n",
        "        self.W2 = best_W2\n",
        "        self.b2 = best_b2 \n",
        "        self.W1 = best_W1\n",
        "        self.b1 = best_b1\n",
        "        keep_training = False\n",
        "      \n",
        "      \n",
        "  def predict(self, X):\n",
        "    y1 = np.matmul(self.W1, X)+self.b1 # level 1 neurons\n",
        "    s=sigmoid(y1)\n",
        "    y2 = np.matmul(self.W2, s)+self.b2 # level 2 neurons\n",
        "    return y2\n",
        "\n",
        "  def eval(self, X, y):\n",
        "    y2 = self.predict(X)\n",
        "    mse = ((y - y2)**2).mean() #eval = mse\n",
        "    return mse"
      ],
      "metadata": {
        "id": "Tttfw76tSmCC"
      },
      "execution_count": null,
      "outputs": []
    },
    {
      "cell_type": "markdown",
      "source": [
        "We train again with a fixed number of 1000 iterations on the whole dataset."
      ],
      "metadata": {
        "id": "ZRX0rViKR9kx"
      }
    },
    {
      "cell_type": "code",
      "source": [
        "np.random.seed(42) # for reproducible results\n",
        "\n",
        "regressor = Regressor3()\n",
        "regressor.train( X, y, learning_rate=1e-6, reg=0.1, num_iters=1000)\n",
        "print('MSE', regressor.eval(X, y))\n",
        "plot_history(regressor.history, 'mse')"
      ],
      "metadata": {
        "colab": {
          "base_uri": "https://localhost:8080/",
          "height": 313
        },
        "id": "Bdv0A070XxnG",
        "outputId": "0825abc8-c877-4935-f877-ba6818fdcad8"
      },
      "execution_count": null,
      "outputs": [
        {
          "output_type": "stream",
          "name": "stdout",
          "text": [
            "MSE 97.36746491273553\n"
          ]
        },
        {
          "output_type": "display_data",
          "data": {
            "text/plain": [
              "<Figure size 432x288 with 1 Axes>"
            ],
            "image/png": "[encoded data removed]"
          },
          "metadata": {
            "needs_background": "light"
          }
        }
      ]
    },
    {
      "cell_type": "markdown",
      "source": [
        "Training converges slower now, but arrive eventually at a lower error."
      ],
      "metadata": {
        "id": "4KkZD-1hSFWu"
      }
    },
    {
      "cell_type": "markdown",
      "source": [
        "Now we train with early stopping on a validation set. Mind that we need to transpose the dataset befor splitting and the result back again before regression."
      ],
      "metadata": {
        "id": "exOcd6gKSZPE"
      }
    },
    {
      "cell_type": "code",
      "source": [
        "np.random.seed(42) # for reproducible results\n",
        "\n",
        "# Split dataset into training and validation\n",
        "X_train, X_val, y_train, y_val = train_test_split(X.T, y.T, test_size=0.2, random_state=42) \n",
        "X_train = X_train.T \n",
        "X_val = X_val.T\n",
        "y_train = y_train.T\n",
        "y_val = y_val.T\n",
        "\n",
        "# Train with early stopping\n",
        "regressor2 = Regressor3()\n",
        "regressor2.train_early_stopping(X_train, y_train, X_val, y_val, learning_rate=1e-6, reg=0.1, early_stopping_rounds=10)\n",
        "print('Training MSE', regressor2.eval(X_train, y_train))\n",
        "print('Validation MSE', regressor2.eval(X_val, y_val))\n",
        "plot_history(regressor2.history, ['val mse', 'train mse'])"
      ],
      "metadata": {
        "colab": {
          "base_uri": "https://localhost:8080/",
          "height": 331
        },
        "id": "pexWRmMRak4K",
        "outputId": "134b7dba-92cc-4e16-c94f-b88477250ac2"
      },
      "execution_count": null,
      "outputs": [
        {
          "output_type": "stream",
          "name": "stdout",
          "text": [
            "Training MSE 90.69306593710112\n",
            "Validation MSE 90.24294015126242\n"
          ]
        },
        {
          "output_type": "display_data",
          "data": {
            "text/plain": [
              "<Figure size 432x288 with 1 Axes>"
            ],
            "image/png": "[encoded data removed]"
          },
          "metadata": {
            "needs_background": "light"
          }
        }
      ]
    },
    {
      "cell_type": "markdown",
      "source": [
        "This gives an even more accurate prediction model."
      ],
      "metadata": {
        "id": "c0y73LORS9ZW"
      }
    }
  ]
}