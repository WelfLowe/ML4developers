{
  "nbformat": 4,
  "nbformat_minor": 0,
  "metadata": {
    "colab": {
      "provenance": [],
      "authorship_tag": "ABX9TyO9sPdbjag2vnmEI6ve6MUU",
      "include_colab_link": true
    },
    "kernelspec": {
      "name": "python3",
      "display_name": "Python 3"
    },
    "language_info": {
      "name": "python"
    }
  },
  "cells": [
    {
      "cell_type": "markdown",
      "metadata": {
        "id": "view-in-github",
        "colab_type": "text"
      },
      "source": [
        "<a href=\"https://colab.research.google.com/github/WelfLowe/ML4developers/blob/main/5_Kernel_Methods_and_SVMs.ipynb\" target=\"_parent\"><img src=\"https://colab.research.google.com/assets/colab-badge.svg\" alt=\"Open In Colab\"/></a>"
      ]
    },
    {
      "cell_type": "markdown",
      "source": [
        "# SVMs and parameter selection"
      ],
      "metadata": {
        "id": "PC6bqh7Cdxg_"
      }
    },
    {
      "cell_type": "markdown",
      "source": [
        "Here the entry point into the corresponding [sklearn documentation](https://scikit-learn.org/stable/modules/cross_validation.html)."
      ],
      "metadata": {
        "id": "Teiwff45rJ-k"
      }
    },
    {
      "cell_type": "markdown",
      "source": [
        "Import necessary libraries."
      ],
      "metadata": {
        "id": "mMsYZgNldoJe"
      }
    },
    {
      "cell_type": "code",
      "source": [
        "import pandas as pd\n",
        "from sklearn import datasets\n",
        "from sklearn import svm\n",
        "from sklearn import preprocessing\n",
        "from sklearn.model_selection import train_test_split\n",
        "from sklearn.model_selection import cross_val_score\n",
        "from sklearn.model_selection import GridSearchCV"
      ],
      "metadata": {
        "id": "_wPwQMvmdvQ-"
      },
      "execution_count": 42,
      "outputs": []
    },
    {
      "cell_type": "markdown",
      "source": [
        "Load Iris."
      ],
      "metadata": {
        "id": "WiQH92zMd7Sz"
      }
    },
    {
      "cell_type": "code",
      "source": [
        "iris = datasets.load_iris()\n",
        "X = iris.data\n",
        "y = iris.target\n",
        "X[0:5,:]"
      ],
      "metadata": {
        "colab": {
          "base_uri": "https://localhost:8080/"
        },
        "id": "TKngP1lQeAAI",
        "outputId": "8c8605e9-9b51-4797-f935-6221d8756fb9"
      },
      "execution_count": 48,
      "outputs": [
        {
          "output_type": "execute_result",
          "data": {
            "text/plain": [
              "array([[5.1, 3.5, 1.4, 0.2],\n",
              "       [4.9, 3. , 1.4, 0.2],\n",
              "       [4.7, 3.2, 1.3, 0.2],\n",
              "       [4.6, 3.1, 1.5, 0.2],\n",
              "       [5. , 3.6, 1.4, 0.2]])"
            ]
          },
          "metadata": {},
          "execution_count": 48
        }
      ]
    },
    {
      "cell_type": "markdown",
      "source": [
        "SVM classifiers are (in contrast to other classifiers) sensitive to different value ranges of the predictors. Hence, it is suggested to normalize the predictors. \n",
        "\n",
        "**OBS**, as a matter of fact, in the Iris dataset normalization does not help actually. Find out by commenting out the below line and rerunning the notebook."
      ],
      "metadata": {
        "id": "qylWhRK-vnRY"
      }
    },
    {
      "cell_type": "code",
      "source": [
        "X = preprocessing.normalize(X)\n",
        "X[0:5,:]"
      ],
      "metadata": {
        "colab": {
          "base_uri": "https://localhost:8080/"
        },
        "id": "m41eh_mCv86P",
        "outputId": "c4100796-15f9-41ec-a1c1-93c60eee9287"
      },
      "execution_count": 49,
      "outputs": [
        {
          "output_type": "execute_result",
          "data": {
            "text/plain": [
              "array([[0.80377277, 0.55160877, 0.22064351, 0.0315205 ],\n",
              "       [0.82813287, 0.50702013, 0.23660939, 0.03380134],\n",
              "       [0.80533308, 0.54831188, 0.2227517 , 0.03426949],\n",
              "       [0.80003025, 0.53915082, 0.26087943, 0.03478392],\n",
              "       [0.790965  , 0.5694948 , 0.2214702 , 0.0316386 ]])"
            ]
          },
          "metadata": {},
          "execution_count": 49
        }
      ]
    },
    {
      "cell_type": "markdown",
      "source": [
        "Train an SVM model with fixed hyperparameters and assess the models using train-test splitting."
      ],
      "metadata": {
        "id": "e9SIhcxZe60o"
      }
    },
    {
      "cell_type": "code",
      "source": [
        "X_train, X_test, y_train, y_test = train_test_split(X, y, test_size=0.2, random_state=42)\n",
        "clf = svm.SVC(kernel='linear', C=1).fit(X_train, y_train)\n",
        "score = clf.score(X_test, y_test)\n",
        "score"
      ],
      "metadata": {
        "colab": {
          "base_uri": "https://localhost:8080/"
        },
        "id": "uxjHLZ5Ie7ap",
        "outputId": "0709bcf7-882d-4d17-eb72-c6ca91bcfeb2"
      },
      "execution_count": 55,
      "outputs": [
        {
          "output_type": "execute_result",
          "data": {
            "text/plain": [
              "0.6333333333333333"
            ]
          },
          "metadata": {},
          "execution_count": 55
        }
      ]
    },
    {
      "cell_type": "markdown",
      "source": [
        "This suggests that the classifier is quite bad."
      ],
      "metadata": {
        "id": "NEaUAP5xrm3l"
      }
    },
    {
      "cell_type": "markdown",
      "source": [
        "Train SVM models with the same fixed hyperparameters and assess the models using 5-fold cross validation."
      ],
      "metadata": {
        "id": "opCEmkmteJ9I"
      }
    },
    {
      "cell_type": "code",
      "source": [
        "clf = svm.SVC(kernel='linear', C=1, random_state=42)\n",
        "scores = cross_val_score(clf, X, y, cv=5) #\n",
        "scores"
      ],
      "metadata": {
        "colab": {
          "base_uri": "https://localhost:8080/"
        },
        "id": "qF9ZVP4deaP4",
        "outputId": "01165779-cd0d-4b5f-92ff-a72c22fb5c3a"
      },
      "execution_count": 56,
      "outputs": [
        {
          "output_type": "execute_result",
          "data": {
            "text/plain": [
              "array([1.        , 0.93333333, 0.93333333, 0.93333333, 1.        ])"
            ]
          },
          "metadata": {},
          "execution_count": 56
        }
      ]
    },
    {
      "cell_type": "markdown",
      "source": [
        "Calculating the mean score of all 5 folds (and its standard deviation)."
      ],
      "metadata": {
        "id": "jamryAJ3fn8A"
      }
    },
    {
      "cell_type": "code",
      "source": [
        "print(\"%0.2f accuracy with a standard deviation of %0.2f\" % (scores.mean(), scores.std()))"
      ],
      "metadata": {
        "colab": {
          "base_uri": "https://localhost:8080/"
        },
        "id": "bI-lHW7jfwMa",
        "outputId": "1fa85ea0-59a3-40f3-e86f-f5101e4b8722"
      },
      "execution_count": 57,
      "outputs": [
        {
          "output_type": "stream",
          "name": "stdout",
          "text": [
            "0.96 accuracy with a standard deviation of 0.03\n"
          ]
        }
      ]
    },
    {
      "cell_type": "markdown",
      "source": [
        "Obviously, the train-test split is random and the accuracy varies with it. Averaging over several splits, as done with cross validation, reduces the uncertainty in the accuracy estimation. "
      ],
      "metadata": {
        "id": "laZ81wIjhM4N"
      }
    },
    {
      "cell_type": "markdown",
      "source": [
        "Still, we need to guess the hyperparamters, here the $C$ hyperparamters, i.e., the penalty parameter of the error term, and the selected kernel, each of which may or may not come with further hyperparameters, here $\\gamma$. "
      ],
      "metadata": {
        "id": "CpOT2M1miDsd"
      }
    },
    {
      "cell_type": "code",
      "source": [
        "parameters = {'kernel':['linear', 'rbf', 'poly', 'sigmoid'], 'C':[0.1, 1, 10, 100], 'gamma': [1,0.1,0.01,0.001]}\n",
        "svc = svm.SVC()\n",
        "clf = GridSearchCV(svc, parameters)\n",
        "clf.fit(X, y)\n",
        "GridSearchCV(estimator=svc, param_grid=parameters)\n",
        "sorted(clf.cv_results_.keys())"
      ],
      "metadata": {
        "colab": {
          "base_uri": "https://localhost:8080/"
        },
        "id": "xU_flMZHih2x",
        "outputId": "8424b02a-18dd-40cd-a1eb-cfe6d4f78770"
      },
      "execution_count": 58,
      "outputs": [
        {
          "output_type": "execute_result",
          "data": {
            "text/plain": [
              "['mean_fit_time',\n",
              " 'mean_score_time',\n",
              " 'mean_test_score',\n",
              " 'param_C',\n",
              " 'param_gamma',\n",
              " 'param_kernel',\n",
              " 'params',\n",
              " 'rank_test_score',\n",
              " 'split0_test_score',\n",
              " 'split1_test_score',\n",
              " 'split2_test_score',\n",
              " 'split3_test_score',\n",
              " 'split4_test_score',\n",
              " 'std_fit_time',\n",
              " 'std_score_time',\n",
              " 'std_test_score']"
            ]
          },
          "metadata": {},
          "execution_count": 58
        }
      ]
    },
    {
      "cell_type": "code",
      "source": [
        "df = pd.DataFrame.from_dict(clf.cv_results_)\n",
        "df[[\n",
        " 'mean_test_score',\n",
        " 'param_C',\n",
        " 'param_kernel',\n",
        " 'param_gamma',\n",
        " 'std_test_score']].sort_values([\n",
        " 'mean_test_score',\n",
        " 'std_test_score',\n",
        " 'param_kernel'],ascending=False).head(15)"
      ],
      "metadata": {
        "colab": {
          "base_uri": "https://localhost:8080/",
          "height": 520
        },
        "id": "QKjockAHj6yB",
        "outputId": "0946a956-4f21-4ce0-91c4-e4d50d0e5aaa"
      },
      "execution_count": 59,
      "outputs": [
        {
          "output_type": "execute_result",
          "data": {
            "text/plain": [
              "    mean_test_score param_C param_kernel param_gamma  std_test_score\n",
              "35         0.973333      10      sigmoid           1        0.032660\n",
              "51         0.973333     100      sigmoid           1        0.032660\n",
              "33         0.973333      10          rbf           1        0.024944\n",
              "53         0.973333     100          rbf         0.1        0.024944\n",
              "55         0.966667     100      sigmoid         0.1        0.029814\n",
              "34         0.966667      10         poly           1        0.029814\n",
              "32         0.966667      10       linear           1        0.029814\n",
              "36         0.966667      10       linear         0.1        0.029814\n",
              "40         0.966667      10       linear        0.01        0.029814\n",
              "44         0.966667      10       linear       0.001        0.029814\n",
              "49         0.960000     100          rbf           1        0.038873\n",
              "50         0.960000     100         poly           1        0.038873\n",
              "3          0.960000     0.1      sigmoid           1        0.032660\n",
              "7          0.960000     0.1      sigmoid         0.1        0.032660\n",
              "11         0.960000     0.1      sigmoid        0.01        0.032660"
            ],
            "text/html": [
              "\n",
              "  <div id=\"df-a1e319a6-ffcd-4cac-b478-7783538e6af5\">\n",
              "    <div class=\"colab-df-container\">\n",
              "      <div>\n",
              "<style scoped>\n",
              "    .dataframe tbody tr th:only-of-type {\n",
              "        vertical-align: middle;\n",
              "    }\n",
              "\n",
              "    .dataframe tbody tr th {\n",
              "        vertical-align: top;\n",
              "    }\n",
              "\n",
              "    .dataframe thead th {\n",
              "        text-align: right;\n",
              "    }\n",
              "</style>\n",
              "<table border=\"1\" class=\"dataframe\">\n",
              "  <thead>\n",
              "    <tr style=\"text-align: right;\">\n",
              "      <th></th>\n",
              "      <th>mean_test_score</th>\n",
              "      <th>param_C</th>\n",
              "      <th>param_kernel</th>\n",
              "      <th>param_gamma</th>\n",
              "      <th>std_test_score</th>\n",
              "    </tr>\n",
              "  </thead>\n",
              "  <tbody>\n",
              "    <tr>\n",
              "      <th>35</th>\n",
              "      <td>0.973333</td>\n",
              "      <td>10</td>\n",
              "      <td>sigmoid</td>\n",
              "      <td>1</td>\n",
              "      <td>0.032660</td>\n",
              "    </tr>\n",
              "    <tr>\n",
              "      <th>51</th>\n",
              "      <td>0.973333</td>\n",
              "      <td>100</td>\n",
              "      <td>sigmoid</td>\n",
              "      <td>1</td>\n",
              "      <td>0.032660</td>\n",
              "    </tr>\n",
              "    <tr>\n",
              "      <th>33</th>\n",
              "      <td>0.973333</td>\n",
              "      <td>10</td>\n",
              "      <td>rbf</td>\n",
              "      <td>1</td>\n",
              "      <td>0.024944</td>\n",
              "    </tr>\n",
              "    <tr>\n",
              "      <th>53</th>\n",
              "      <td>0.973333</td>\n",
              "      <td>100</td>\n",
              "      <td>rbf</td>\n",
              "      <td>0.1</td>\n",
              "      <td>0.024944</td>\n",
              "    </tr>\n",
              "    <tr>\n",
              "      <th>55</th>\n",
              "      <td>0.966667</td>\n",
              "      <td>100</td>\n",
              "      <td>sigmoid</td>\n",
              "      <td>0.1</td>\n",
              "      <td>0.029814</td>\n",
              "    </tr>\n",
              "    <tr>\n",
              "      <th>34</th>\n",
              "      <td>0.966667</td>\n",
              "      <td>10</td>\n",
              "      <td>poly</td>\n",
              "      <td>1</td>\n",
              "      <td>0.029814</td>\n",
              "    </tr>\n",
              "    <tr>\n",
              "      <th>32</th>\n",
              "      <td>0.966667</td>\n",
              "      <td>10</td>\n",
              "      <td>linear</td>\n",
              "      <td>1</td>\n",
              "      <td>0.029814</td>\n",
              "    </tr>\n",
              "    <tr>\n",
              "      <th>36</th>\n",
              "      <td>0.966667</td>\n",
              "      <td>10</td>\n",
              "      <td>linear</td>\n",
              "      <td>0.1</td>\n",
              "      <td>0.029814</td>\n",
              "    </tr>\n",
              "    <tr>\n",
              "      <th>40</th>\n",
              "      <td>0.966667</td>\n",
              "      <td>10</td>\n",
              "      <td>linear</td>\n",
              "      <td>0.01</td>\n",
              "      <td>0.029814</td>\n",
              "    </tr>\n",
              "    <tr>\n",
              "      <th>44</th>\n",
              "      <td>0.966667</td>\n",
              "      <td>10</td>\n",
              "      <td>linear</td>\n",
              "      <td>0.001</td>\n",
              "      <td>0.029814</td>\n",
              "    </tr>\n",
              "    <tr>\n",
              "      <th>49</th>\n",
              "      <td>0.960000</td>\n",
              "      <td>100</td>\n",
              "      <td>rbf</td>\n",
              "      <td>1</td>\n",
              "      <td>0.038873</td>\n",
              "    </tr>\n",
              "    <tr>\n",
              "      <th>50</th>\n",
              "      <td>0.960000</td>\n",
              "      <td>100</td>\n",
              "      <td>poly</td>\n",
              "      <td>1</td>\n",
              "      <td>0.038873</td>\n",
              "    </tr>\n",
              "    <tr>\n",
              "      <th>3</th>\n",
              "      <td>0.960000</td>\n",
              "      <td>0.1</td>\n",
              "      <td>sigmoid</td>\n",
              "      <td>1</td>\n",
              "      <td>0.032660</td>\n",
              "    </tr>\n",
              "    <tr>\n",
              "      <th>7</th>\n",
              "      <td>0.960000</td>\n",
              "      <td>0.1</td>\n",
              "      <td>sigmoid</td>\n",
              "      <td>0.1</td>\n",
              "      <td>0.032660</td>\n",
              "    </tr>\n",
              "    <tr>\n",
              "      <th>11</th>\n",
              "      <td>0.960000</td>\n",
              "      <td>0.1</td>\n",
              "      <td>sigmoid</td>\n",
              "      <td>0.01</td>\n",
              "      <td>0.032660</td>\n",
              "    </tr>\n",
              "  </tbody>\n",
              "</table>\n",
              "</div>\n",
              "      <button class=\"colab-df-convert\" onclick=\"convertToInteractive('df-a1e319a6-ffcd-4cac-b478-7783538e6af5')\"\n",
              "              title=\"Convert this dataframe to an interactive table.\"\n",
              "              style=\"display:none;\">\n",
              "        \n",
              "  <svg xmlns=\"http://www.w3.org/2000/svg\" height=\"24px\"viewBox=\"0 0 24 24\"\n",
              "       width=\"24px\">\n",
              "    <path d=\"M0 0h24v24H0V0z\" fill=\"none\"/>\n",
              "    <path d=\"M18.56 5.44l.94 2.06.94-2.06 2.06-.94-2.06-.94-.94-2.06-.94 2.06-2.06.94zm-11 1L8.5 8.5l.94-2.06 2.06-.94-2.06-.94L8.5 2.5l-.94 2.06-2.06.94zm10 10l.94 2.06.94-2.06 2.06-.94-2.06-.94-.94-2.06-.94 2.06-2.06.94z\"/><path d=\"M17.41 7.96l-1.37-1.37c-.4-.4-.92-.59-1.43-.59-.52 0-1.04.2-1.43.59L10.3 9.45l-7.72 7.72c-.78.78-.78 2.05 0 2.83L4 21.41c.39.39.9.59 1.41.59.51 0 1.02-.2 1.41-.59l7.78-7.78 2.81-2.81c.8-.78.8-2.07 0-2.86zM5.41 20L4 18.59l7.72-7.72 1.47 1.35L5.41 20z\"/>\n",
              "  </svg>\n",
              "      </button>\n",
              "      \n",
              "  <style>\n",
              "    .colab-df-container {\n",
              "      display:flex;\n",
              "      flex-wrap:wrap;\n",
              "      gap: 12px;\n",
              "    }\n",
              "\n",
              "    .colab-df-convert {\n",
              "      background-color: #E8F0FE;\n",
              "      border: none;\n",
              "      border-radius: 50%;\n",
              "      cursor: pointer;\n",
              "      display: none;\n",
              "      fill: #1967D2;\n",
              "      height: 32px;\n",
              "      padding: 0 0 0 0;\n",
              "      width: 32px;\n",
              "    }\n",
              "\n",
              "    .colab-df-convert:hover {\n",
              "      background-color: #E2EBFA;\n",
              "      box-shadow: 0px 1px 2px rgba(60, 64, 67, 0.3), 0px 1px 3px 1px rgba(60, 64, 67, 0.15);\n",
              "      fill: #174EA6;\n",
              "    }\n",
              "\n",
              "    [theme=dark] .colab-df-convert {\n",
              "      background-color: #3B4455;\n",
              "      fill: #D2E3FC;\n",
              "    }\n",
              "\n",
              "    [theme=dark] .colab-df-convert:hover {\n",
              "      background-color: #434B5C;\n",
              "      box-shadow: 0px 1px 3px 1px rgba(0, 0, 0, 0.15);\n",
              "      filter: drop-shadow(0px 1px 2px rgba(0, 0, 0, 0.3));\n",
              "      fill: #FFFFFF;\n",
              "    }\n",
              "  </style>\n",
              "\n",
              "      <script>\n",
              "        const buttonEl =\n",
              "          document.querySelector('#df-a1e319a6-ffcd-4cac-b478-7783538e6af5 button.colab-df-convert');\n",
              "        buttonEl.style.display =\n",
              "          google.colab.kernel.accessAllowed ? 'block' : 'none';\n",
              "\n",
              "        async function convertToInteractive(key) {\n",
              "          const element = document.querySelector('#df-a1e319a6-ffcd-4cac-b478-7783538e6af5');\n",
              "          const dataTable =\n",
              "            await google.colab.kernel.invokeFunction('convertToInteractive',\n",
              "                                                     [key], {});\n",
              "          if (!dataTable) return;\n",
              "\n",
              "          const docLinkHtml = 'Like what you see? Visit the ' +\n",
              "            '<a target=\"_blank\" href=https://colab.research.google.com/notebooks/data_table.ipynb>data table notebook</a>'\n",
              "            + ' to learn more about interactive tables.';\n",
              "          element.innerHTML = '';\n",
              "          dataTable['output_type'] = 'display_data';\n",
              "          await google.colab.output.renderOutput(dataTable, element);\n",
              "          const docLink = document.createElement('div');\n",
              "          docLink.innerHTML = docLinkHtml;\n",
              "          element.appendChild(docLink);\n",
              "        }\n",
              "      </script>\n",
              "    </div>\n",
              "  </div>\n",
              "  "
            ]
          },
          "metadata": {},
          "execution_count": 59
        }
      ]
    },
    {
      "cell_type": "markdown",
      "source": [
        "The linear kernel with $C=1$ is not among the champions, so we did not so good in the initial fixed setting."
      ],
      "metadata": {
        "id": "N9jejw7-sE3E"
      }
    },
    {
      "cell_type": "markdown",
      "source": [
        "Recall the definition of [kernel functions](https://scikit-learn.org/dev/modules/svm.html#svm-kernels). The parameter $\\gamma$ is not used in the linear kernel. Since $\\gamma$ does not matter here, the best linear kernels with $C=10$ comes in four equally good paramerizations with $\\gamma \\in \\{1,0.1,0.01,0.001\\}$. Testing them adds to training time and is the drawback of using the grid search library instead of programming nested loops manually."
      ],
      "metadata": {
        "id": "U34FyGSzqItV"
      }
    }
  ]
}