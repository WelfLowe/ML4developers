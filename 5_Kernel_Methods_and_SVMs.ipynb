{
  "nbformat": 4,
  "nbformat_minor": 0,
  "metadata": {
    "colab": {
      "provenance": [],
      "authorship_tag": "ABX9TyPHRFA1VMD0hNLWixYLebe3",
      "include_colab_link": true
    },
    "kernelspec": {
      "name": "python3",
      "display_name": "Python 3"
    },
    "language_info": {
      "name": "python"
    }
  },
  "cells": [
    {
      "cell_type": "markdown",
      "metadata": {
        "id": "view-in-github",
        "colab_type": "text"
      },
      "source": [
        "<a href=\"https://colab.research.google.com/github/WelfLowe/ML4developers/blob/main/5_Kernel_Methods_and_SVMs.ipynb\" target=\"_parent\"><img src=\"https://colab.research.google.com/assets/colab-badge.svg\" alt=\"Open In Colab\"/></a>"
      ]
    },
    {
      "cell_type": "markdown",
      "source": [
        "# SVMs and parameter selection"
      ],
      "metadata": {
        "id": "PC6bqh7Cdxg_"
      }
    },
    {
      "cell_type": "markdown",
      "source": [
        "Here the entry point into the corresponding [sklearn documentation](https://scikit-learn.org/stable/modules/cross_validation.html)."
      ],
      "metadata": {
        "id": "Teiwff45rJ-k"
      }
    },
    {
      "cell_type": "markdown",
      "source": [
        "Import necessary libraries."
      ],
      "metadata": {
        "id": "mMsYZgNldoJe"
      }
    },
    {
      "cell_type": "code",
      "source": [
        "import pandas as pd\n",
        "from sklearn import datasets\n",
        "from sklearn import svm\n",
        "from sklearn import preprocessing\n",
        "from sklearn.model_selection import train_test_split\n",
        "from sklearn.model_selection import cross_val_score\n",
        "from sklearn.model_selection import GridSearchCV"
      ],
      "metadata": {
        "id": "_wPwQMvmdvQ-"
      },
      "execution_count": 9,
      "outputs": []
    },
    {
      "cell_type": "markdown",
      "source": [
        "Load Iris."
      ],
      "metadata": {
        "id": "WiQH92zMd7Sz"
      }
    },
    {
      "cell_type": "code",
      "source": [
        "iris = datasets.load_iris()\n",
        "X = iris.data\n",
        "y = iris.target\n",
        "X[0:5,:]"
      ],
      "metadata": {
        "colab": {
          "base_uri": "https://localhost:8080/"
        },
        "id": "TKngP1lQeAAI",
        "outputId": "8901a402-473b-4708-db8b-3c8f539850db"
      },
      "execution_count": 22,
      "outputs": [
        {
          "output_type": "execute_result",
          "data": {
            "text/plain": [
              "array([[5.1, 3.5, 1.4, 0.2],\n",
              "       [4.9, 3. , 1.4, 0.2],\n",
              "       [4.7, 3.2, 1.3, 0.2],\n",
              "       [4.6, 3.1, 1.5, 0.2],\n",
              "       [5. , 3.6, 1.4, 0.2]])"
            ]
          },
          "metadata": {},
          "execution_count": 22
        }
      ]
    },
    {
      "cell_type": "markdown",
      "source": [
        "SVM classifiers are (in contrast to other classifiers) sensitive to different value ranges of the predictors. Hence, it is suggested to normalize the predictors, here by dividing each feature value by the maximum value of that feature.\n",
        "\n",
        "**OBS**, normalization should be applied on both training and test datasets. However, \"training\" the normalizer function, herecalculating the maximum feature values should only be done on the training data set. We ignore this here in our example code.\n",
        "\n",
        "**OBS**, normalization does not always help actually. Find out how it works here in Iris by commenting out the below line and rerunning the notebook."
      ],
      "metadata": {
        "id": "qylWhRK-vnRY"
      }
    },
    {
      "cell_type": "code",
      "source": [
        "print(X.max(axis=0))\n",
        "X = preprocessing.normalize(X, axis =0, norm='max')\n",
        "X[0:5,:]"
      ],
      "metadata": {
        "colab": {
          "base_uri": "https://localhost:8080/"
        },
        "id": "m41eh_mCv86P",
        "outputId": "24be4285-80a9-4285-f6ec-44066990f97c"
      },
      "execution_count": 23,
      "outputs": [
        {
          "output_type": "stream",
          "name": "stdout",
          "text": [
            "[7.9 4.4 6.9 2.5]\n"
          ]
        },
        {
          "output_type": "execute_result",
          "data": {
            "text/plain": [
              "array([[0.64556962, 0.79545455, 0.20289855, 0.08      ],\n",
              "       [0.62025316, 0.68181818, 0.20289855, 0.08      ],\n",
              "       [0.59493671, 0.72727273, 0.1884058 , 0.08      ],\n",
              "       [0.58227848, 0.70454545, 0.2173913 , 0.08      ],\n",
              "       [0.63291139, 0.81818182, 0.20289855, 0.08      ]])"
            ]
          },
          "metadata": {},
          "execution_count": 23
        }
      ]
    },
    {
      "cell_type": "markdown",
      "source": [
        "Train an SVM model with fixed hyperparameters and assess the models using train-test splitting."
      ],
      "metadata": {
        "id": "e9SIhcxZe60o"
      }
    },
    {
      "cell_type": "code",
      "source": [
        "X_train, X_test, y_train, y_test = train_test_split(X, y, test_size=0.2, random_state=42) #random_state=2\n",
        "clf = svm.SVC(kernel='linear', C=1).fit(X_train, y_train)\n",
        "score = clf.score(X_test, y_test)\n",
        "score"
      ],
      "metadata": {
        "colab": {
          "base_uri": "https://localhost:8080/"
        },
        "id": "uxjHLZ5Ie7ap",
        "outputId": "5183c7b7-cd33-4beb-b2da-3d4454c0c8fe"
      },
      "execution_count": 12,
      "outputs": [
        {
          "output_type": "execute_result",
          "data": {
            "text/plain": [
              "1.0"
            ]
          },
          "metadata": {},
          "execution_count": 12
        }
      ]
    },
    {
      "cell_type": "markdown",
      "source": [
        "This suggests that the classifier is quite bad. Try different seeds and split sizes."
      ],
      "metadata": {
        "id": "NEaUAP5xrm3l"
      }
    },
    {
      "cell_type": "markdown",
      "source": [
        "Train SVM models with the same fixed hyperparameters and assess the models using 5-fold cross validation."
      ],
      "metadata": {
        "id": "opCEmkmteJ9I"
      }
    },
    {
      "cell_type": "code",
      "source": [
        "clf = svm.SVC(kernel='linear', C=1, random_state=42)\n",
        "scores = cross_val_score(clf, X, y, cv=5)\n",
        "scores"
      ],
      "metadata": {
        "colab": {
          "base_uri": "https://localhost:8080/"
        },
        "id": "qF9ZVP4deaP4",
        "outputId": "cb4bae97-0152-435c-f257-f4a878dabc29"
      },
      "execution_count": 13,
      "outputs": [
        {
          "output_type": "execute_result",
          "data": {
            "text/plain": [
              "array([0.96666667, 0.96666667, 0.93333333, 0.93333333, 1.        ])"
            ]
          },
          "metadata": {},
          "execution_count": 13
        }
      ]
    },
    {
      "cell_type": "markdown",
      "source": [
        "Calculating the mean score of all 5 folds (and its standard deviation)."
      ],
      "metadata": {
        "id": "jamryAJ3fn8A"
      }
    },
    {
      "cell_type": "code",
      "source": [
        "print(\"%0.2f accuracy with a standard deviation of %0.2f\" % (scores.mean(), scores.std()))"
      ],
      "metadata": {
        "colab": {
          "base_uri": "https://localhost:8080/"
        },
        "id": "bI-lHW7jfwMa",
        "outputId": "38837ad7-90f7-45fe-b4cb-49cdda36d97a"
      },
      "execution_count": 14,
      "outputs": [
        {
          "output_type": "stream",
          "name": "stdout",
          "text": [
            "0.96 accuracy with a standard deviation of 0.02\n"
          ]
        }
      ]
    },
    {
      "cell_type": "markdown",
      "source": [
        "Obviously, the train-test split is random and the accuracy varies with it. Averaging over several splits, as done with cross validation, reduces the uncertainty in the accuracy estimation. "
      ],
      "metadata": {
        "id": "laZ81wIjhM4N"
      }
    },
    {
      "cell_type": "markdown",
      "source": [
        "Still, we need to guess the hyperparamters, here the $C$ hyperparamters, i.e., the penalty parameter of the error term, and the selected kernel, each of which may or may not come with further hyperparameters, here $\\gamma$. "
      ],
      "metadata": {
        "id": "CpOT2M1miDsd"
      }
    },
    {
      "cell_type": "markdown",
      "source": [
        "Grid search in combination with cross validation approximates the optimum hyperparameter setting by systematically testing all combinations of a grid of hyperparameter values."
      ],
      "metadata": {
        "id": "gwaA4rtz9z7K"
      }
    },
    {
      "cell_type": "code",
      "source": [
        "parameters = {'kernel':['linear', 'rbf', 'poly', 'sigmoid'], 'C':[0.1, 1, 10, 100], 'gamma': [1,0.1,0.01,0.001]}\n",
        "svc = svm.SVC()\n",
        "clf = GridSearchCV(svc, parameters)\n",
        "clf.fit(X, y)\n",
        "GridSearchCV(estimator=svc, param_grid=parameters)\n",
        "sorted(clf.cv_results_.keys())"
      ],
      "metadata": {
        "colab": {
          "base_uri": "https://localhost:8080/"
        },
        "id": "xU_flMZHih2x",
        "outputId": "ff000969-81b6-4202-b108-fb3a0bbf96ba"
      },
      "execution_count": 15,
      "outputs": [
        {
          "output_type": "execute_result",
          "data": {
            "text/plain": [
              "['mean_fit_time',\n",
              " 'mean_score_time',\n",
              " 'mean_test_score',\n",
              " 'param_C',\n",
              " 'param_gamma',\n",
              " 'param_kernel',\n",
              " 'params',\n",
              " 'rank_test_score',\n",
              " 'split0_test_score',\n",
              " 'split1_test_score',\n",
              " 'split2_test_score',\n",
              " 'split3_test_score',\n",
              " 'split4_test_score',\n",
              " 'std_fit_time',\n",
              " 'std_score_time',\n",
              " 'std_test_score']"
            ]
          },
          "metadata": {},
          "execution_count": 15
        }
      ]
    },
    {
      "cell_type": "code",
      "source": [
        "df = pd.DataFrame.from_dict(clf.cv_results_)\n",
        "df[[\n",
        " 'mean_test_score',\n",
        " 'param_C',\n",
        " 'param_kernel',\n",
        " 'param_gamma',\n",
        " 'std_test_score']].sort_values([\n",
        " 'mean_test_score',\n",
        " 'std_test_score',\n",
        " 'param_kernel'],ascending=False).head(15)"
      ],
      "metadata": {
        "colab": {
          "base_uri": "https://localhost:8080/",
          "height": 520
        },
        "id": "QKjockAHj6yB",
        "outputId": "d7451ff0-1a15-4ebe-94c4-683112bd06bd"
      },
      "execution_count": 16,
      "outputs": [
        {
          "output_type": "execute_result",
          "data": {
            "text/plain": [
              "    mean_test_score param_C param_kernel param_gamma  std_test_score\n",
              "33         0.966667      10          rbf           1        0.029814\n",
              "53         0.966667     100          rbf         0.1        0.029814\n",
              "49         0.966667     100          rbf           1        0.042164\n",
              "50         0.966667     100         poly           1        0.042164\n",
              "48         0.966667     100       linear           1        0.042164\n",
              "52         0.966667     100       linear         0.1        0.042164\n",
              "56         0.966667     100       linear        0.01        0.042164\n",
              "60         0.966667     100       linear       0.001        0.042164\n",
              "55         0.960000     100      sigmoid         0.1        0.038873\n",
              "32         0.960000      10       linear           1        0.038873\n",
              "36         0.960000      10       linear         0.1        0.038873\n",
              "40         0.960000      10       linear        0.01        0.038873\n",
              "44         0.960000      10       linear       0.001        0.038873\n",
              "34         0.960000      10         poly           1        0.038873\n",
              "7          0.960000     0.1      sigmoid         0.1        0.024944"
            ],
            "text/html": [
              "\n",
              "  <div id=\"df-4dd124d6-61c9-4c2a-abde-aabfe4f41fdc\">\n",
              "    <div class=\"colab-df-container\">\n",
              "      <div>\n",
              "<style scoped>\n",
              "    .dataframe tbody tr th:only-of-type {\n",
              "        vertical-align: middle;\n",
              "    }\n",
              "\n",
              "    .dataframe tbody tr th {\n",
              "        vertical-align: top;\n",
              "    }\n",
              "\n",
              "    .dataframe thead th {\n",
              "        text-align: right;\n",
              "    }\n",
              "</style>\n",
              "<table border=\"1\" class=\"dataframe\">\n",
              "  <thead>\n",
              "    <tr style=\"text-align: right;\">\n",
              "      <th></th>\n",
              "      <th>mean_test_score</th>\n",
              "      <th>param_C</th>\n",
              "      <th>param_kernel</th>\n",
              "      <th>param_gamma</th>\n",
              "      <th>std_test_score</th>\n",
              "    </tr>\n",
              "  </thead>\n",
              "  <tbody>\n",
              "    <tr>\n",
              "      <th>33</th>\n",
              "      <td>0.966667</td>\n",
              "      <td>10</td>\n",
              "      <td>rbf</td>\n",
              "      <td>1</td>\n",
              "      <td>0.029814</td>\n",
              "    </tr>\n",
              "    <tr>\n",
              "      <th>53</th>\n",
              "      <td>0.966667</td>\n",
              "      <td>100</td>\n",
              "      <td>rbf</td>\n",
              "      <td>0.1</td>\n",
              "      <td>0.029814</td>\n",
              "    </tr>\n",
              "    <tr>\n",
              "      <th>49</th>\n",
              "      <td>0.966667</td>\n",
              "      <td>100</td>\n",
              "      <td>rbf</td>\n",
              "      <td>1</td>\n",
              "      <td>0.042164</td>\n",
              "    </tr>\n",
              "    <tr>\n",
              "      <th>50</th>\n",
              "      <td>0.966667</td>\n",
              "      <td>100</td>\n",
              "      <td>poly</td>\n",
              "      <td>1</td>\n",
              "      <td>0.042164</td>\n",
              "    </tr>\n",
              "    <tr>\n",
              "      <th>48</th>\n",
              "      <td>0.966667</td>\n",
              "      <td>100</td>\n",
              "      <td>linear</td>\n",
              "      <td>1</td>\n",
              "      <td>0.042164</td>\n",
              "    </tr>\n",
              "    <tr>\n",
              "      <th>52</th>\n",
              "      <td>0.966667</td>\n",
              "      <td>100</td>\n",
              "      <td>linear</td>\n",
              "      <td>0.1</td>\n",
              "      <td>0.042164</td>\n",
              "    </tr>\n",
              "    <tr>\n",
              "      <th>56</th>\n",
              "      <td>0.966667</td>\n",
              "      <td>100</td>\n",
              "      <td>linear</td>\n",
              "      <td>0.01</td>\n",
              "      <td>0.042164</td>\n",
              "    </tr>\n",
              "    <tr>\n",
              "      <th>60</th>\n",
              "      <td>0.966667</td>\n",
              "      <td>100</td>\n",
              "      <td>linear</td>\n",
              "      <td>0.001</td>\n",
              "      <td>0.042164</td>\n",
              "    </tr>\n",
              "    <tr>\n",
              "      <th>55</th>\n",
              "      <td>0.960000</td>\n",
              "      <td>100</td>\n",
              "      <td>sigmoid</td>\n",
              "      <td>0.1</td>\n",
              "      <td>0.038873</td>\n",
              "    </tr>\n",
              "    <tr>\n",
              "      <th>32</th>\n",
              "      <td>0.960000</td>\n",
              "      <td>10</td>\n",
              "      <td>linear</td>\n",
              "      <td>1</td>\n",
              "      <td>0.038873</td>\n",
              "    </tr>\n",
              "    <tr>\n",
              "      <th>36</th>\n",
              "      <td>0.960000</td>\n",
              "      <td>10</td>\n",
              "      <td>linear</td>\n",
              "      <td>0.1</td>\n",
              "      <td>0.038873</td>\n",
              "    </tr>\n",
              "    <tr>\n",
              "      <th>40</th>\n",
              "      <td>0.960000</td>\n",
              "      <td>10</td>\n",
              "      <td>linear</td>\n",
              "      <td>0.01</td>\n",
              "      <td>0.038873</td>\n",
              "    </tr>\n",
              "    <tr>\n",
              "      <th>44</th>\n",
              "      <td>0.960000</td>\n",
              "      <td>10</td>\n",
              "      <td>linear</td>\n",
              "      <td>0.001</td>\n",
              "      <td>0.038873</td>\n",
              "    </tr>\n",
              "    <tr>\n",
              "      <th>34</th>\n",
              "      <td>0.960000</td>\n",
              "      <td>10</td>\n",
              "      <td>poly</td>\n",
              "      <td>1</td>\n",
              "      <td>0.038873</td>\n",
              "    </tr>\n",
              "    <tr>\n",
              "      <th>7</th>\n",
              "      <td>0.960000</td>\n",
              "      <td>0.1</td>\n",
              "      <td>sigmoid</td>\n",
              "      <td>0.1</td>\n",
              "      <td>0.024944</td>\n",
              "    </tr>\n",
              "  </tbody>\n",
              "</table>\n",
              "</div>\n",
              "      <button class=\"colab-df-convert\" onclick=\"convertToInteractive('df-4dd124d6-61c9-4c2a-abde-aabfe4f41fdc')\"\n",
              "              title=\"Convert this dataframe to an interactive table.\"\n",
              "              style=\"display:none;\">\n",
              "        \n",
              "  <svg xmlns=\"http://www.w3.org/2000/svg\" height=\"24px\"viewBox=\"0 0 24 24\"\n",
              "       width=\"24px\">\n",
              "    <path d=\"M0 0h24v24H0V0z\" fill=\"none\"/>\n",
              "    <path d=\"M18.56 5.44l.94 2.06.94-2.06 2.06-.94-2.06-.94-.94-2.06-.94 2.06-2.06.94zm-11 1L8.5 8.5l.94-2.06 2.06-.94-2.06-.94L8.5 2.5l-.94 2.06-2.06.94zm10 10l.94 2.06.94-2.06 2.06-.94-2.06-.94-.94-2.06-.94 2.06-2.06.94z\"/><path d=\"M17.41 7.96l-1.37-1.37c-.4-.4-.92-.59-1.43-.59-.52 0-1.04.2-1.43.59L10.3 9.45l-7.72 7.72c-.78.78-.78 2.05 0 2.83L4 21.41c.39.39.9.59 1.41.59.51 0 1.02-.2 1.41-.59l7.78-7.78 2.81-2.81c.8-.78.8-2.07 0-2.86zM5.41 20L4 18.59l7.72-7.72 1.47 1.35L5.41 20z\"/>\n",
              "  </svg>\n",
              "      </button>\n",
              "      \n",
              "  <style>\n",
              "    .colab-df-container {\n",
              "      display:flex;\n",
              "      flex-wrap:wrap;\n",
              "      gap: 12px;\n",
              "    }\n",
              "\n",
              "    .colab-df-convert {\n",
              "      background-color: #E8F0FE;\n",
              "      border: none;\n",
              "      border-radius: 50%;\n",
              "      cursor: pointer;\n",
              "      display: none;\n",
              "      fill: #1967D2;\n",
              "      height: 32px;\n",
              "      padding: 0 0 0 0;\n",
              "      width: 32px;\n",
              "    }\n",
              "\n",
              "    .colab-df-convert:hover {\n",
              "      background-color: #E2EBFA;\n",
              "      box-shadow: 0px 1px 2px rgba(60, 64, 67, 0.3), 0px 1px 3px 1px rgba(60, 64, 67, 0.15);\n",
              "      fill: #174EA6;\n",
              "    }\n",
              "\n",
              "    [theme=dark] .colab-df-convert {\n",
              "      background-color: #3B4455;\n",
              "      fill: #D2E3FC;\n",
              "    }\n",
              "\n",
              "    [theme=dark] .colab-df-convert:hover {\n",
              "      background-color: #434B5C;\n",
              "      box-shadow: 0px 1px 3px 1px rgba(0, 0, 0, 0.15);\n",
              "      filter: drop-shadow(0px 1px 2px rgba(0, 0, 0, 0.3));\n",
              "      fill: #FFFFFF;\n",
              "    }\n",
              "  </style>\n",
              "\n",
              "      <script>\n",
              "        const buttonEl =\n",
              "          document.querySelector('#df-4dd124d6-61c9-4c2a-abde-aabfe4f41fdc button.colab-df-convert');\n",
              "        buttonEl.style.display =\n",
              "          google.colab.kernel.accessAllowed ? 'block' : 'none';\n",
              "\n",
              "        async function convertToInteractive(key) {\n",
              "          const element = document.querySelector('#df-4dd124d6-61c9-4c2a-abde-aabfe4f41fdc');\n",
              "          const dataTable =\n",
              "            await google.colab.kernel.invokeFunction('convertToInteractive',\n",
              "                                                     [key], {});\n",
              "          if (!dataTable) return;\n",
              "\n",
              "          const docLinkHtml = 'Like what you see? Visit the ' +\n",
              "            '<a target=\"_blank\" href=https://colab.research.google.com/notebooks/data_table.ipynb>data table notebook</a>'\n",
              "            + ' to learn more about interactive tables.';\n",
              "          element.innerHTML = '';\n",
              "          dataTable['output_type'] = 'display_data';\n",
              "          await google.colab.output.renderOutput(dataTable, element);\n",
              "          const docLink = document.createElement('div');\n",
              "          docLink.innerHTML = docLinkHtml;\n",
              "          element.appendChild(docLink);\n",
              "        }\n",
              "      </script>\n",
              "    </div>\n",
              "  </div>\n",
              "  "
            ]
          },
          "metadata": {},
          "execution_count": 16
        }
      ]
    },
    {
      "cell_type": "markdown",
      "source": [
        "The linear kernel with $C=1$ is not among the champions, so we did not so good in the initial fixed setting."
      ],
      "metadata": {
        "id": "N9jejw7-sE3E"
      }
    },
    {
      "cell_type": "markdown",
      "source": [
        "Recall the definition of [kernel functions](https://scikit-learn.org/dev/modules/svm.html#svm-kernels). The parameter $\\gamma$ is not used in the linear kernel. Since $\\gamma$ does not matter here, the best linear kernel with $C=10$ comes in four equally good paramerizations with $\\gamma \\in \\{1,0.1,0.01,0.001\\}$ (all ignored). Testing them adds to training time and is the drawback of using the grid search library instead of programming nested loops manually."
      ],
      "metadata": {
        "id": "U34FyGSzqItV"
      }
    }
  ]
}