{
  "nbformat": 4,
  "nbformat_minor": 0,
  "metadata": {
    "colab": {
      "provenance": [],
      "authorship_tag": "ABX9TyOA7yvsaxUYXR5W/FTS+K5F",
      "include_colab_link": true
    },
    "kernelspec": {
      "name": "python3",
      "display_name": "Python 3"
    },
    "language_info": {
      "name": "python"
    }
  },
  "cells": [
    {
      "cell_type": "markdown",
      "metadata": {
        "id": "view-in-github",
        "colab_type": "text"
      },
      "source": [
        "<a href=\"https://colab.research.google.com/github/WelfLowe/ML4developers/blob/main/2%E2%80%93Naive_Bayes_algorithm.ipynb\" target=\"_parent\"><img src=\"https://colab.research.google.com/assets/colab-badge.svg\" alt=\"Open In Colab\"/></a>"
      ]
    },
    {
      "cell_type": "markdown",
      "source": [
        "# Loading the Iris datasets"
      ],
      "metadata": {
        "id": "fNPMxqmZgetE"
      }
    },
    {
      "cell_type": "markdown",
      "source": [
        "The first steps are a copy of what we did in the $\\verb|1-Data_and_learning|$ notebook."
      ],
      "metadata": {
        "id": "PIOe1fuytwM-"
      }
    },
    {
      "cell_type": "markdown",
      "source": [
        "Import necessary libraries."
      ],
      "metadata": {
        "id": "gRVIlLETgyjq"
      }
    },
    {
      "cell_type": "code",
      "execution_count": 1,
      "metadata": {
        "id": "1GtCQGL0gUAc"
      },
      "outputs": [],
      "source": [
        "import numpy as np\n",
        "import pandas as pd\n",
        "import matplotlib.pyplot as plt\n",
        "from sklearn.datasets import load_iris\n",
        "from scipy.stats import norm\n",
        "from sklearn.metrics import confusion_matrix, plot_confusion_matrix\n",
        "from sklearn.model_selection import train_test_split"
      ]
    },
    {
      "cell_type": "markdown",
      "source": [
        "Load Iris dataset and convert it into a $\\verb|numpy|$ array."
      ],
      "metadata": {
        "id": "AeS68bNcg6wb"
      }
    },
    {
      "cell_type": "code",
      "source": [
        "iris = load_iris()\n",
        "print(iris.data.shape)\n",
        "print(iris.target.shape)\n",
        "print(iris.feature_names) "
      ],
      "metadata": {
        "colab": {
          "base_uri": "https://localhost:8080/"
        },
        "id": "PLHMS56XhAI9",
        "outputId": "be527b30-ff10-45f7-9360-35efafb4338f"
      },
      "execution_count": 2,
      "outputs": [
        {
          "output_type": "stream",
          "name": "stdout",
          "text": [
            "(150, 4)\n",
            "(150,)\n",
            "['sepal length (cm)', 'sepal width (cm)', 'petal length (cm)', 'petal width (cm)']\n"
          ]
        }
      ]
    },
    {
      "cell_type": "markdown",
      "source": [
        "Convert it to a $\\verb|pandas|$ dataframe."
      ],
      "metadata": {
        "id": "RdHH3WC_aiOE"
      }
    },
    {
      "cell_type": "code",
      "source": [
        "iris_df = pd.DataFrame(data= np.c_[iris['data'], iris['target']],columns= iris['feature_names'] + ['species'])\n",
        "iris_df"
      ],
      "metadata": {
        "colab": {
          "base_uri": "https://localhost:8080/",
          "height": 424
        },
        "id": "1QU8bq6gatEi",
        "outputId": "1212cde6-0783-43f4-cf68-5976070e450b"
      },
      "execution_count": 3,
      "outputs": [
        {
          "output_type": "execute_result",
          "data": {
            "text/plain": [
              "     sepal length (cm)  sepal width (cm)  petal length (cm)  petal width (cm)  \\\n",
              "0                  5.1               3.5                1.4               0.2   \n",
              "1                  4.9               3.0                1.4               0.2   \n",
              "2                  4.7               3.2                1.3               0.2   \n",
              "3                  4.6               3.1                1.5               0.2   \n",
              "4                  5.0               3.6                1.4               0.2   \n",
              "..                 ...               ...                ...               ...   \n",
              "145                6.7               3.0                5.2               2.3   \n",
              "146                6.3               2.5                5.0               1.9   \n",
              "147                6.5               3.0                5.2               2.0   \n",
              "148                6.2               3.4                5.4               2.3   \n",
              "149                5.9               3.0                5.1               1.8   \n",
              "\n",
              "     species  \n",
              "0        0.0  \n",
              "1        0.0  \n",
              "2        0.0  \n",
              "3        0.0  \n",
              "4        0.0  \n",
              "..       ...  \n",
              "145      2.0  \n",
              "146      2.0  \n",
              "147      2.0  \n",
              "148      2.0  \n",
              "149      2.0  \n",
              "\n",
              "[150 rows x 5 columns]"
            ],
            "text/html": [
              "\n",
              "  <div id=\"df-8724287a-ccd3-48ab-9062-71a78e570912\">\n",
              "    <div class=\"colab-df-container\">\n",
              "      <div>\n",
              "<style scoped>\n",
              "    .dataframe tbody tr th:only-of-type {\n",
              "        vertical-align: middle;\n",
              "    }\n",
              "\n",
              "    .dataframe tbody tr th {\n",
              "        vertical-align: top;\n",
              "    }\n",
              "\n",
              "    .dataframe thead th {\n",
              "        text-align: right;\n",
              "    }\n",
              "</style>\n",
              "<table border=\"1\" class=\"dataframe\">\n",
              "  <thead>\n",
              "    <tr style=\"text-align: right;\">\n",
              "      <th></th>\n",
              "      <th>sepal length (cm)</th>\n",
              "      <th>sepal width (cm)</th>\n",
              "      <th>petal length (cm)</th>\n",
              "      <th>petal width (cm)</th>\n",
              "      <th>species</th>\n",
              "    </tr>\n",
              "  </thead>\n",
              "  <tbody>\n",
              "    <tr>\n",
              "      <th>0</th>\n",
              "      <td>5.1</td>\n",
              "      <td>3.5</td>\n",
              "      <td>1.4</td>\n",
              "      <td>0.2</td>\n",
              "      <td>0.0</td>\n",
              "    </tr>\n",
              "    <tr>\n",
              "      <th>1</th>\n",
              "      <td>4.9</td>\n",
              "      <td>3.0</td>\n",
              "      <td>1.4</td>\n",
              "      <td>0.2</td>\n",
              "      <td>0.0</td>\n",
              "    </tr>\n",
              "    <tr>\n",
              "      <th>2</th>\n",
              "      <td>4.7</td>\n",
              "      <td>3.2</td>\n",
              "      <td>1.3</td>\n",
              "      <td>0.2</td>\n",
              "      <td>0.0</td>\n",
              "    </tr>\n",
              "    <tr>\n",
              "      <th>3</th>\n",
              "      <td>4.6</td>\n",
              "      <td>3.1</td>\n",
              "      <td>1.5</td>\n",
              "      <td>0.2</td>\n",
              "      <td>0.0</td>\n",
              "    </tr>\n",
              "    <tr>\n",
              "      <th>4</th>\n",
              "      <td>5.0</td>\n",
              "      <td>3.6</td>\n",
              "      <td>1.4</td>\n",
              "      <td>0.2</td>\n",
              "      <td>0.0</td>\n",
              "    </tr>\n",
              "    <tr>\n",
              "      <th>...</th>\n",
              "      <td>...</td>\n",
              "      <td>...</td>\n",
              "      <td>...</td>\n",
              "      <td>...</td>\n",
              "      <td>...</td>\n",
              "    </tr>\n",
              "    <tr>\n",
              "      <th>145</th>\n",
              "      <td>6.7</td>\n",
              "      <td>3.0</td>\n",
              "      <td>5.2</td>\n",
              "      <td>2.3</td>\n",
              "      <td>2.0</td>\n",
              "    </tr>\n",
              "    <tr>\n",
              "      <th>146</th>\n",
              "      <td>6.3</td>\n",
              "      <td>2.5</td>\n",
              "      <td>5.0</td>\n",
              "      <td>1.9</td>\n",
              "      <td>2.0</td>\n",
              "    </tr>\n",
              "    <tr>\n",
              "      <th>147</th>\n",
              "      <td>6.5</td>\n",
              "      <td>3.0</td>\n",
              "      <td>5.2</td>\n",
              "      <td>2.0</td>\n",
              "      <td>2.0</td>\n",
              "    </tr>\n",
              "    <tr>\n",
              "      <th>148</th>\n",
              "      <td>6.2</td>\n",
              "      <td>3.4</td>\n",
              "      <td>5.4</td>\n",
              "      <td>2.3</td>\n",
              "      <td>2.0</td>\n",
              "    </tr>\n",
              "    <tr>\n",
              "      <th>149</th>\n",
              "      <td>5.9</td>\n",
              "      <td>3.0</td>\n",
              "      <td>5.1</td>\n",
              "      <td>1.8</td>\n",
              "      <td>2.0</td>\n",
              "    </tr>\n",
              "  </tbody>\n",
              "</table>\n",
              "<p>150 rows × 5 columns</p>\n",
              "</div>\n",
              "      <button class=\"colab-df-convert\" onclick=\"convertToInteractive('df-8724287a-ccd3-48ab-9062-71a78e570912')\"\n",
              "              title=\"Convert this dataframe to an interactive table.\"\n",
              "              style=\"display:none;\">\n",
              "        \n",
              "  <svg xmlns=\"http://www.w3.org/2000/svg\" height=\"24px\"viewBox=\"0 0 24 24\"\n",
              "       width=\"24px\">\n",
              "    <path d=\"M0 0h24v24H0V0z\" fill=\"none\"/>\n",
              "    <path d=\"M18.56 5.44l.94 2.06.94-2.06 2.06-.94-2.06-.94-.94-2.06-.94 2.06-2.06.94zm-11 1L8.5 8.5l.94-2.06 2.06-.94-2.06-.94L8.5 2.5l-.94 2.06-2.06.94zm10 10l.94 2.06.94-2.06 2.06-.94-2.06-.94-.94-2.06-.94 2.06-2.06.94z\"/><path d=\"M17.41 7.96l-1.37-1.37c-.4-.4-.92-.59-1.43-.59-.52 0-1.04.2-1.43.59L10.3 9.45l-7.72 7.72c-.78.78-.78 2.05 0 2.83L4 21.41c.39.39.9.59 1.41.59.51 0 1.02-.2 1.41-.59l7.78-7.78 2.81-2.81c.8-.78.8-2.07 0-2.86zM5.41 20L4 18.59l7.72-7.72 1.47 1.35L5.41 20z\"/>\n",
              "  </svg>\n",
              "      </button>\n",
              "      \n",
              "  <style>\n",
              "    .colab-df-container {\n",
              "      display:flex;\n",
              "      flex-wrap:wrap;\n",
              "      gap: 12px;\n",
              "    }\n",
              "\n",
              "    .colab-df-convert {\n",
              "      background-color: #E8F0FE;\n",
              "      border: none;\n",
              "      border-radius: 50%;\n",
              "      cursor: pointer;\n",
              "      display: none;\n",
              "      fill: #1967D2;\n",
              "      height: 32px;\n",
              "      padding: 0 0 0 0;\n",
              "      width: 32px;\n",
              "    }\n",
              "\n",
              "    .colab-df-convert:hover {\n",
              "      background-color: #E2EBFA;\n",
              "      box-shadow: 0px 1px 2px rgba(60, 64, 67, 0.3), 0px 1px 3px 1px rgba(60, 64, 67, 0.15);\n",
              "      fill: #174EA6;\n",
              "    }\n",
              "\n",
              "    [theme=dark] .colab-df-convert {\n",
              "      background-color: #3B4455;\n",
              "      fill: #D2E3FC;\n",
              "    }\n",
              "\n",
              "    [theme=dark] .colab-df-convert:hover {\n",
              "      background-color: #434B5C;\n",
              "      box-shadow: 0px 1px 3px 1px rgba(0, 0, 0, 0.15);\n",
              "      filter: drop-shadow(0px 1px 2px rgba(0, 0, 0, 0.3));\n",
              "      fill: #FFFFFF;\n",
              "    }\n",
              "  </style>\n",
              "\n",
              "      <script>\n",
              "        const buttonEl =\n",
              "          document.querySelector('#df-8724287a-ccd3-48ab-9062-71a78e570912 button.colab-df-convert');\n",
              "        buttonEl.style.display =\n",
              "          google.colab.kernel.accessAllowed ? 'block' : 'none';\n",
              "\n",
              "        async function convertToInteractive(key) {\n",
              "          const element = document.querySelector('#df-8724287a-ccd3-48ab-9062-71a78e570912');\n",
              "          const dataTable =\n",
              "            await google.colab.kernel.invokeFunction('convertToInteractive',\n",
              "                                                     [key], {});\n",
              "          if (!dataTable) return;\n",
              "\n",
              "          const docLinkHtml = 'Like what you see? Visit the ' +\n",
              "            '<a target=\"_blank\" href=https://colab.research.google.com/notebooks/data_table.ipynb>data table notebook</a>'\n",
              "            + ' to learn more about interactive tables.';\n",
              "          element.innerHTML = '';\n",
              "          dataTable['output_type'] = 'display_data';\n",
              "          await google.colab.output.renderOutput(dataTable, element);\n",
              "          const docLink = document.createElement('div');\n",
              "          docLink.innerHTML = docLinkHtml;\n",
              "          element.appendChild(docLink);\n",
              "        }\n",
              "      </script>\n",
              "    </div>\n",
              "  </div>\n",
              "  "
            ]
          },
          "metadata": {},
          "execution_count": 3
        }
      ]
    },
    {
      "cell_type": "markdown",
      "source": [
        "Seperate the three classes."
      ],
      "metadata": {
        "id": "Gbh9Xjtyc-LM"
      }
    },
    {
      "cell_type": "code",
      "source": [
        "def filter_by_species(species_id, verbose):\n",
        "  s =  iris_df['species']==species_id\n",
        "  s = iris_df[s]\n",
        "  s = s.drop('species', axis=1)\n",
        "  if verbose:\n",
        "    print(s.head())\n",
        "  return s"
      ],
      "metadata": {
        "id": "H5jymHSBdBRM"
      },
      "execution_count": 4,
      "outputs": []
    },
    {
      "cell_type": "code",
      "source": [
        "setosa = filter_by_species(0.0, True)\n",
        "versicolor = filter_by_species(1.0, False)\n",
        "virginica = filter_by_species(2.0, False)"
      ],
      "metadata": {
        "colab": {
          "base_uri": "https://localhost:8080/"
        },
        "id": "saVh-dH3ekLr",
        "outputId": "9f02b315-c8f8-4065-87fd-2247c9530860"
      },
      "execution_count": 5,
      "outputs": [
        {
          "output_type": "stream",
          "name": "stdout",
          "text": [
            "   sepal length (cm)  sepal width (cm)  petal length (cm)  petal width (cm)\n",
            "0                5.1               3.5                1.4               0.2\n",
            "1                4.9               3.0                1.4               0.2\n",
            "2                4.7               3.2                1.3               0.2\n",
            "3                4.6               3.1                1.5               0.2\n",
            "4                5.0               3.6                1.4               0.2\n"
          ]
        }
      ]
    },
    {
      "cell_type": "markdown",
      "source": [
        "Boxplots of the feature values of the different species."
      ],
      "metadata": {
        "id": "t6ZZ8-0Bf57n"
      }
    },
    {
      "cell_type": "code",
      "source": [
        "setosa.boxplot()"
      ],
      "metadata": {
        "colab": {
          "base_uri": "https://localhost:8080/",
          "height": 284
        },
        "id": "LEPl3t3ke9TB",
        "outputId": "8d3d4cfb-d614-4c8e-91fe-ce30193ecff9"
      },
      "execution_count": 6,
      "outputs": [
        {
          "output_type": "execute_result",
          "data": {
            "text/plain": [
              "<matplotlib.axes._subplots.AxesSubplot at 0x7f85608cae90>"
            ]
          },
          "metadata": {},
          "execution_count": 6
        },
        {
          "output_type": "display_data",
          "data": {
            "text/plain": [
              "<Figure size 432x288 with 1 Axes>"
            ],
            "image/png": "[encoded data removed]"
          },
          "metadata": {
            "needs_background": "light"
          }
        }
      ]
    },
    {
      "cell_type": "code",
      "source": [
        "versicolor.boxplot()"
      ],
      "metadata": {
        "colab": {
          "base_uri": "https://localhost:8080/",
          "height": 283
        },
        "id": "rI2Eoqb0gHvH",
        "outputId": "a7dd8a64-a35e-4490-bb78-25b5cb68733d"
      },
      "execution_count": 7,
      "outputs": [
        {
          "output_type": "execute_result",
          "data": {
            "text/plain": [
              "<matplotlib.axes._subplots.AxesSubplot at 0x7f856077c210>"
            ]
          },
          "metadata": {},
          "execution_count": 7
        },
        {
          "output_type": "display_data",
          "data": {
            "text/plain": [
              "<Figure size 432x288 with 1 Axes>"
            ],
            "image/png": "[encoded data removed]"
          },
          "metadata": {
            "needs_background": "light"
          }
        }
      ]
    },
    {
      "cell_type": "code",
      "source": [
        "virginica.boxplot()"
      ],
      "metadata": {
        "colab": {
          "base_uri": "https://localhost:8080/",
          "height": 283
        },
        "id": "-bSmBoxhgOlw",
        "outputId": "25464c56-20d7-4ab7-d57c-1b7cadd85d79"
      },
      "execution_count": 8,
      "outputs": [
        {
          "output_type": "execute_result",
          "data": {
            "text/plain": [
              "<matplotlib.axes._subplots.AxesSubplot at 0x7f8560273b10>"
            ]
          },
          "metadata": {},
          "execution_count": 8
        },
        {
          "output_type": "display_data",
          "data": {
            "text/plain": [
              "<Figure size 432x288 with 1 Axes>"
            ],
            "image/png": "[encoded data removed]"
          },
          "metadata": {
            "needs_background": "light"
          }
        }
      ]
    },
    {
      "cell_type": "markdown",
      "source": [
        "## Univariate case"
      ],
      "metadata": {
        "id": "ltqur2Squl6W"
      }
    },
    {
      "cell_type": "markdown",
      "source": [
        "Looking at the box plots, petal length seems to be a distinctive feature to separate the therr classes. Therefore, we pick this one for our simple unimodal classifier, i.e., a classifier just looking at one attribute.\n",
        "\n",
        "We create numpy arrays of the petal length column (2) of the respective data frame."
      ],
      "metadata": {
        "id": "M9BPWqZfuqDw"
      }
    },
    {
      "cell_type": "code",
      "source": [
        "# values converts it into a numpy array\n",
        "# -1 means that calculate the dimension of rows, but have 1 column\n",
        "setosa_petal_length = setosa.iloc[:, 2].values.reshape(-1, 1)  \n",
        "versicolor_petal_length = versicolor.iloc[:, 2].values.reshape(-1, 1)  \n",
        "virginica_petal_length = virginica.iloc[:, 2].values.reshape(-1, 1)  "
      ],
      "metadata": {
        "id": "ulftSRZtvMrt"
      },
      "execution_count": 9,
      "outputs": []
    },
    {
      "cell_type": "markdown",
      "source": [
        "Our training function merely uses the $\\verb|fit|$ function that is predefined in the $\\verb|norm|$ library. Note, that we imported the corresponding libarary: $\\verb|from scipy.stats import norm|$.\n",
        "\n",
        "Optionally, we then plot the trained model, a fitted normal distribution given by $\\mu$ and $\\sigma$ together with a histogram of all datapoints using again the plotting libarary."
      ],
      "metadata": {
        "id": "GVkpzfhvxUgV"
      }
    },
    {
      "cell_type": "code",
      "source": [
        "def fit_normal(X, verbose):\n",
        "    mu, std = norm.fit(X)\n",
        "    if verbose:\n",
        "        # Plot the histogram.\n",
        "        plt.hist(X, bins=10, density=True, alpha=0.6, color='b')\n",
        "        # Plot the PDF.\n",
        "        xmin, xmax = plt.xlim()\n",
        "        x = np.linspace(xmin, xmax, 100)\n",
        "        p = norm.pdf(x, mu, std)\n",
        "        plt.plot(x, p, linewidth=2, color='red')\n",
        "        title = \"Fit Values: mu {:.2f} and sigma {:.2f}\".format(mu, std)\n",
        "        plt.title(title)\n",
        "        plt.show()\n",
        "    return mu, std"
      ],
      "metadata": {
        "id": "84h0gJoSyEmn"
      },
      "execution_count": 10,
      "outputs": []
    },
    {
      "cell_type": "markdown",
      "source": [
        "Then we can train the model."
      ],
      "metadata": {
        "id": "Y9T-YnqPyPGw"
      }
    },
    {
      "cell_type": "code",
      "source": [
        "mu_setosa, sigma_setosa = fit_normal(setosa_petal_length, True)"
      ],
      "metadata": {
        "colab": {
          "base_uri": "https://localhost:8080/",
          "height": 281
        },
        "id": "Jc0gGCVCyZLE",
        "outputId": "c1a187b5-57c3-48cd-cc32-ddf8183939e0"
      },
      "execution_count": 11,
      "outputs": [
        {
          "output_type": "display_data",
          "data": {
            "text/plain": [
              "<Figure size 432x288 with 1 Axes>"
            ],
            "image/png": "[encoded data removed]"
          },
          "metadata": {
            "needs_background": "light"
          }
        }
      ]
    },
    {
      "cell_type": "code",
      "source": [
        "mu_versicolor, sigma_versicolor = fit_normal(versicolor_petal_length, True)"
      ],
      "metadata": {
        "colab": {
          "base_uri": "https://localhost:8080/",
          "height": 281
        },
        "id": "Pt7000TDzROH",
        "outputId": "2c6e07ef-bb91-41a6-d658-409cfae7b0a3"
      },
      "execution_count": 12,
      "outputs": [
        {
          "output_type": "display_data",
          "data": {
            "text/plain": [
              "<Figure size 432x288 with 1 Axes>"
            ],
            "image/png": "[encoded data removed]"
          },
          "metadata": {
            "needs_background": "light"
          }
        }
      ]
    },
    {
      "cell_type": "code",
      "source": [
        "mu_virginica, sigma_virginica = fit_normal(virginica_petal_length, True)"
      ],
      "metadata": {
        "colab": {
          "base_uri": "https://localhost:8080/",
          "height": 281
        },
        "id": "p1Jw9fB9zYXO",
        "outputId": "994840f3-7c1d-49c7-81ad-24107c16a4eb"
      },
      "execution_count": 13,
      "outputs": [
        {
          "output_type": "display_data",
          "data": {
            "text/plain": [
              "<Figure size 432x288 with 1 Axes>"
            ],
            "image/png": "[encoded data removed]"
          },
          "metadata": {
            "needs_background": "light"
          }
        }
      ]
    },
    {
      "cell_type": "markdown",
      "source": [
        "We don't have any prior knowledge about the probability of each class. In the training data, it is one third of each class. Multiplication with this class probability does not chaneg the decision. Hence, our unimodal model is ready."
      ],
      "metadata": {
        "id": "To1cO7FTzi3n"
      }
    },
    {
      "cell_type": "markdown",
      "source": [
        "Let's visualize it. We define a visualization function ..."
      ],
      "metadata": {
        "id": "NjoeqM4lz6Gp"
      }
    },
    {
      "cell_type": "code",
      "source": [
        "def plot_norm(mus, sigmas, cc):\n",
        "    low = mus[0]-4*sigmas[0]\n",
        "    high = mus[0]+4*sigmas[0]\n",
        "    for i in range(1,len(mus)):\n",
        "        low = min(low, mus[i]-4*sigmas[i])\n",
        "        high = max(high, mus[i]+4*sigmas[i])\n",
        "    x_axis = np.arange(low, high, 0.1)\n",
        "    for i in range(0,len(mus)):\n",
        "        plt.plot(x_axis, norm.pdf(x_axis, mus[i], sigmas[i]), cc[i])\n",
        "    plt.show()"
      ],
      "metadata": {
        "id": "6M41SXkJz-FY"
      },
      "execution_count": 14,
      "outputs": []
    },
    {
      "cell_type": "markdown",
      "source": [
        "... call it for plotting the length distributions in one figure."
      ],
      "metadata": {
        "id": "H_GG30uc0_ZM"
      }
    },
    {
      "cell_type": "code",
      "source": [
        "plot_norm([mu_setosa,mu_versicolor, mu_virginica],[sigma_setosa,sigma_versicolor, sigma_virginica], ['r','g','b'])"
      ],
      "metadata": {
        "colab": {
          "base_uri": "https://localhost:8080/",
          "height": 265
        },
        "id": "-sjShuqN0-Qi",
        "outputId": "3d01fbb4-77bd-4b5e-9b35-7fe289e47fd9"
      },
      "execution_count": 15,
      "outputs": [
        {
          "output_type": "display_data",
          "data": {
            "text/plain": [
              "<Figure size 432x288 with 1 Axes>"
            ],
            "image/png": "[encoded data removed]"
          },
          "metadata": {
            "needs_background": "light"
          }
        }
      ]
    },
    {
      "cell_type": "markdown",
      "source": [
        "We define a function for using our model ..."
      ],
      "metadata": {
        "id": "DsOlwEav8Gr6"
      }
    },
    {
      "cell_type": "code",
      "source": [
        "def classify_unimodal (x, mus, sigmas, verbose):\n",
        "  max_p = 0\n",
        "  max_class = 0\n",
        "  for i in range(0,len(mus)):\n",
        "    p = norm.pdf(x, mus[i], sigmas[i])\n",
        "    if p > max_p:\n",
        "      max_p = p\n",
        "      max_class = i\n",
        "    if verbose:\n",
        "      print(p)\n",
        "  return max_p, max_class"
      ],
      "metadata": {
        "id": "zTyIgiBX5k4n"
      },
      "execution_count": 16,
      "outputs": []
    },
    {
      "cell_type": "markdown",
      "source": [
        "... and test it."
      ],
      "metadata": {
        "id": "XgUZAruE8L6B"
      }
    },
    {
      "cell_type": "code",
      "source": [
        "classify_unimodal(4.5, [mu_setosa,mu_versicolor, mu_virginica],[sigma_setosa,sigma_versicolor, sigma_virginica], True)"
      ],
      "metadata": {
        "colab": {
          "base_uri": "https://localhost:8080/"
        },
        "id": "6bD5f7568N0I",
        "outputId": "e6926310-9011-44bd-a359-5ce0323b7786"
      },
      "execution_count": 17,
      "outputs": [
        {
          "output_type": "stream",
          "name": "stdout",
          "text": [
            "3.606433780983755e-68\n",
            "0.7507278747953492\n",
            "0.11437879840353332\n"
          ]
        },
        {
          "output_type": "execute_result",
          "data": {
            "text/plain": [
              "(0.7507278747953492, 1)"
            ]
          },
          "metadata": {},
          "execution_count": 17
        }
      ]
    },
    {
      "cell_type": "markdown",
      "source": [
        "## Model validation"
      ],
      "metadata": {
        "id": "t-VqJugs9wXW"
      }
    },
    {
      "cell_type": "markdown",
      "source": [
        "We need to test the model on datapoint that haven't been used for training. Hence, we need to split the data into training and test data sets, retrain on the training data set and test on the test data set."
      ],
      "metadata": {
        "id": "LE_CwZ7G9zxl"
      }
    },
    {
      "cell_type": "code",
      "source": [
        "setosa_petal_length_train, setosa_petal_length_test = train_test_split(setosa_petal_length)\n",
        "versicolor_petal_length_train, versicolor_petal_length_test = train_test_split(versicolor_petal_length)\n",
        "virginica_petal_length_train, virginica_petal_length_test = train_test_split(virginica_petal_length)\n",
        "versicolor_petal_length_test.shape"
      ],
      "metadata": {
        "colab": {
          "base_uri": "https://localhost:8080/"
        },
        "id": "FUo5rDf3-MyL",
        "outputId": "07e0c96d-a19a-447b-f605-82843d360ff5"
      },
      "execution_count": 18,
      "outputs": [
        {
          "output_type": "execute_result",
          "data": {
            "text/plain": [
              "(13, 1)"
            ]
          },
          "metadata": {},
          "execution_count": 18
        }
      ]
    },
    {
      "cell_type": "markdown",
      "source": [
        "Retrain the model only on training data."
      ],
      "metadata": {
        "id": "rHgfjp6q-LQw"
      }
    },
    {
      "cell_type": "code",
      "source": [
        "mu_setosa, sigma_setosa = fit_normal(setosa_petal_length_train, True)\n",
        "mu_versicolor, sigma_versicolor = fit_normal(versicolor_petal_length_train, True)\n",
        "mu_virginica, sigma_virginica = fit_normal(virginica_petal_length_train, True)"
      ],
      "metadata": {
        "colab": {
          "base_uri": "https://localhost:8080/",
          "height": 809
        },
        "id": "4TEFXlIc5Ssw",
        "outputId": "308db6ca-180b-4ca9-f0e3-6105157ba41e"
      },
      "execution_count": 19,
      "outputs": [
        {
          "output_type": "display_data",
          "data": {
            "text/plain": [
              "<Figure size 432x288 with 1 Axes>"
            ],
            "image/png": "[encoded data removed]"
          },
          "metadata": {
            "needs_background": "light"
          }
        },
        {
          "output_type": "display_data",
          "data": {
            "text/plain": [
              "<Figure size 432x288 with 1 Axes>"
            ],
            "image/png": "[encoded data removed]"
          },
          "metadata": {
            "needs_background": "light"
          }
        },
        {
          "output_type": "display_data",
          "data": {
            "text/plain": [
              "<Figure size 432x288 with 1 Axes>"
            ],
            "image/png": "[encoded data removed]"
          },
          "metadata": {
            "needs_background": "light"
          }
        }
      ]
    },
    {
      "cell_type": "markdown",
      "source": [
        "Plot and test the model."
      ],
      "metadata": {
        "id": "Owxo8aFK5xcs"
      }
    },
    {
      "cell_type": "code",
      "source": [
        "plot_norm([mu_setosa,mu_versicolor, mu_virginica],[sigma_setosa,sigma_versicolor, sigma_virginica], ['r','g','b'])\n",
        "classify_unimodal(1.5, [mu_setosa,mu_versicolor, mu_virginica],[sigma_setosa,sigma_versicolor, sigma_virginica], True)"
      ],
      "metadata": {
        "colab": {
          "base_uri": "https://localhost:8080/",
          "height": 336
        },
        "id": "AOeP-gYs5vps",
        "outputId": "d21276d7-1b90-4561-e86d-35337013a5ae"
      },
      "execution_count": 20,
      "outputs": [
        {
          "output_type": "display_data",
          "data": {
            "text/plain": [
              "<Figure size 432x288 with 1 Axes>"
            ],
            "image/png": "[encoded data removed]"
          },
          "metadata": {
            "needs_background": "light"
          }
        },
        {
          "output_type": "stream",
          "name": "stdout",
          "text": [
            "2.0703470304623885\n",
            "4.0201696406789726e-07\n",
            "9.606121078850476e-13\n"
          ]
        },
        {
          "output_type": "execute_result",
          "data": {
            "text/plain": [
              "(2.0703470304623885, 0)"
            ]
          },
          "metadata": {},
          "execution_count": 20
        }
      ]
    },
    {
      "cell_type": "markdown",
      "source": [
        "Test on the test data set."
      ],
      "metadata": {
        "id": "yAbDbSh3Uk3i"
      }
    },
    {
      "cell_type": "code",
      "source": [
        "apply_model = lambda x: classify_unimodal(x, [mu_setosa,mu_versicolor, mu_virginica],[sigma_setosa,sigma_versicolor, sigma_virginica], False)\n",
        "setosa_pred = np.vectorize(apply_model)(setosa_petal_length_test)[1]\n",
        "versicolor_pred = np.vectorize(apply_model)(versicolor_petal_length_test)[1]\n",
        "virginica_pred = np.vectorize(apply_model)(virginica_petal_length_test)[1]\n",
        "setosa_pred"
      ],
      "metadata": {
        "colab": {
          "base_uri": "https://localhost:8080/"
        },
        "id": "tRaMcqY_7iyV",
        "outputId": "6786c505-35a0-4f19-ad55-50498e2ad403"
      },
      "execution_count": 21,
      "outputs": [
        {
          "output_type": "execute_result",
          "data": {
            "text/plain": [
              "array([[0],\n",
              "       [0],\n",
              "       [0],\n",
              "       [0],\n",
              "       [0],\n",
              "       [0],\n",
              "       [0],\n",
              "       [0],\n",
              "       [0],\n",
              "       [0],\n",
              "       [0],\n",
              "       [0],\n",
              "       [0]])"
            ]
          },
          "metadata": {},
          "execution_count": 21
        }
      ]
    },
    {
      "cell_type": "markdown",
      "source": [
        "Build an plot a confusion matrix."
      ],
      "metadata": {
        "id": "1Jj48bfGU_EU"
      }
    },
    {
      "cell_type": "code",
      "source": [
        "y_pred = np.concatenate((setosa_pred, versicolor_pred, virginica_pred), axis=0)\n",
        "n = setosa_pred.shape[0]\n",
        "y_act = np.concatenate((np.full((n, 1), 0), np.full((n, 1), 1), np.full((n, 1), 2)), axis=0)"
      ],
      "metadata": {
        "id": "a-QDOzoG_XmP"
      },
      "execution_count": 22,
      "outputs": []
    },
    {
      "cell_type": "code",
      "source": [
        "cm = confusion_matrix(y_act, y_pred)\n",
        "cm"
      ],
      "metadata": {
        "colab": {
          "base_uri": "https://localhost:8080/"
        },
        "id": "CsM7qyu0PbyY",
        "outputId": "87ec9262-1317-4ff3-e4a9-220a298fa525"
      },
      "execution_count": 23,
      "outputs": [
        {
          "output_type": "execute_result",
          "data": {
            "text/plain": [
              "array([[13,  0,  0],\n",
              "       [ 0, 12,  1],\n",
              "       [ 0,  2, 11]])"
            ]
          },
          "metadata": {},
          "execution_count": 23
        }
      ]
    },
    {
      "cell_type": "markdown",
      "source": [
        "Below a function for plotting a nice confusion matrix given a sklearn confusion matrix (cm), copied from [Kaggle](https://www.kaggle.com/code/grfiv4/plot-a-confusion-matrix)"
      ],
      "metadata": {
        "id": "rAVe9McoXTmn"
      }
    },
    {
      "cell_type": "code",
      "source": [
        "import itertools\n",
        "def plot_confusion_matrix(cm,\n",
        "                          target_names,\n",
        "                          title='Confusion matrix',\n",
        "                          cmap=None,\n",
        "                          normalize=True):\n",
        "    \"\"\"\n",
        "    Arguments\n",
        "    ---------\n",
        "    cm:           confusion matrix from sklearn.metrics.confusion_matrix\n",
        "    target_names: given classification classes such as [0, 1, 2]\n",
        "                  the class names, for example: ['high', 'medium', 'low']\n",
        "    title:        the text to display at the top of the matrix\n",
        "    cmap:         the gradient of the values displayed from matplotlib.pyplot.cm\n",
        "                  see http://matplotlib.org/examples/color/colormaps_reference.html\n",
        "                  plt.get_cmap('jet') or plt.cm.Blues\n",
        "    normalize:    If False, plot the raw numbers\n",
        "                  If True, plot the proportions\n",
        "    Usage\n",
        "    -----\n",
        "    plot_confusion_matrix(cm           = cm,                  # confusion matrix created by\n",
        "                                                              # sklearn.metrics.confusion_matrix\n",
        "                          normalize    = True,                # show proportions\n",
        "                          target_names = y_labels_vals,       # list of names of the classes\n",
        "                          title        = best_estimator_name) # title of graph\n",
        "\n",
        "    Citiation\n",
        "    ---------\n",
        "    http://scikit-learn.org/stable/auto_examples/model_selection/plot_confusion_matrix.html\n",
        "\n",
        "    \"\"\"\n",
        "    accuracy = np.trace(cm) / float(np.sum(cm))\n",
        "    misclass = 1 - accuracy\n",
        "\n",
        "    if cmap is None:\n",
        "        cmap = plt.get_cmap('Blues')\n",
        "\n",
        "    plt.figure(figsize=(8, 6))\n",
        "    plt.imshow(cm, interpolation='nearest', cmap=cmap)\n",
        "    plt.title(title)\n",
        "    plt.colorbar()\n",
        "\n",
        "    if target_names is not None:\n",
        "        tick_marks = np.arange(len(target_names))\n",
        "        plt.xticks(tick_marks, target_names, rotation=45)\n",
        "        plt.yticks(tick_marks, target_names)\n",
        "\n",
        "    if normalize:\n",
        "        cm = cm.astype('float') / cm.sum(axis=1)[:, np.newaxis]\n",
        "\n",
        "\n",
        "    thresh = cm.max() / 1.5 if normalize else cm.max() / 2\n",
        "    for i, j in itertools.product(range(cm.shape[0]), range(cm.shape[1])):\n",
        "        if normalize:\n",
        "            plt.text(j, i, \"{:0.4f}\".format(cm[i, j]),\n",
        "                     horizontalalignment=\"center\",\n",
        "                     color=\"white\" if cm[i, j] > thresh else \"black\")\n",
        "        else:\n",
        "            plt.text(j, i, \"{:,}\".format(cm[i, j]),\n",
        "                     horizontalalignment=\"center\",\n",
        "                     color=\"white\" if cm[i, j] > thresh else \"black\")\n",
        "\n",
        "\n",
        "    plt.tight_layout()\n",
        "    plt.ylabel('True label')\n",
        "    plt.xlabel('Predicted label\\naccuracy={:0.4f}; misclass={:0.4f}'.format(accuracy, misclass))\n",
        "    plt.show()"
      ],
      "metadata": {
        "id": "sV2qTvpEPxFE"
      },
      "execution_count": 24,
      "outputs": []
    },
    {
      "cell_type": "markdown",
      "source": [
        "We use it on our data."
      ],
      "metadata": {
        "id": "9rahUIkzYHzA"
      }
    },
    {
      "cell_type": "code",
      "source": [
        "plot_confusion_matrix(cm, ['setosa', 'versicolor', 'virginica'])"
      ],
      "metadata": {
        "colab": {
          "base_uri": "https://localhost:8080/",
          "height": 467
        },
        "id": "Cu_vWQm4Q71w",
        "outputId": "00962927-a808-42e0-ef29-4369b9d888c6"
      },
      "execution_count": 25,
      "outputs": [
        {
          "output_type": "display_data",
          "data": {
            "text/plain": [
              "<Figure size 576x432 with 2 Axes>"
            ],
            "image/png": "[encoded data removed]"
          },
          "metadata": {
            "needs_background": "light"
          }
        }
      ]
    },
    {
      "cell_type": "markdown",
      "source": [
        "## Multivariate case"
      ],
      "metadata": {
        "id": "ITmo4JSJUYbZ"
      }
    },
    {
      "cell_type": "markdown",
      "source": [
        "We create numpy arrays of all feature of the respective data frame."
      ],
      "metadata": {
        "id": "RjrFZyT31Kyy"
      }
    },
    {
      "cell_type": "code",
      "source": [
        "setosa_all = setosa.iloc[:, 0:4].values \n",
        "versicolor_all = versicolor.iloc[:, 0:4].values \n",
        "virginica_all = virginica.iloc[:, 0:4].values "
      ],
      "metadata": {
        "id": "1e4JDDGsU2Bx"
      },
      "execution_count": 26,
      "outputs": []
    },
    {
      "cell_type": "markdown",
      "source": [
        "Training and test split of all data."
      ],
      "metadata": {
        "id": "FpVxznQu12Y3"
      }
    },
    {
      "cell_type": "code",
      "source": [
        "setosa_train, setosa_test = train_test_split(setosa_all)\n",
        "versicolor_train, versicolor_test = train_test_split(versicolor_all)\n",
        "virginica_train, virginica_test = train_test_split(virginica_all)"
      ],
      "metadata": {
        "id": "ji2IBQ-Vfz2b"
      },
      "execution_count": 27,
      "outputs": []
    },
    {
      "cell_type": "markdown",
      "source": [
        "Training the model means fitting mean and standard deviation for each feature."
      ],
      "metadata": {
        "id": "TcRhcV7Z1_dV"
      }
    },
    {
      "cell_type": "code",
      "source": [
        "def fit_normal_multi(X):\n",
        "  N = X.shape[1]\n",
        "  model = np.zeros((N, 2))\n",
        "  for i in range(0,N):\n",
        "    mu, sigma = fit_normal(X[:,i], False)\n",
        "    model[i,0] = mu\n",
        "    model[i,1] = sigma\n",
        "  return model"
      ],
      "metadata": {
        "id": "C599b8i5V7qV"
      },
      "execution_count": 28,
      "outputs": []
    },
    {
      "cell_type": "markdown",
      "source": [
        "Training is called for each class separately."
      ],
      "metadata": {
        "id": "GXnuUEx62JJ4"
      }
    },
    {
      "cell_type": "code",
      "source": [
        "setosa_model = fit_normal_multi(setosa_train)\n",
        "versicolor_model = fit_normal_multi(versicolor_train)\n",
        "virginica_model = fit_normal_multi(virginica_train)"
      ],
      "metadata": {
        "id": "ODAN0OBGXg8A"
      },
      "execution_count": 29,
      "outputs": []
    },
    {
      "cell_type": "markdown",
      "source": [
        "Use the models to classify. Note that we avoid multiplication of near zero values by using $a \\times b=\\exp(\\log(a\\times b))=\\exp(\\log(a)+\\log(b))$."
      ],
      "metadata": {
        "id": "qUgKMvis2SoZ"
      }
    },
    {
      "cell_type": "code",
      "source": [
        "def classify_multi(x, models, verbose):\n",
        "  max_p = 0\n",
        "  max_class = 0\n",
        "  for i in range(0,len(models)): #for all classes\n",
        "    p=0\n",
        "    model = models[i]\n",
        "    for j in range(0,len(model)): #for all features\n",
        "      p = p+ np.log(norm.pdf(x[j], model[j,0], model[j,1])) \n",
        "    p = np.exp(p)\n",
        "    if p > max_p:\n",
        "      max_p = p\n",
        "      max_class = i\n",
        "    if verbose:\n",
        "      print(p)\n",
        "  return max_p, max_class"
      ],
      "metadata": {
        "id": "wAfkQyrgXZT3"
      },
      "execution_count": 30,
      "outputs": []
    },
    {
      "cell_type": "markdown",
      "source": [
        "Test model usage with a feature vector of ones."
      ],
      "metadata": {
        "id": "cEzTLxX23Zv6"
      }
    },
    {
      "cell_type": "code",
      "source": [
        "classify_multi([1,1,1,1], [setosa_model,versicolor_model,virginica_model], True)"
      ],
      "metadata": {
        "colab": {
          "base_uri": "https://localhost:8080/"
        },
        "id": "s0kikCEgcOA6",
        "outputId": "cd1dbb20-c3e1-40d5-e745-7716f85ee74a"
      },
      "execution_count": 31,
      "outputs": [
        {
          "output_type": "stream",
          "name": "stdout",
          "text": [
            "1.0909565610038411e-54\n",
            "1.592742060959044e-39\n",
            "8.281306911607106e-46\n"
          ]
        },
        {
          "output_type": "execute_result",
          "data": {
            "text/plain": [
              "(1.592742060959044e-39, 1)"
            ]
          },
          "metadata": {},
          "execution_count": 31
        }
      ]
    },
    {
      "cell_type": "markdown",
      "source": [
        "Define a fuction that can be applied on all feature verctor rows of the test dataset."
      ],
      "metadata": {
        "id": "IIWFFmQM3ldH"
      }
    },
    {
      "cell_type": "code",
      "source": [
        "apply_model_multi = lambda x: classify_multi(x, [setosa_model,versicolor_model,virginica_model], False)"
      ],
      "metadata": {
        "id": "Clf-9VeMdFj8"
      },
      "execution_count": 32,
      "outputs": []
    },
    {
      "cell_type": "markdown",
      "source": [
        "Classify the test dataset."
      ],
      "metadata": {
        "id": "k742s0pw3yNP"
      }
    },
    {
      "cell_type": "code",
      "source": [
        "setosa_pred = np.apply_along_axis(apply_model_multi, 1, setosa_test)[:,1]\n",
        "versicolor_pred = np.apply_along_axis(apply_model_multi, 1, versicolor_test)[:,1]\n",
        "virginica_pred = np.apply_along_axis(apply_model_multi, 1, virginica_test)[:,1]"
      ],
      "metadata": {
        "id": "u62Gb0XZerOb"
      },
      "execution_count": 33,
      "outputs": []
    },
    {
      "cell_type": "markdown",
      "source": [
        "Build a confusion matrix."
      ],
      "metadata": {
        "id": "5YxYr1WE33v7"
      }
    },
    {
      "cell_type": "code",
      "source": [
        "y_pred = np.concatenate((setosa_pred, versicolor_pred, virginica_pred), axis=0)\n",
        "cm = confusion_matrix(y_act, y_pred)\n",
        "cm"
      ],
      "metadata": {
        "colab": {
          "base_uri": "https://localhost:8080/"
        },
        "id": "DjmYbiSmd4N7",
        "outputId": "361d3b7d-973b-4835-b5d3-ed95d4d8aedd"
      },
      "execution_count": 34,
      "outputs": [
        {
          "output_type": "execute_result",
          "data": {
            "text/plain": [
              "array([[13,  0,  0],\n",
              "       [ 0, 13,  0],\n",
              "       [ 0,  2, 11]])"
            ]
          },
          "metadata": {},
          "execution_count": 34
        }
      ]
    },
    {
      "cell_type": "markdown",
      "source": [
        "Visualize the confusion matrix."
      ],
      "metadata": {
        "id": "ZyEj_j-F38QN"
      }
    },
    {
      "cell_type": "code",
      "source": [
        "plot_confusion_matrix(cm, ['setosa', 'versicolor', 'virginica'])"
      ],
      "metadata": {
        "colab": {
          "base_uri": "https://localhost:8080/",
          "height": 467
        },
        "id": "KBrFcPbmg5IY",
        "outputId": "87f2a040-04c5-4680-ce1f-e6f7fd609de5"
      },
      "execution_count": 35,
      "outputs": [
        {
          "output_type": "display_data",
          "data": {
            "text/plain": [
              "<Figure size 576x432 with 2 Axes>"
            ],
            "image/png": "[encoded data removed]"
          },
          "metadata": {
            "needs_background": "light"
          }
        }
      ]
    }
  ]
}